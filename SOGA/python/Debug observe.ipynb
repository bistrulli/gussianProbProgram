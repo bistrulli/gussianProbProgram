{
 "cells": [
  {
   "cell_type": "code",
   "execution_count": 1,
   "id": "particular-haiti",
   "metadata": {},
   "outputs": [],
   "source": [
    "from producecfg import *\n",
    "from libSOGA import *\n",
    "\n",
    "from time import time"
   ]
  },
  {
   "cell_type": "code",
   "execution_count": 14,
   "id": "split-little",
   "metadata": {},
   "outputs": [],
   "source": [
    "cfg = produce_cfg('Example2obs')"
   ]
  },
  {
   "cell_type": "code",
   "execution_count": 15,
   "id": "worth-europe",
   "metadata": {},
   "outputs": [
    {
     "data": {
      "text/plain": [
       "['delta1', 'delta2', 'x', 'y']"
      ]
     },
     "execution_count": 15,
     "metadata": {},
     "output_type": "execute_result"
    }
   ],
   "source": [
    "cfg.ID_list"
   ]
  },
  {
   "cell_type": "code",
   "execution_count": 16,
   "id": "split-paraguay",
   "metadata": {
    "scrolled": true
   },
   "outputs": [],
   "source": [
    "output_dist = start_SOGA(cfg)"
   ]
  },
  {
   "cell_type": "code",
   "execution_count": 17,
   "id": "about-arbitration",
   "metadata": {},
   "outputs": [
    {
     "data": {
      "text/plain": [
       "array([0.68244133, 0.03175587, 0.36151705, 1.38529757])"
      ]
     },
     "execution_count": 17,
     "metadata": {},
     "output_type": "execute_result"
    }
   ],
   "source": [
    "output_dist.gm.mean()"
   ]
  },
  {
   "cell_type": "code",
   "execution_count": 18,
   "id": "decent-aberdeen",
   "metadata": {},
   "outputs": [],
   "source": [
    "cfg = produce_cfg('Example2')"
   ]
  },
  {
   "cell_type": "code",
   "execution_count": 19,
   "id": "boxed-sellers",
   "metadata": {},
   "outputs": [
    {
     "data": {
      "text/plain": [
       "['delta1', 'delta2', 'obs', 'x', 'y', 'evx', 'evy', 'constr', 'joint']"
      ]
     },
     "execution_count": 19,
     "metadata": {},
     "output_type": "execute_result"
    }
   ],
   "source": [
    "cfg.ID_list"
   ]
  },
  {
   "cell_type": "code",
   "execution_count": 20,
   "id": "joint-asian",
   "metadata": {},
   "outputs": [],
   "source": [
    "output_dist = start_SOGA(cfg)"
   ]
  },
  {
   "cell_type": "code",
   "execution_count": 21,
   "id": "laden-maintenance",
   "metadata": {},
   "outputs": [
    {
     "data": {
      "text/plain": [
       "0.6824413333182243"
      ]
     },
     "execution_count": 21,
     "metadata": {},
     "output_type": "execute_result"
    }
   ],
   "source": [
    "mean = output_dist.gm.mean()\n",
    "mean[-1]/mean[-2]"
   ]
  },
  {
   "cell_type": "code",
   "execution_count": null,
   "id": "portable-better",
   "metadata": {},
   "outputs": [],
   "source": []
  }
 ],
 "metadata": {
  "kernelspec": {
   "display_name": "Python 3",
   "language": "python",
   "name": "python3"
  },
  "language_info": {
   "codemirror_mode": {
    "name": "ipython",
    "version": 3
   },
   "file_extension": ".py",
   "mimetype": "text/x-python",
   "name": "python",
   "nbconvert_exporter": "python",
   "pygments_lexer": "ipython3",
   "version": "3.8.5"
  },
  "toc": {
   "base_numbering": 1,
   "nav_menu": {},
   "number_sections": true,
   "sideBar": true,
   "skip_h1_title": false,
   "title_cell": "Table of Contents",
   "title_sidebar": "Contents",
   "toc_cell": false,
   "toc_position": {},
   "toc_section_display": true,
   "toc_window_display": false
  }
 },
 "nbformat": 4,
 "nbformat_minor": 5
}
