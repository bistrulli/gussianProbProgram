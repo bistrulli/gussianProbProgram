{
 "cells": [
  {
   "cell_type": "code",
   "execution_count": 1,
   "id": "mounted-progress",
   "metadata": {},
   "outputs": [],
   "source": [
    "from producecfg import *"
   ]
  },
  {
   "cell_type": "markdown",
   "id": "historic-maryland",
   "metadata": {},
   "source": [
    "# Luminance"
   ]
  },
  {
   "cell_type": "code",
   "execution_count": 3,
   "id": "absent-messenger",
   "metadata": {},
   "outputs": [],
   "source": [
    "cfg = produce_cfg('Luminance')"
   ]
  },
  {
   "cell_type": "code",
   "execution_count": 4,
   "id": "greek-virginia",
   "metadata": {},
   "outputs": [
    {
     "name": "stdout",
     "output_type": "stream",
     "text": [
      "['(entry,state0)', '(state0,test0)', '(test0,state1)', '(test0,state4)', '(state1,test1)', '(test1,state2)', '(test1,state3)', '(state2,merge0)', '(merge0,state5)', '(state5,exit)', '(state3,merge0)', '(state4,merge0)']\n"
     ]
    }
   ],
   "source": [
    "cfg.plot_edges()"
   ]
  },
  {
   "cell_type": "code",
   "execution_count": 5,
   "id": "minute-lecture",
   "metadata": {},
   "outputs": [
    {
     "data": {
      "text/plain": [
       "dict_keys(['state0', 'test0', 'state1', 'test1', 'state2', 'state3', 'state4', 'merge0', 'state5', 'exit'])"
      ]
     },
     "execution_count": 5,
     "metadata": {},
     "output_type": "execute_result"
    }
   ],
   "source": [
    "cfg.node_list.keys()"
   ]
  },
  {
   "cell_type": "code",
   "execution_count": 6,
   "id": "assured-complaint",
   "metadata": {},
   "outputs": [
    {
     "data": {
      "text/plain": [
       "'luminance=reflectance*illumination'"
      ]
     },
     "execution_count": 6,
     "metadata": {},
     "output_type": "execute_result"
    }
   ],
   "source": [
    "cfg.node_list['state0'].expr"
   ]
  },
  {
   "cell_type": "markdown",
   "id": "connected-assignment",
   "metadata": {},
   "source": [
    "# Indian GPA"
   ]
  },
  {
   "cell_type": "code",
   "execution_count": 7,
   "id": "greater-great",
   "metadata": {},
   "outputs": [],
   "source": [
    "cfg = produce_cfg('IndianGPA')"
   ]
  },
  {
   "cell_type": "code",
   "execution_count": 8,
   "id": "moving-carrier",
   "metadata": {},
   "outputs": [
    {
     "name": "stdout",
     "output_type": "stream",
     "text": [
      "['(entry,state0)', '(state0,test0)', '(test0,state1)', '(test0,state2)', '(state1,merge0)', '(merge0,test1)', '(test1,state3)', '(test1,state4)', '(state3,merge1)', '(merge1,test2)', '(test2,state5)', '(test2,state6)', '(state5,merge2)', '(merge2,state7)', '(state7,exit)', '(state6,merge2)', '(state4,merge1)', '(state2,merge0)']\n"
     ]
    }
   ],
   "source": [
    "cfg.plot_edges()"
   ]
  },
  {
   "cell_type": "code",
   "execution_count": 10,
   "id": "brazilian-topic",
   "metadata": {},
   "outputs": [
    {
     "data": {
      "text/plain": [
       "dict_keys(['state0', 'test0', 'state1', 'state2', 'merge0', 'test1', 'state3', 'state4', 'merge1', 'test2', 'state5', 'state6', 'merge2', 'state7', 'exit'])"
      ]
     },
     "execution_count": 10,
     "metadata": {},
     "output_type": "execute_result"
    }
   ],
   "source": [
    "cfg.node_list.keys()"
   ]
  },
  {
   "cell_type": "code",
   "execution_count": 11,
   "id": "animal-height",
   "metadata": {},
   "outputs": [
    {
     "data": {
      "text/plain": [
       "'usa=1'"
      ]
     },
     "execution_count": 11,
     "metadata": {},
     "output_type": "execute_result"
    }
   ],
   "source": [
    "cfg.node_list['state1'].expr"
   ]
  },
  {
   "cell_type": "markdown",
   "id": "conscious-locking",
   "metadata": {},
   "source": [
    "# Sources"
   ]
  },
  {
   "cell_type": "code",
   "execution_count": 12,
   "id": "informal-monte",
   "metadata": {},
   "outputs": [],
   "source": [
    "cfg = produce_cfg('Sources')"
   ]
  },
  {
   "cell_type": "markdown",
   "id": "liberal-sleeve",
   "metadata": {},
   "source": [
    "# Skills"
   ]
  },
  {
   "cell_type": "code",
   "execution_count": 15,
   "id": "final-trace",
   "metadata": {},
   "outputs": [],
   "source": [
    "cfg = produce_cfg('Skills')"
   ]
  },
  {
   "cell_type": "code",
   "execution_count": 17,
   "id": "spread-piece",
   "metadata": {},
   "outputs": [
    {
     "name": "stdout",
     "output_type": "stream",
     "text": [
      "['(entry,state0)', '(state0,state1)', '(state1,state2)', '(state2,state3)', '(state3,test0)', '(test0,state4)', '(test0,state7)', '(state4,test1)', '(test1,state5)', '(test1,state6)', '(state5,merge0)', '(merge0,test2)', '(test2,state8)', '(test2,state9)', '(state8,merge1)', '(merge1,state10)', '(state10,exit)', '(state9,merge1)', '(state6,merge0)', '(state7,merge0)']\n"
     ]
    }
   ],
   "source": [
    "cfg.plot_edges()"
   ]
  },
  {
   "cell_type": "code",
   "execution_count": null,
   "id": "growing-nightmare",
   "metadata": {},
   "outputs": [],
   "source": []
  }
 ],
 "metadata": {
  "kernelspec": {
   "display_name": "Python 3",
   "language": "python",
   "name": "python3"
  },
  "language_info": {
   "codemirror_mode": {
    "name": "ipython",
    "version": 3
   },
   "file_extension": ".py",
   "mimetype": "text/x-python",
   "name": "python",
   "nbconvert_exporter": "python",
   "pygments_lexer": "ipython3",
   "version": "3.8.5"
  },
  "toc": {
   "base_numbering": 1,
   "nav_menu": {},
   "number_sections": true,
   "sideBar": true,
   "skip_h1_title": false,
   "title_cell": "Table of Contents",
   "title_sidebar": "Contents",
   "toc_cell": false,
   "toc_position": {},
   "toc_section_display": true,
   "toc_window_display": false
  }
 },
 "nbformat": 4,
 "nbformat_minor": 5
}
