{
 "cells": [
  {
   "cell_type": "code",
   "execution_count": 1,
   "id": "mounted-progress",
   "metadata": {},
   "outputs": [],
   "source": [
    "from producecfg import *\n",
    "from libSOGA import *\n",
    "\n",
    "from time import time"
   ]
  },
  {
   "cell_type": "markdown",
   "id": "faced-rebel",
   "metadata": {},
   "source": [
    "# Bernoulli"
   ]
  },
  {
   "cell_type": "markdown",
   "id": "single-ambassador",
   "metadata": {},
   "source": [
    "true value: 0.25"
   ]
  },
  {
   "cell_type": "code",
   "execution_count": 2,
   "id": "rapid-scratch",
   "metadata": {},
   "outputs": [
    {
     "name": "stdout",
     "output_type": "stream",
     "text": [
      "Time to produce cfg:  0.020444393157958984\n"
     ]
    }
   ],
   "source": [
    "start = time()\n",
    "cfg = produce_cfg('Bernoulli')\n",
    "end = time()\n",
    "\n",
    "print('Time to produce cfg: ', end-start)"
   ]
  },
  {
   "cell_type": "code",
   "execution_count": 3,
   "id": "intelligent-interstate",
   "metadata": {},
   "outputs": [
    {
     "data": {
      "text/plain": [
       "['theta', 'y']"
      ]
     },
     "execution_count": 3,
     "metadata": {},
     "output_type": "execute_result"
    }
   ],
   "source": [
    "cfg.ID_list"
   ]
  },
  {
   "cell_type": "code",
   "execution_count": 4,
   "id": "failing-editing",
   "metadata": {
    "scrolled": false
   },
   "outputs": [
    {
     "name": "stdout",
     "output_type": "stream",
     "text": [
      "Computation completed in  10.440170073509217\n",
      "N. components: 1774\n"
     ]
    },
    {
     "data": {
      "text/plain": [
       "array([0.25191365, 1.        ])"
      ]
     },
     "execution_count": 4,
     "metadata": {},
     "output_type": "execute_result"
    }
   ],
   "source": [
    "times = []\n",
    "\n",
    "for i in range(10):\n",
    "    start = time()\n",
    "    output_dist = start_SOGA(cfg)\n",
    "    end = time()\n",
    "    times.append(end-start)\n",
    "\n",
    "print('Computation completed in ', np.mean(times))\n",
    "print('N. components:', output_dist.gm.n_comp())\n",
    "\n",
    "output_dist.gm.mean()"
   ]
  },
  {
   "cell_type": "markdown",
   "id": "induced-blues",
   "metadata": {},
   "source": [
    "### Pruning"
   ]
  },
  {
   "cell_type": "code",
   "execution_count": 5,
   "id": "individual-opinion",
   "metadata": {},
   "outputs": [
    {
     "name": "stdout",
     "output_type": "stream",
     "text": [
      "Time to produce cfg:  0.007208824157714844\n"
     ]
    }
   ],
   "source": [
    "start = time()\n",
    "cfg = produce_cfg('BernoulliPrune')\n",
    "end = time()\n",
    "\n",
    "print('Time to produce cfg: ', end-start)"
   ]
  },
  {
   "cell_type": "code",
   "execution_count": 6,
   "id": "dangerous-disposal",
   "metadata": {},
   "outputs": [
    {
     "name": "stdout",
     "output_type": "stream",
     "text": [
      "Computation completed in  3.8949867486953735\n",
      "N. components: 43\n"
     ]
    },
    {
     "data": {
      "text/plain": [
       "array([0.25191376, 1.        ])"
      ]
     },
     "execution_count": 6,
     "metadata": {},
     "output_type": "execute_result"
    }
   ],
   "source": [
    "times = []\n",
    "\n",
    "for i in range(10):\n",
    "    start = time()\n",
    "    output_dist = start_SOGA(cfg)\n",
    "    end = time()\n",
    "    times.append(end-start)\n",
    "\n",
    "print('Computation completed in ', np.mean(times))\n",
    "print('N. components:', output_dist.gm.n_comp())\n",
    "\n",
    "output_dist.gm.mean()"
   ]
  },
  {
   "cell_type": "markdown",
   "id": "satellite-reviewer",
   "metadata": {},
   "source": [
    "# CoinBias"
   ]
  },
  {
   "cell_type": "markdown",
   "id": "sorted-planet",
   "metadata": {},
   "source": [
    "true value: 0.417"
   ]
  },
  {
   "cell_type": "code",
   "execution_count": 7,
   "id": "romantic-details",
   "metadata": {
    "scrolled": true
   },
   "outputs": [
    {
     "name": "stdout",
     "output_type": "stream",
     "text": [
      "Time to produce cfg:  0.004755496978759766\n"
     ]
    }
   ],
   "source": [
    "start = time()\n",
    "cfg = produce_cfg('CoinBias')\n",
    "end = time()\n",
    "\n",
    "print('Time to produce cfg: ', end-start)"
   ]
  },
  {
   "cell_type": "code",
   "execution_count": 8,
   "id": "invalid-bread",
   "metadata": {},
   "outputs": [
    {
     "data": {
      "text/plain": [
       "['bias', 'y']"
      ]
     },
     "execution_count": 8,
     "metadata": {},
     "output_type": "execute_result"
    }
   ],
   "source": [
    "cfg.ID_list"
   ]
  },
  {
   "cell_type": "code",
   "execution_count": 9,
   "id": "weird-swift",
   "metadata": {},
   "outputs": [
    {
     "name": "stdout",
     "output_type": "stream",
     "text": [
      "Computation completed in  0.40234951972961425\n",
      "N. components: 64\n"
     ]
    },
    {
     "data": {
      "text/plain": [
       "array([0.41545796, 0.        ])"
      ]
     },
     "execution_count": 9,
     "metadata": {},
     "output_type": "execute_result"
    }
   ],
   "source": [
    "times = []\n",
    "\n",
    "for i in range(10):\n",
    "    start = time()\n",
    "    output_dist = start_SOGA(cfg)\n",
    "    end = time()\n",
    "    times.append(end-start)\n",
    "\n",
    "print('Computation completed in ', np.mean(times))\n",
    "print('N. components:', output_dist.gm.n_comp())\n",
    "\n",
    "output_dist.gm.mean()"
   ]
  },
  {
   "cell_type": "markdown",
   "id": "sacred-subject",
   "metadata": {},
   "source": [
    "### Pruning"
   ]
  },
  {
   "cell_type": "code",
   "execution_count": 10,
   "id": "destroyed-starter",
   "metadata": {},
   "outputs": [
    {
     "name": "stdout",
     "output_type": "stream",
     "text": [
      "Time to produce cfg:  0.012921571731567383\n"
     ]
    }
   ],
   "source": [
    "start = time()\n",
    "cfg = produce_cfg('CoinBiasPrune')\n",
    "end = time()\n",
    "\n",
    "print('Time to produce cfg: ', end-start)"
   ]
  },
  {
   "cell_type": "code",
   "execution_count": 11,
   "id": "forbidden-taste",
   "metadata": {},
   "outputs": [
    {
     "name": "stdout",
     "output_type": "stream",
     "text": [
      "Computation completed in  0.33314855098724366\n",
      "N. components: 11\n"
     ]
    },
    {
     "data": {
      "text/plain": [
       "array([0.41545809, 0.        ])"
      ]
     },
     "execution_count": 11,
     "metadata": {},
     "output_type": "execute_result"
    }
   ],
   "source": [
    "times = []\n",
    "\n",
    "for i in range(10):\n",
    "    start = time()\n",
    "    output_dist = start_SOGA(cfg)\n",
    "    end = time()\n",
    "    times.append(end-start)\n",
    "\n",
    "print('Computation completed in ', np.mean(times))\n",
    "print('N. components:', output_dist.gm.n_comp())\n",
    "\n",
    "output_dist.gm.mean()"
   ]
  },
  {
   "cell_type": "markdown",
   "id": "cross-investor",
   "metadata": {},
   "source": [
    "# Burglar"
   ]
  },
  {
   "cell_type": "markdown",
   "id": "loving-character",
   "metadata": {},
   "source": [
    "exact"
   ]
  },
  {
   "cell_type": "code",
   "execution_count": 12,
   "id": "meaning-split",
   "metadata": {},
   "outputs": [
    {
     "name": "stdout",
     "output_type": "stream",
     "text": [
      "Time to produce cfg:  0.004756450653076172\n"
     ]
    }
   ],
   "source": [
    "start = time()\n",
    "cfg = produce_cfg('Burglar')\n",
    "end = time()\n",
    "\n",
    "print('Time to produce cfg: ', end-start)"
   ]
  },
  {
   "cell_type": "code",
   "execution_count": 13,
   "id": "surface-exhibit",
   "metadata": {},
   "outputs": [
    {
     "name": "stdout",
     "output_type": "stream",
     "text": [
      "Computation completed in  0.18146200180053712\n",
      "N. components: 4\n"
     ]
    },
    {
     "data": {
      "text/plain": [
       "0.0029934492413055433"
      ]
     },
     "execution_count": 13,
     "metadata": {},
     "output_type": "execute_result"
    }
   ],
   "source": [
    "times = []\n",
    "\n",
    "for i in range(10):\n",
    "    start = time()\n",
    "    output_dist = start_SOGA(cfg)\n",
    "    end = time()\n",
    "    times.append(end-start)\n",
    "\n",
    "print('Computation completed in ', np.mean(times))\n",
    "print('N. components:', output_dist.gm.n_comp())\n",
    "\n",
    "output_dist.gm.mean()[1]"
   ]
  },
  {
   "cell_type": "markdown",
   "id": "split-cocktail",
   "metadata": {},
   "source": [
    "# MurderMistery"
   ]
  },
  {
   "cell_type": "markdown",
   "id": "continuous-effectiveness",
   "metadata": {},
   "source": [
    "exact"
   ]
  },
  {
   "cell_type": "code",
   "execution_count": 14,
   "id": "wanted-distinction",
   "metadata": {},
   "outputs": [
    {
     "name": "stdout",
     "output_type": "stream",
     "text": [
      "Time to produce cfg:  0.003997802734375\n"
     ]
    }
   ],
   "source": [
    "start = time()\n",
    "cfg = produce_cfg('MurderMistery')\n",
    "end = time()\n",
    "\n",
    "print('Time to produce cfg: ', end-start)"
   ]
  },
  {
   "cell_type": "code",
   "execution_count": 15,
   "id": "immune-laptop",
   "metadata": {},
   "outputs": [
    {
     "name": "stdout",
     "output_type": "stream",
     "text": [
      "Computation completed in  0.019902420043945313\n",
      "N. components: 2\n"
     ]
    },
    {
     "data": {
      "text/plain": [
       "array([0.01581722, 1.        ])"
      ]
     },
     "execution_count": 15,
     "metadata": {},
     "output_type": "execute_result"
    }
   ],
   "source": [
    "times = []\n",
    "\n",
    "for i in range(10):\n",
    "    start = time()\n",
    "    output_dist = start_SOGA(cfg)\n",
    "    end = time()\n",
    "    times.append(end-start)\n",
    "\n",
    "print('Computation completed in ', np.mean(times))\n",
    "print('N. components:', output_dist.gm.n_comp())\n",
    "\n",
    "output_dist.gm.mean()"
   ]
  },
  {
   "cell_type": "markdown",
   "id": "electoral-private",
   "metadata": {},
   "source": [
    "# Digit"
   ]
  },
  {
   "cell_type": "markdown",
   "id": "marked-budapest",
   "metadata": {},
   "source": [
    "true value ?"
   ]
  },
  {
   "cell_type": "code",
   "execution_count": 5,
   "id": "distinguished-family",
   "metadata": {
    "scrolled": true
   },
   "outputs": [
    {
     "name": "stdout",
     "output_type": "stream",
     "text": [
      "Time to produce cfg:  0.18636322021484375\n"
     ]
    }
   ],
   "source": [
    "start = time()\n",
    "cfg = produce_cfg('DigitRecognition')\n",
    "end = time()\n",
    "\n",
    "print('Time to produce cfg: ', end-start)"
   ]
  },
  {
   "cell_type": "code",
   "execution_count": 6,
   "id": "consistent-dispatch",
   "metadata": {},
   "outputs": [
    {
     "data": {
      "text/plain": [
       "['y', 'dig']"
      ]
     },
     "execution_count": 6,
     "metadata": {},
     "output_type": "execute_result"
    }
   ],
   "source": [
    "cfg.ID_list[:10]"
   ]
  },
  {
   "cell_type": "code",
   "execution_count": 7,
   "id": "crazy-active",
   "metadata": {
    "scrolled": true
   },
   "outputs": [
    {
     "name": "stdout",
     "output_type": "stream",
     "text": [
      "Computation completed in  22.836566066741945\n"
     ]
    },
    {
     "data": {
      "text/plain": [
       "4.4539341842632565"
      ]
     },
     "execution_count": 7,
     "metadata": {},
     "output_type": "execute_result"
    }
   ],
   "source": [
    "times = []\n",
    "\n",
    "for i in range(10):\n",
    "    start = time()\n",
    "    output_dist = start_SOGA(cfg)\n",
    "    end = time()\n",
    "    times.append(end-start)\n",
    "\n",
    "print('Computation completed in ', np.mean(times))\n",
    "\n",
    "output_dist.gm.mean()[0]"
   ]
  },
  {
   "cell_type": "code",
   "execution_count": 8,
   "id": "rural-telling",
   "metadata": {},
   "outputs": [
    {
     "data": {
      "text/plain": [
       "10"
      ]
     },
     "execution_count": 8,
     "metadata": {},
     "output_type": "execute_result"
    }
   ],
   "source": [
    "output_dist.gm.n_comp()"
   ]
  },
  {
   "cell_type": "markdown",
   "id": "affiliated-start",
   "metadata": {},
   "source": [
    "# Grass"
   ]
  },
  {
   "cell_type": "markdown",
   "id": "upper-trinidad",
   "metadata": {},
   "source": [
    "exact"
   ]
  },
  {
   "cell_type": "code",
   "execution_count": 19,
   "id": "educational-berry",
   "metadata": {},
   "outputs": [
    {
     "name": "stdout",
     "output_type": "stream",
     "text": [
      "Time to produce cfg:  0.01950836181640625\n"
     ]
    }
   ],
   "source": [
    "start = time()\n",
    "cfg = produce_cfg('Grass')\n",
    "end = time()\n",
    "\n",
    "print('Time to produce cfg: ', end-start)"
   ]
  },
  {
   "cell_type": "code",
   "execution_count": 20,
   "id": "identical-neighbor",
   "metadata": {},
   "outputs": [
    {
     "name": "stdout",
     "output_type": "stream",
     "text": [
      "Computation completed in  0.4887106418609619\n"
     ]
    },
    {
     "data": {
      "text/plain": [
       "0.7079276773296245"
      ]
     },
     "execution_count": 20,
     "metadata": {},
     "output_type": "execute_result"
    }
   ],
   "source": [
    "times = []\n",
    "\n",
    "for i in range(10):\n",
    "    start = time()\n",
    "    output_dist = start_SOGA(cfg)\n",
    "    end = time()\n",
    "    times.append(end-start)\n",
    "\n",
    "print('Computation completed in ', np.mean(times))\n",
    "\n",
    "output_dist.gm.mean()[1]"
   ]
  },
  {
   "cell_type": "markdown",
   "id": "beginning-colon",
   "metadata": {},
   "source": [
    "# NoisyOr"
   ]
  },
  {
   "cell_type": "markdown",
   "id": "random-employment",
   "metadata": {},
   "source": [
    "exact"
   ]
  },
  {
   "cell_type": "code",
   "execution_count": 21,
   "id": "mobile-makeup",
   "metadata": {},
   "outputs": [
    {
     "name": "stdout",
     "output_type": "stream",
     "text": [
      "Time to produce cfg:  0.017378807067871094\n"
     ]
    }
   ],
   "source": [
    "start = time()\n",
    "cfg = produce_cfg('NoisyOr')\n",
    "end = time()\n",
    "\n",
    "print('Time to produce cfg: ', end-start)"
   ]
  },
  {
   "cell_type": "code",
   "execution_count": 22,
   "id": "unique-sociology",
   "metadata": {},
   "outputs": [
    {
     "name": "stdout",
     "output_type": "stream",
     "text": [
      "Computation completed in  0.6974511861801147\n",
      "N. components: 256\n"
     ]
    },
    {
     "data": {
      "text/plain": [
       "0.8144187499999991"
      ]
     },
     "execution_count": 22,
     "metadata": {},
     "output_type": "execute_result"
    }
   ],
   "source": [
    "times = []\n",
    "\n",
    "for i in range(10):\n",
    "    start = time()\n",
    "    output_dist = start_SOGA(cfg)\n",
    "    end = time()\n",
    "    times.append(end-start)\n",
    "\n",
    "print('Computation completed in ', np.mean(times))\n",
    "print('N. components:', output_dist.gm.n_comp())\n",
    "\n",
    "output_dist.gm.mean()[-1]"
   ]
  },
  {
   "cell_type": "markdown",
   "id": "atomic-yellow",
   "metadata": {},
   "source": [
    "### Pruning\n",
    "\n",
    "(makes computational time longer)"
   ]
  },
  {
   "cell_type": "code",
   "execution_count": 23,
   "id": "surgical-stable",
   "metadata": {},
   "outputs": [
    {
     "name": "stdout",
     "output_type": "stream",
     "text": [
      "Time to produce cfg:  0.011020898818969727\n"
     ]
    }
   ],
   "source": [
    "start = time()\n",
    "cfg = produce_cfg('NoisyOrPrune')\n",
    "end = time()\n",
    "\n",
    "print('Time to produce cfg: ', end-start)"
   ]
  },
  {
   "cell_type": "code",
   "execution_count": 24,
   "id": "national-watts",
   "metadata": {},
   "outputs": [
    {
     "name": "stdout",
     "output_type": "stream",
     "text": [
      "Computation completed in  1.7147482872009276\n",
      "N. components: 10\n"
     ]
    },
    {
     "data": {
      "text/plain": [
       "0.8144187499999999"
      ]
     },
     "execution_count": 24,
     "metadata": {},
     "output_type": "execute_result"
    }
   ],
   "source": [
    "times = []\n",
    "\n",
    "for i in range(10):\n",
    "    start = time()\n",
    "    output_dist = start_SOGA(cfg)\n",
    "    end = time()\n",
    "    times.append(end-start)\n",
    "\n",
    "print('Computation completed in ', np.mean(times))\n",
    "print('N. components:', output_dist.gm.n_comp())\n",
    "\n",
    "output_dist.gm.mean()[-1]"
   ]
  },
  {
   "cell_type": "markdown",
   "id": "metallic-biotechnology",
   "metadata": {},
   "source": [
    "# SurveyUnbias"
   ]
  },
  {
   "cell_type": "markdown",
   "id": "phantom-catalyst",
   "metadata": {},
   "source": [
    "true value: 0.8"
   ]
  },
  {
   "cell_type": "code",
   "execution_count": 25,
   "id": "orange-isolation",
   "metadata": {},
   "outputs": [
    {
     "name": "stdout",
     "output_type": "stream",
     "text": [
      "Time to produce cfg:  0.008361339569091797\n"
     ]
    }
   ],
   "source": [
    "start = time()\n",
    "cfg = produce_cfg('SurveyUnbias')\n",
    "end = time()\n",
    "\n",
    "print('Time to produce cfg: ', end-start)"
   ]
  },
  {
   "cell_type": "code",
   "execution_count": 26,
   "id": "precious-trail",
   "metadata": {},
   "outputs": [
    {
     "data": {
      "text/plain": [
       "['bias1', 'bias2', 'ansb1', 'ansb2']"
      ]
     },
     "execution_count": 26,
     "metadata": {},
     "output_type": "execute_result"
    }
   ],
   "source": [
    "cfg.ID_list"
   ]
  },
  {
   "cell_type": "code",
   "execution_count": 27,
   "id": "significant-greenhouse",
   "metadata": {},
   "outputs": [
    {
     "name": "stdout",
     "output_type": "stream",
     "text": [
      "Computation completed in  0.8471679449081421\n",
      "N. components: 128\n"
     ]
    },
    {
     "data": {
      "text/plain": [
       "0.7987653829530976"
      ]
     },
     "execution_count": 27,
     "metadata": {},
     "output_type": "execute_result"
    }
   ],
   "source": [
    "times = []\n",
    "\n",
    "for i in range(10):\n",
    "    start = time()\n",
    "    output_dist = start_SOGA(cfg)\n",
    "    end = time()\n",
    "    times.append(end-start)\n",
    "\n",
    "print('Computation completed in ', np.mean(times))\n",
    "print('N. components:', output_dist.gm.n_comp())\n",
    "\n",
    "output_dist.gm.mean()[0]"
   ]
  },
  {
   "cell_type": "markdown",
   "id": "pacific-funeral",
   "metadata": {},
   "source": [
    "### Pruning"
   ]
  },
  {
   "cell_type": "code",
   "execution_count": 28,
   "id": "muslim-figure",
   "metadata": {},
   "outputs": [
    {
     "name": "stdout",
     "output_type": "stream",
     "text": [
      "Time to produce cfg:  0.007689714431762695\n"
     ]
    }
   ],
   "source": [
    "start = time()\n",
    "cfg = produce_cfg('SurveyUnbiasPrune')\n",
    "end = time()\n",
    "\n",
    "print('Time to produce cfg: ', end-start)"
   ]
  },
  {
   "cell_type": "code",
   "execution_count": 29,
   "id": "brief-taylor",
   "metadata": {},
   "outputs": [
    {
     "name": "stdout",
     "output_type": "stream",
     "text": [
      "Computation completed in  0.31405518054962156\n",
      "N. components: 5\n"
     ]
    },
    {
     "data": {
      "text/plain": [
       "0.7986450321840382"
      ]
     },
     "execution_count": 29,
     "metadata": {},
     "output_type": "execute_result"
    }
   ],
   "source": [
    "times = []\n",
    "\n",
    "for i in range(10):\n",
    "    start = time()\n",
    "    output_dist = start_SOGA(cfg)\n",
    "    end = time()\n",
    "    times.append(end-start)\n",
    "\n",
    "print('Computation completed in ', np.mean(times))\n",
    "print('N. components:', output_dist.gm.n_comp())\n",
    "\n",
    "output_dist.gm.mean()[0]"
   ]
  },
  {
   "cell_type": "markdown",
   "id": "dense-convertible",
   "metadata": {},
   "source": [
    "# TrueSkill"
   ]
  },
  {
   "cell_type": "markdown",
   "id": "isolated-library",
   "metadata": {},
   "source": [
    "true value: 0.843"
   ]
  },
  {
   "cell_type": "code",
   "execution_count": 30,
   "id": "fewer-position",
   "metadata": {},
   "outputs": [
    {
     "name": "stdout",
     "output_type": "stream",
     "text": [
      "Time to produce cfg:  0.006744861602783203\n"
     ]
    }
   ],
   "source": [
    "start = time()\n",
    "cfg = produce_cfg('TrueSkill')\n",
    "end = time()\n",
    "\n",
    "print('Time to produce cfg: ', end-start)"
   ]
  },
  {
   "cell_type": "code",
   "execution_count": 31,
   "id": "weekly-auckland",
   "metadata": {},
   "outputs": [
    {
     "name": "stdout",
     "output_type": "stream",
     "text": [
      "Computation completed in  0.09642543792724609\n",
      "N. components: 2\n"
     ]
    },
    {
     "data": {
      "text/plain": [
       "array([104.7131717 ,  97.60989161,  97.67693972, 115.31779335,\n",
       "        92.23214662,  92.45005544,   0.85297923])"
      ]
     },
     "execution_count": 31,
     "metadata": {},
     "output_type": "execute_result"
    }
   ],
   "source": [
    "times = []\n",
    "\n",
    "for i in range(10):\n",
    "    start = time()\n",
    "    output_dist = start_SOGA(cfg)\n",
    "    end = time()\n",
    "    times.append(end-start)\n",
    "\n",
    "print('Computation completed in ', np.mean(times))\n",
    "print('N. components:', output_dist.gm.n_comp())\n",
    "\n",
    "output_dist.gm.mean()"
   ]
  },
  {
   "cell_type": "markdown",
   "id": "virgin-promotion",
   "metadata": {},
   "source": [
    "# TwoCoins"
   ]
  },
  {
   "cell_type": "markdown",
   "id": "threaded-basic",
   "metadata": {},
   "source": [
    "exact"
   ]
  },
  {
   "cell_type": "code",
   "execution_count": 32,
   "id": "finite-bubble",
   "metadata": {},
   "outputs": [
    {
     "name": "stdout",
     "output_type": "stream",
     "text": [
      "Time to produce cfg:  0.0\n"
     ]
    }
   ],
   "source": [
    "start = time()\n",
    "cfg = produce_cfg('TwoCoins')\n",
    "end = time()\n",
    "\n",
    "print('Time to produce cfg: ', end-start)"
   ]
  },
  {
   "cell_type": "code",
   "execution_count": 33,
   "id": "mediterranean-deviation",
   "metadata": {},
   "outputs": [
    {
     "data": {
      "text/plain": [
       "['first', 'second', 'both']"
      ]
     },
     "execution_count": 33,
     "metadata": {},
     "output_type": "execute_result"
    }
   ],
   "source": [
    "cfg.ID_list"
   ]
  },
  {
   "cell_type": "code",
   "execution_count": 34,
   "id": "south-attitude",
   "metadata": {},
   "outputs": [
    {
     "name": "stdout",
     "output_type": "stream",
     "text": [
      "Computation completed in  0.032881879806518556\n",
      "N. components: 3\n"
     ]
    },
    {
     "data": {
      "text/plain": [
       "array([0.33333333, 0.33333333, 0.        ])"
      ]
     },
     "execution_count": 34,
     "metadata": {},
     "output_type": "execute_result"
    }
   ],
   "source": [
    "times = []\n",
    "\n",
    "for i in range(10):\n",
    "    start = time()\n",
    "    output_dist = start_SOGA(cfg)\n",
    "    end = time()\n",
    "    times.append(end-start)\n",
    "\n",
    "print('Computation completed in ', np.mean(times))\n",
    "print('N. components:', output_dist.gm.n_comp())\n",
    "\n",
    "output_dist.gm.mean()"
   ]
  },
  {
   "cell_type": "markdown",
   "id": "fatty-candy",
   "metadata": {},
   "source": [
    "# BayesPointMachine"
   ]
  },
  {
   "cell_type": "markdown",
   "id": "hungarian-rachel",
   "metadata": {},
   "source": [
    "true value: 0.056"
   ]
  },
  {
   "cell_type": "code",
   "execution_count": 35,
   "id": "fatty-detroit",
   "metadata": {},
   "outputs": [
    {
     "name": "stdout",
     "output_type": "stream",
     "text": [
      "Time to produce cfg:  0.015389204025268555\n"
     ]
    }
   ],
   "source": [
    "start = time()\n",
    "cfg = produce_cfg('BayesPointMachine')\n",
    "end = time()\n",
    "\n",
    "print('Time to produce cfg: ', end-start)"
   ]
  },
  {
   "cell_type": "code",
   "execution_count": 36,
   "id": "atomic-missouri",
   "metadata": {
    "scrolled": true
   },
   "outputs": [
    {
     "data": {
      "text/plain": [
       "['w[0]',\n",
       " 'w[1]',\n",
       " 'w[2]',\n",
       " 'mean[0]',\n",
       " 'mean[1]',\n",
       " 'mean[2]',\n",
       " 'mean[3]',\n",
       " 'mean[4]',\n",
       " 'mean[5]']"
      ]
     },
     "execution_count": 36,
     "metadata": {},
     "output_type": "execute_result"
    }
   ],
   "source": [
    "cfg.ID_list"
   ]
  },
  {
   "cell_type": "code",
   "execution_count": 37,
   "id": "received-report",
   "metadata": {
    "scrolled": true
   },
   "outputs": [
    {
     "name": "stdout",
     "output_type": "stream",
     "text": [
      "Computation completed in  2.336533045768738\n",
      "N. components: 1\n"
     ]
    }
   ],
   "source": [
    "times = []\n",
    "\n",
    "for i in range(10):\n",
    "    start = time()\n",
    "    output_dist = start_SOGA(cfg)\n",
    "    end = time()\n",
    "    times.append(end-start)\n",
    "\n",
    "print('Computation completed in ', np.mean(times))\n",
    "print('N. components:', output_dist.gm.n_comp())\n",
    "\n",
    "mean = output_dist.gm.mean()"
   ]
  },
  {
   "cell_type": "code",
   "execution_count": 38,
   "id": "rational-masters",
   "metadata": {},
   "outputs": [
    {
     "data": {
      "text/plain": [
       "0.01117729116231203"
      ]
     },
     "execution_count": 38,
     "metadata": {},
     "output_type": "execute_result"
    }
   ],
   "source": [
    "mean[0]"
   ]
  },
  {
   "cell_type": "markdown",
   "id": "motivated-norwegian",
   "metadata": {},
   "source": [
    "# ClickGraph"
   ]
  },
  {
   "cell_type": "markdown",
   "id": "lonely-expense",
   "metadata": {},
   "source": [
    "true value: 0.614154"
   ]
  },
  {
   "cell_type": "code",
   "execution_count": 39,
   "id": "hawaiian-access",
   "metadata": {},
   "outputs": [],
   "source": [
    "cfg = produce_cfg('ClickGraph')"
   ]
  },
  {
   "cell_type": "code",
   "execution_count": 40,
   "id": "drawn-blank",
   "metadata": {},
   "outputs": [
    {
     "data": {
      "text/plain": [
       "['simAll', 'sim', 'beta1', 'beta2', 'click0', 'click1']"
      ]
     },
     "execution_count": 40,
     "metadata": {},
     "output_type": "execute_result"
    }
   ],
   "source": [
    "cfg.ID_list"
   ]
  },
  {
   "cell_type": "code",
   "execution_count": 41,
   "id": "opponent-wilson",
   "metadata": {},
   "outputs": [],
   "source": [
    "## goes timeout > 30 min\n",
    "\n",
    "#start = time()\n",
    "#output_dist = start_SOGA(cfg)\n",
    "#end = time()\n",
    "\n",
    "#print('Computation completed in ', end-start)\n",
    "\n",
    "#output_dist.gm.mean()"
   ]
  },
  {
   "cell_type": "markdown",
   "id": "prerequisite-cruise",
   "metadata": {},
   "source": [
    "### Pruning"
   ]
  },
  {
   "cell_type": "code",
   "execution_count": 42,
   "id": "plastic-polish",
   "metadata": {},
   "outputs": [],
   "source": [
    "cfg = produce_cfg('ClickGraphPrune')"
   ]
  },
  {
   "cell_type": "code",
   "execution_count": 43,
   "id": "prescription-tribe",
   "metadata": {},
   "outputs": [
    {
     "name": "stdout",
     "output_type": "stream",
     "text": [
      "Computation completed in  106.34841470718384\n",
      "N. components: 26\n"
     ]
    },
    {
     "data": {
      "text/plain": [
       "0.6342728638405396"
      ]
     },
     "execution_count": 43,
     "metadata": {},
     "output_type": "execute_result"
    }
   ],
   "source": [
    "times = []\n",
    "\n",
    "for i in range(10):\n",
    "    start = time()\n",
    "    output_dist = start_SOGA(cfg)\n",
    "    end = time()\n",
    "    times.append(end-start)\n",
    "\n",
    "print('Computation completed in ', np.mean(times))\n",
    "print('N. components:', output_dist.gm.n_comp())\n",
    "\n",
    "output_dist.gm.mean()[0]"
   ]
  },
  {
   "cell_type": "markdown",
   "id": "blank-services",
   "metadata": {},
   "source": [
    "# ClinicalTrial2"
   ]
  },
  {
   "cell_type": "markdown",
   "id": "analyzed-basis",
   "metadata": {},
   "source": [
    "true value: 0.754902"
   ]
  },
  {
   "cell_type": "code",
   "execution_count": 44,
   "id": "sexual-plastic",
   "metadata": {},
   "outputs": [],
   "source": [
    "cfg = produce_cfg('ClinicalTrial2')"
   ]
  },
  {
   "cell_type": "code",
   "execution_count": 45,
   "id": "positive-matter",
   "metadata": {},
   "outputs": [
    {
     "data": {
      "text/plain": [
       "['isEff', 'probTreated', 'probContr', 'ycontr', 'ytreat']"
      ]
     },
     "execution_count": 45,
     "metadata": {},
     "output_type": "execute_result"
    }
   ],
   "source": [
    "cfg.ID_list"
   ]
  },
  {
   "cell_type": "code",
   "execution_count": 46,
   "id": "bearing-adolescent",
   "metadata": {},
   "outputs": [],
   "source": [
    "# goes time out > 30 min\n",
    "\n",
    "#start = time()\n",
    "#output_dist = start_SOGA(cfg)\n",
    "#end = time()\n",
    "\n",
    "#print('Computation completed in ', end-start)\n",
    "\n",
    "#output_dist.gm.mean()"
   ]
  },
  {
   "cell_type": "markdown",
   "id": "inner-livestock",
   "metadata": {},
   "source": [
    "### Pruning"
   ]
  },
  {
   "cell_type": "code",
   "execution_count": 47,
   "id": "fleet-viewer",
   "metadata": {},
   "outputs": [],
   "source": [
    "cfg = produce_cfg('ClinicalTrial2Prune')"
   ]
  },
  {
   "cell_type": "code",
   "execution_count": 48,
   "id": "informed-trading",
   "metadata": {},
   "outputs": [
    {
     "data": {
      "text/plain": [
       "['isEff', 'probTreated', 'probContr', 'ycontr', 'ytreat']"
      ]
     },
     "execution_count": 48,
     "metadata": {},
     "output_type": "execute_result"
    }
   ],
   "source": [
    "cfg.ID_list"
   ]
  },
  {
   "cell_type": "code",
   "execution_count": 49,
   "id": "apart-cotton",
   "metadata": {
    "scrolled": true
   },
   "outputs": [
    {
     "name": "stdout",
     "output_type": "stream",
     "text": [
      "Computation completed in  28.26886022090912\n",
      "N. components: 11\n"
     ]
    },
    {
     "data": {
      "text/plain": [
       "0.7531745870842527"
      ]
     },
     "execution_count": 49,
     "metadata": {},
     "output_type": "execute_result"
    }
   ],
   "source": [
    "times = []\n",
    "\n",
    "for i in range(10):\n",
    "    start = time()\n",
    "    output_dist = start_SOGA(cfg)\n",
    "    end = time()\n",
    "    times.append(end-start)\n",
    "\n",
    "print('Computation completed in ', np.mean(times))\n",
    "print('N. components:', output_dist.gm.n_comp())\n",
    "\n",
    "output_dist.gm.mean()[0]"
   ]
  },
  {
   "cell_type": "markdown",
   "id": "bearing-palestine",
   "metadata": {},
   "source": [
    "# Indian GPA"
   ]
  },
  {
   "cell_type": "markdown",
   "id": "hearing-creator",
   "metadata": {},
   "source": [
    "true value: 1"
   ]
  },
  {
   "cell_type": "code",
   "execution_count": 50,
   "id": "higher-saver",
   "metadata": {},
   "outputs": [
    {
     "name": "stdout",
     "output_type": "stream",
     "text": [
      "Time to produce cfg:  0.006972551345825195\n"
     ]
    }
   ],
   "source": [
    "start = time()\n",
    "cfg = produce_cfg('IndianGPA')\n",
    "end = time()\n",
    "\n",
    "print('Time to produce cfg: ', end-start)"
   ]
  },
  {
   "cell_type": "code",
   "execution_count": 51,
   "id": "diverse-string",
   "metadata": {},
   "outputs": [
    {
     "data": {
      "text/plain": [
       "['usa', 'usagpa', 'indgpa', 'gpa']"
      ]
     },
     "execution_count": 51,
     "metadata": {},
     "output_type": "execute_result"
    }
   ],
   "source": [
    "cfg.ID_list"
   ]
  },
  {
   "cell_type": "code",
   "execution_count": 52,
   "id": "neutral-trigger",
   "metadata": {},
   "outputs": [
    {
     "name": "stdout",
     "output_type": "stream",
     "text": [
      "Computation completed in  0.18957395553588868\n",
      "N. components: 11\n"
     ]
    },
    {
     "data": {
      "text/plain": [
       "array([1.        , 4.        , 5.12034045, 4.        ])"
      ]
     },
     "execution_count": 52,
     "metadata": {},
     "output_type": "execute_result"
    }
   ],
   "source": [
    "times = []\n",
    "\n",
    "for i in range(10):\n",
    "    start = time()\n",
    "    output_dist = start_SOGA(cfg)\n",
    "    end = time()\n",
    "    times.append(end-start)\n",
    "\n",
    "print('Computation completed in ', np.mean(times))\n",
    "print('N. components:', output_dist.gm.n_comp())\n",
    "\n",
    "output_dist.gm.mean()"
   ]
  },
  {
   "cell_type": "markdown",
   "id": "still-routine",
   "metadata": {},
   "source": [
    "# Gauss Examples"
   ]
  },
  {
   "cell_type": "markdown",
   "id": "chubby-boundary",
   "metadata": {},
   "source": [
    "## BernoulliGauss"
   ]
  },
  {
   "cell_type": "code",
   "execution_count": 53,
   "id": "ready-mandate",
   "metadata": {},
   "outputs": [
    {
     "name": "stdout",
     "output_type": "stream",
     "text": [
      "Time to produce cfg:  0.0\n"
     ]
    }
   ],
   "source": [
    "start = time()\n",
    "cfg = produce_cfg('Gauss/BernoulliGauss')\n",
    "end = time()\n",
    "\n",
    "print('Time to produce cfg: ', end-start)"
   ]
  },
  {
   "cell_type": "code",
   "execution_count": 54,
   "id": "cordless-catering",
   "metadata": {
    "scrolled": true
   },
   "outputs": [
    {
     "data": {
      "text/plain": [
       "['theta', 'y']"
      ]
     },
     "execution_count": 54,
     "metadata": {},
     "output_type": "execute_result"
    }
   ],
   "source": [
    "cfg.ID_list"
   ]
  },
  {
   "cell_type": "code",
   "execution_count": 55,
   "id": "intended-attachment",
   "metadata": {
    "scrolled": true
   },
   "outputs": [
    {
     "name": "stdout",
     "output_type": "stream",
     "text": [
      "Computation completed in  0.1563183069229126\n",
      "N. components: 1\n"
     ]
    },
    {
     "data": {
      "text/plain": [
       "-0.7532570956172188"
      ]
     },
     "execution_count": 55,
     "metadata": {},
     "output_type": "execute_result"
    }
   ],
   "source": [
    "times = []\n",
    "\n",
    "for i in range(10):\n",
    "    start = time()\n",
    "    output_dist = start_SOGA(cfg)\n",
    "    end = time()\n",
    "    times.append(end-start)\n",
    "\n",
    "print('Computation completed in ', np.mean(times))\n",
    "print('N. components:', output_dist.gm.n_comp())\n",
    "\n",
    "output_dist.gm.mean()[0]"
   ]
  },
  {
   "cell_type": "markdown",
   "id": "attended-marsh",
   "metadata": {},
   "source": [
    "## CoinBiasGauss"
   ]
  },
  {
   "cell_type": "code",
   "execution_count": 56,
   "id": "alpha-banana",
   "metadata": {},
   "outputs": [
    {
     "name": "stdout",
     "output_type": "stream",
     "text": [
      "Time to produce cfg:  0.0\n"
     ]
    }
   ],
   "source": [
    "start = time()\n",
    "cfg = produce_cfg('Gauss/CoinBiasGauss')\n",
    "end = time()\n",
    "\n",
    "print('Time to produce cfg: ', end-start)"
   ]
  },
  {
   "cell_type": "code",
   "execution_count": 57,
   "id": "ready-headset",
   "metadata": {
    "scrolled": true
   },
   "outputs": [
    {
     "data": {
      "text/plain": [
       "['theta', 'y']"
      ]
     },
     "execution_count": 57,
     "metadata": {},
     "output_type": "execute_result"
    }
   ],
   "source": [
    "cfg.ID_list"
   ]
  },
  {
   "cell_type": "code",
   "execution_count": 58,
   "id": "enclosed-association",
   "metadata": {
    "scrolled": true
   },
   "outputs": [
    {
     "name": "stdout",
     "output_type": "stream",
     "text": [
      "Computation completed in  0.07662029266357422\n",
      "N. components: 1\n"
     ]
    },
    {
     "data": {
      "text/plain": [
       "0.19787983308028412"
      ]
     },
     "execution_count": 58,
     "metadata": {},
     "output_type": "execute_result"
    }
   ],
   "source": [
    "times = []\n",
    "\n",
    "for i in range(10):\n",
    "    start = time()\n",
    "    output_dist = start_SOGA(cfg)\n",
    "    end = time()\n",
    "    times.append(end-start)\n",
    "\n",
    "print('Computation completed in ', np.mean(times))\n",
    "print('N. components:', output_dist.gm.n_comp())\n",
    "\n",
    "output_dist.gm.mean()[0]"
   ]
  },
  {
   "cell_type": "markdown",
   "id": "christian-variance",
   "metadata": {},
   "source": [
    "## SurveyUnbiasGauss"
   ]
  },
  {
   "cell_type": "code",
   "execution_count": 59,
   "id": "irish-edmonton",
   "metadata": {},
   "outputs": [
    {
     "name": "stdout",
     "output_type": "stream",
     "text": [
      "Time to produce cfg:  0.015636682510375977\n"
     ]
    }
   ],
   "source": [
    "start = time()\n",
    "cfg = produce_cfg('Gauss/SurveyUnbiasGauss')\n",
    "end = time()\n",
    "\n",
    "print('Time to produce cfg: ', end-start)"
   ]
  },
  {
   "cell_type": "code",
   "execution_count": 60,
   "id": "interested-launch",
   "metadata": {
    "scrolled": true
   },
   "outputs": [
    {
     "data": {
      "text/plain": [
       "['bias1', 'bias2', 'yb1', 'yb2']"
      ]
     },
     "execution_count": 60,
     "metadata": {},
     "output_type": "execute_result"
    }
   ],
   "source": [
    "cfg.ID_list"
   ]
  },
  {
   "cell_type": "code",
   "execution_count": 61,
   "id": "after-trademark",
   "metadata": {
    "scrolled": true
   },
   "outputs": [
    {
     "name": "stdout",
     "output_type": "stream",
     "text": [
      "Computation completed in  0.08162922859191894\n",
      "N. components: 1\n"
     ]
    },
    {
     "data": {
      "text/plain": [
       "1.5303404369003732"
      ]
     },
     "execution_count": 61,
     "metadata": {},
     "output_type": "execute_result"
    }
   ],
   "source": [
    "times = []\n",
    "\n",
    "for i in range(10):\n",
    "    start = time()\n",
    "    output_dist = start_SOGA(cfg)\n",
    "    end = time()\n",
    "    times.append(end-start)\n",
    "\n",
    "print('Computation completed in ', np.mean(times))\n",
    "print('N. components:', output_dist.gm.n_comp())\n",
    "\n",
    "output_dist.gm.mean()[0]"
   ]
  },
  {
   "cell_type": "markdown",
   "id": "answering-reviewer",
   "metadata": {},
   "source": [
    "## ClickGraphGauss"
   ]
  },
  {
   "cell_type": "code",
   "execution_count": 62,
   "id": "daily-hygiene",
   "metadata": {},
   "outputs": [
    {
     "name": "stdout",
     "output_type": "stream",
     "text": [
      "Time to produce cfg:  0.01536107063293457\n"
     ]
    }
   ],
   "source": [
    "start = time()\n",
    "cfg = produce_cfg('Gauss/ClickGraphGauss')\n",
    "end = time()\n",
    "\n",
    "print('Time to produce cfg: ', end-start)"
   ]
  },
  {
   "cell_type": "code",
   "execution_count": 63,
   "id": "literary-chart",
   "metadata": {
    "scrolled": true
   },
   "outputs": [
    {
     "data": {
      "text/plain": [
       "['simAll', 'sim', 'beta1', 'beta2', 'y0', 'y1']"
      ]
     },
     "execution_count": 63,
     "metadata": {},
     "output_type": "execute_result"
    }
   ],
   "source": [
    "cfg.ID_list"
   ]
  },
  {
   "cell_type": "code",
   "execution_count": 64,
   "id": "eight-albany",
   "metadata": {
    "scrolled": true
   },
   "outputs": [
    {
     "name": "stdout",
     "output_type": "stream",
     "text": [
      "Computation completed in  31.84140775203705\n",
      "N. components: 32\n"
     ]
    },
    {
     "data": {
      "text/plain": [
       "0.8955243258596454"
      ]
     },
     "execution_count": 64,
     "metadata": {},
     "output_type": "execute_result"
    }
   ],
   "source": [
    "times = []\n",
    "\n",
    "for i in range(10):\n",
    "    start = time()\n",
    "    output_dist = start_SOGA(cfg)\n",
    "    end = time()\n",
    "    times.append(end-start)\n",
    "\n",
    "print('Computation completed in ', np.mean(times))\n",
    "print('N. components:', output_dist.gm.n_comp())\n",
    "\n",
    "output_dist.gm.mean()[0]"
   ]
  },
  {
   "cell_type": "markdown",
   "id": "religious-circus",
   "metadata": {},
   "source": [
    "## ClinicalTrialGauss"
   ]
  },
  {
   "cell_type": "code",
   "execution_count": 65,
   "id": "comfortable-crest",
   "metadata": {},
   "outputs": [
    {
     "name": "stdout",
     "output_type": "stream",
     "text": [
      "Time to produce cfg:  0.008198976516723633\n"
     ]
    }
   ],
   "source": [
    "start = time()\n",
    "cfg = produce_cfg('Gauss/ClinicalTrialGauss')\n",
    "end = time()\n",
    "\n",
    "print('Time to produce cfg: ', end-start)"
   ]
  },
  {
   "cell_type": "code",
   "execution_count": 66,
   "id": "dietary-navigation",
   "metadata": {
    "scrolled": true
   },
   "outputs": [
    {
     "data": {
      "text/plain": [
       "['isEff', 'probTreated', 'probContr', 'ycontr', 'ytreat']"
      ]
     },
     "execution_count": 66,
     "metadata": {},
     "output_type": "execute_result"
    }
   ],
   "source": [
    "cfg.ID_list"
   ]
  },
  {
   "cell_type": "code",
   "execution_count": 67,
   "id": "confirmed-tourist",
   "metadata": {
    "scrolled": true
   },
   "outputs": [
    {
     "name": "stdout",
     "output_type": "stream",
     "text": [
      "Computation completed in  3.4365038156509398\n",
      "N. components: 2\n"
     ]
    },
    {
     "data": {
      "text/plain": [
       "0.7612237232813578"
      ]
     },
     "execution_count": 67,
     "metadata": {},
     "output_type": "execute_result"
    }
   ],
   "source": [
    "times = []\n",
    "\n",
    "for i in range(10):\n",
    "    start = time()\n",
    "    output_dist = start_SOGA(cfg)\n",
    "    end = time()\n",
    "    times.append(end-start)\n",
    "\n",
    "print('Computation completed in ', np.mean(times))\n",
    "print('N. components:', output_dist.gm.n_comp())\n",
    "\n",
    "output_dist.gm.mean()[0]"
   ]
  },
  {
   "cell_type": "markdown",
   "id": "informal-block",
   "metadata": {},
   "source": [
    "# AQUA Example"
   ]
  },
  {
   "cell_type": "markdown",
   "id": "automated-ethnic",
   "metadata": {},
   "source": [
    "## Altermu"
   ]
  },
  {
   "cell_type": "markdown",
   "id": "charged-sullivan",
   "metadata": {},
   "source": [
    "true value: \n",
    "mu1: 3.365363543395006e-16\n",
    "mu2: 3.365363543395006e-16\n",
    "mu3: -0.11221539502189211"
   ]
  },
  {
   "cell_type": "code",
   "execution_count": 68,
   "id": "relative-telescope",
   "metadata": {},
   "outputs": [
    {
     "name": "stdout",
     "output_type": "stream",
     "text": [
      "Time to produce cfg:  0.019553184509277344\n"
     ]
    }
   ],
   "source": [
    "start = time()\n",
    "cfg = produce_cfg('AQUA/Altermu')\n",
    "end = time()\n",
    "\n",
    "print('Time to produce cfg: ', end-start)"
   ]
  },
  {
   "cell_type": "code",
   "execution_count": 69,
   "id": "dynamic-underwear",
   "metadata": {},
   "outputs": [
    {
     "data": {
      "text/plain": [
       "['y[0]',\n",
       " 'y[1]',\n",
       " 'y[2]',\n",
       " 'y[3]',\n",
       " 'y[4]',\n",
       " 'y[5]',\n",
       " 'y[6]',\n",
       " 'y[7]',\n",
       " 'y[8]',\n",
       " 'y[9]',\n",
       " 'y[10]',\n",
       " 'y[11]',\n",
       " 'y[12]',\n",
       " 'y[13]',\n",
       " 'y[14]',\n",
       " 'y[15]',\n",
       " 'y[16]',\n",
       " 'y[17]',\n",
       " 'y[18]',\n",
       " 'y[19]',\n",
       " 'y[20]',\n",
       " 'y[21]',\n",
       " 'y[22]',\n",
       " 'y[23]',\n",
       " 'y[24]',\n",
       " 'y[25]',\n",
       " 'y[26]',\n",
       " 'y[27]',\n",
       " 'y[28]',\n",
       " 'y[29]',\n",
       " 'y[30]',\n",
       " 'y[31]',\n",
       " 'y[32]',\n",
       " 'y[33]',\n",
       " 'y[34]',\n",
       " 'y[35]',\n",
       " 'y[36]',\n",
       " 'y[37]',\n",
       " 'y[38]',\n",
       " 'y[39]',\n",
       " 'w1',\n",
       " 'w2',\n",
       " 'w3',\n",
       " 'mean']"
      ]
     },
     "execution_count": 69,
     "metadata": {},
     "output_type": "execute_result"
    }
   ],
   "source": [
    "cfg.ID_list"
   ]
  },
  {
   "cell_type": "code",
   "execution_count": 70,
   "id": "every-venue",
   "metadata": {},
   "outputs": [
    {
     "name": "stdout",
     "output_type": "stream",
     "text": [
      "Computation completed in  0.23090050220489503\n",
      "N. components: 1\n"
     ]
    },
    {
     "data": {
      "text/plain": [
       "array([ 0.        ,  0.        , -0.00137427], dtype=float32)"
      ]
     },
     "execution_count": 70,
     "metadata": {},
     "output_type": "execute_result"
    }
   ],
   "source": [
    "times = []\n",
    "\n",
    "for i in range(10):\n",
    "    start = time()\n",
    "    output_dist = start_SOGA(cfg)\n",
    "    end = time()\n",
    "    times.append(end-start)\n",
    "\n",
    "print('Computation completed in ', np.mean(times))\n",
    "print('N. components:', output_dist.gm.n_comp())\n",
    "\n",
    "output_dist.gm.mean()[-4:-1]"
   ]
  },
  {
   "cell_type": "markdown",
   "id": "outstanding-window",
   "metadata": {},
   "source": [
    "## Altermu2"
   ]
  },
  {
   "cell_type": "markdown",
   "id": "rotary-course",
   "metadata": {},
   "source": [
    "true value:\n",
    "mu1:  0.15521420874071362\n",
    "mu2:  0.1552142087407135"
   ]
  },
  {
   "cell_type": "code",
   "execution_count": 71,
   "id": "functional-scratch",
   "metadata": {},
   "outputs": [
    {
     "name": "stdout",
     "output_type": "stream",
     "text": [
      "Time to produce cfg:  0.0040056705474853516\n"
     ]
    }
   ],
   "source": [
    "start = time()\n",
    "cfg = produce_cfg('AQUA/Altermu2')\n",
    "end = time()\n",
    "\n",
    "print('Time to produce cfg: ', end-start)"
   ]
  },
  {
   "cell_type": "code",
   "execution_count": 72,
   "id": "animated-designer",
   "metadata": {},
   "outputs": [
    {
     "data": {
      "text/plain": [
       "['y[0]',\n",
       " 'y[1]',\n",
       " 'y[2]',\n",
       " 'y[3]',\n",
       " 'y[4]',\n",
       " 'y[5]',\n",
       " 'y[6]',\n",
       " 'y[7]',\n",
       " 'y[8]',\n",
       " 'y[9]',\n",
       " 'y[10]',\n",
       " 'y[11]',\n",
       " 'y[12]',\n",
       " 'y[13]',\n",
       " 'y[14]',\n",
       " 'y[15]',\n",
       " 'y[16]',\n",
       " 'y[17]',\n",
       " 'y[18]',\n",
       " 'y[19]',\n",
       " 'y[20]',\n",
       " 'y[21]',\n",
       " 'y[22]',\n",
       " 'y[23]',\n",
       " 'y[24]',\n",
       " 'y[25]',\n",
       " 'y[26]',\n",
       " 'y[27]',\n",
       " 'y[28]',\n",
       " 'y[29]',\n",
       " 'y[30]',\n",
       " 'y[31]',\n",
       " 'y[32]',\n",
       " 'y[33]',\n",
       " 'y[34]',\n",
       " 'y[35]',\n",
       " 'y[36]',\n",
       " 'y[37]',\n",
       " 'y[38]',\n",
       " 'y[39]',\n",
       " 'w1',\n",
       " 'w2']"
      ]
     },
     "execution_count": 72,
     "metadata": {},
     "output_type": "execute_result"
    }
   ],
   "source": [
    "cfg.ID_list"
   ]
  },
  {
   "cell_type": "code",
   "execution_count": 73,
   "id": "embedded-mixture",
   "metadata": {
    "scrolled": true
   },
   "outputs": [
    {
     "name": "stdout",
     "output_type": "stream",
     "text": [
      "Computation completed in  0.5876893281936646\n",
      "N. components: 4\n"
     ]
    },
    {
     "data": {
      "text/plain": [
       "array([0.15558612, 0.15558612], dtype=float32)"
      ]
     },
     "execution_count": 73,
     "metadata": {},
     "output_type": "execute_result"
    }
   ],
   "source": [
    "times = []\n",
    "\n",
    "for i in range(10):\n",
    "    start = time()\n",
    "    output_dist = start_SOGA(cfg)\n",
    "    end = time()\n",
    "    times.append(end-start)\n",
    "\n",
    "print('Computation completed in ', np.mean(times))\n",
    "print('N. components:', output_dist.gm.n_comp())\n",
    "\n",
    "output_dist.gm.mean()[-2:]"
   ]
  },
  {
   "cell_type": "markdown",
   "id": "every-registrar",
   "metadata": {},
   "source": [
    "## Normal Mixtures"
   ]
  },
  {
   "cell_type": "code",
   "execution_count": 74,
   "id": "million-breach",
   "metadata": {},
   "outputs": [
    {
     "name": "stdout",
     "output_type": "stream",
     "text": [
      "Time to produce cfg:  0.04372096061706543\n"
     ]
    }
   ],
   "source": [
    "start = time()\n",
    "cfg = produce_cfg('AQUA/NormalMixture')\n",
    "end = time()\n",
    "\n",
    "print('Time to produce cfg: ', end-start)"
   ]
  },
  {
   "cell_type": "code",
   "execution_count": 75,
   "id": "overhead-suggestion",
   "metadata": {},
   "outputs": [],
   "source": [
    "## goes t.o. > 30 min even with pruning\n",
    "#\n",
    "#times = []\n",
    "#\n",
    "#start = time()\n",
    "#output_dist = start_SOGA(cfg)\n",
    "#end = time()\n",
    "#times.append(end-start)\n",
    "#\n",
    "#print('Computation completed in ', np.mean(times))\n",
    "#\n",
    "#output_dist.gm.mean()"
   ]
  },
  {
   "cell_type": "markdown",
   "id": "forty-challenge",
   "metadata": {},
   "source": [
    "## TimeSeries"
   ]
  },
  {
   "cell_type": "markdown",
   "id": "rubber-theta",
   "metadata": {},
   "source": [
    "true value \n",
    "alpha:  -1.5751952024094684\n",
    "beta:  0.6841150519335847\n",
    "lambda:  0.4765771501058374"
   ]
  },
  {
   "cell_type": "code",
   "execution_count": 79,
   "id": "actual-electricity",
   "metadata": {},
   "outputs": [
    {
     "name": "stdout",
     "output_type": "stream",
     "text": [
      "Time to produce cfg:  0.15778350830078125\n"
     ]
    }
   ],
   "source": [
    "start = time()\n",
    "cfg = produce_cfg('AQUA/TimeSeries')\n",
    "end = time()\n",
    "\n",
    "print('Time to produce cfg: ', end-start)"
   ]
  },
  {
   "cell_type": "code",
   "execution_count": 80,
   "id": "lightweight-matrix",
   "metadata": {},
   "outputs": [
    {
     "data": {
      "text/plain": [
       "['a',\n",
       " 'b',\n",
       " 'lamb',\n",
       " 'y0',\n",
       " 'y1',\n",
       " 'y2',\n",
       " 'y3',\n",
       " 'y4',\n",
       " 'y5',\n",
       " 'y6',\n",
       " 'y7',\n",
       " 'y8',\n",
       " 'y9',\n",
       " 'y10',\n",
       " 'y11',\n",
       " 'y12',\n",
       " 'y13',\n",
       " 'y14',\n",
       " 'y15',\n",
       " 'y16',\n",
       " 'y17',\n",
       " 'y18',\n",
       " 'y19',\n",
       " 'y20',\n",
       " 'y21',\n",
       " 'y22',\n",
       " 'y23',\n",
       " 'y24',\n",
       " 'y25',\n",
       " 'y26',\n",
       " 'y27',\n",
       " 'y28',\n",
       " 'y29',\n",
       " 'y30',\n",
       " 'y31',\n",
       " 'y32',\n",
       " 'y33',\n",
       " 'y34',\n",
       " 'y35',\n",
       " 'y36',\n",
       " 'y37',\n",
       " 'y38',\n",
       " 'y39']"
      ]
     },
     "execution_count": 80,
     "metadata": {},
     "output_type": "execute_result"
    }
   ],
   "source": [
    "cfg.ID_list"
   ]
  },
  {
   "cell_type": "code",
   "execution_count": 81,
   "id": "reserved-inspector",
   "metadata": {},
   "outputs": [
    {
     "name": "stdout",
     "output_type": "stream",
     "text": [
      "Computation completed in  1.8969426155090332\n",
      "N. components: 8\n"
     ]
    },
    {
     "data": {
      "text/plain": [
       "array([-1.6015656,  0.695174 ,  0.4535055], dtype=float32)"
      ]
     },
     "execution_count": 81,
     "metadata": {},
     "output_type": "execute_result"
    }
   ],
   "source": [
    "times = []\n",
    "\n",
    "for i in range(10):\n",
    "    start = time()\n",
    "    output_dist = start_SOGA(cfg)\n",
    "    end = time()\n",
    "    times.append(end-start)\n",
    "\n",
    "print('Computation completed in ', np.mean(times))\n",
    "print('N. components:', output_dist.gm.n_comp())\n",
    "\n",
    "output_dist.gm.mean()[:3]"
   ]
  },
  {
   "cell_type": "code",
   "execution_count": null,
   "id": "premier-herald",
   "metadata": {},
   "outputs": [],
   "source": []
  },
  {
   "cell_type": "code",
   "execution_count": null,
   "id": "packed-story",
   "metadata": {},
   "outputs": [],
   "source": []
  },
  {
   "cell_type": "code",
   "execution_count": null,
   "id": "stuffed-portable",
   "metadata": {},
   "outputs": [],
   "source": []
  }
 ],
 "metadata": {
  "kernelspec": {
   "display_name": "Python 3",
   "language": "python",
   "name": "python3"
  },
  "language_info": {
   "codemirror_mode": {
    "name": "ipython",
    "version": 3
   },
   "file_extension": ".py",
   "mimetype": "text/x-python",
   "name": "python",
   "nbconvert_exporter": "python",
   "pygments_lexer": "ipython3",
   "version": "3.8.5"
  },
  "toc": {
   "base_numbering": 1,
   "nav_menu": {},
   "number_sections": true,
   "sideBar": true,
   "skip_h1_title": false,
   "title_cell": "Table of Contents",
   "title_sidebar": "Contents",
   "toc_cell": false,
   "toc_position": {
    "height": "calc(100% - 180px)",
    "left": "10px",
    "top": "150px",
    "width": "341.306px"
   },
   "toc_section_display": true,
   "toc_window_display": true
  }
 },
 "nbformat": 4,
 "nbformat_minor": 5
}
