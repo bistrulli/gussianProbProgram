{
 "cells": [
  {
   "cell_type": "code",
   "execution_count": 1,
   "id": "mounted-progress",
   "metadata": {},
   "outputs": [],
   "source": [
    "from producecfg import *\n",
    "from libSOGA import *\n",
    "\n",
    "from time import time"
   ]
  },
  {
   "cell_type": "markdown",
   "id": "faced-rebel",
   "metadata": {},
   "source": [
    "# Bernoulli"
   ]
  },
  {
   "cell_type": "markdown",
   "id": "single-ambassador",
   "metadata": {},
   "source": [
    "true value: 0.25"
   ]
  },
  {
   "cell_type": "code",
   "execution_count": 2,
   "id": "rapid-scratch",
   "metadata": {},
   "outputs": [
    {
     "name": "stdout",
     "output_type": "stream",
     "text": [
      "Time to produce cfg:  0.0070841312408447266\n"
     ]
    }
   ],
   "source": [
    "start = time()\n",
    "cfg = produce_cfg('Bernoulli')\n",
    "end = time()\n",
    "\n",
    "print('Time to produce cfg: ', end-start)"
   ]
  },
  {
   "cell_type": "code",
   "execution_count": 3,
   "id": "intelligent-interstate",
   "metadata": {},
   "outputs": [
    {
     "data": {
      "text/plain": [
       "['theta', 'y']"
      ]
     },
     "execution_count": 3,
     "metadata": {},
     "output_type": "execute_result"
    }
   ],
   "source": [
    "cfg.ID_list"
   ]
  },
  {
   "cell_type": "code",
   "execution_count": 4,
   "id": "failing-editing",
   "metadata": {
    "scrolled": false
   },
   "outputs": [
    {
     "name": "stdout",
     "output_type": "stream",
     "text": [
      "Truncations: 30 total: 12.284345626831055\n",
      "Updates: 42 total: 0.04745078086853027\n",
      "Mergings: 11 total: 0.0\n",
      "Time for changing coordinates: 3.1386525630950928 \tTime for moments computation: 8.28840160369873\n",
      "Computation completed in  12.498433589935303\n",
      "N. components: 1774\n"
     ]
    },
    {
     "data": {
      "text/plain": [
       "array([0.25191365, 1.        ])"
      ]
     },
     "execution_count": 4,
     "metadata": {},
     "output_type": "execute_result"
    }
   ],
   "source": [
    "start = time()\n",
    "output_dist = start_SOGA(cfg)\n",
    "end = time()\n",
    "\n",
    "print('Computation completed in ', end-start)\n",
    "print('N. components:', output_dist.gm.n_comp())\n",
    "\n",
    "output_dist.gm.mean()"
   ]
  },
  {
   "cell_type": "markdown",
   "id": "induced-blues",
   "metadata": {},
   "source": [
    "### Pruning"
   ]
  },
  {
   "cell_type": "code",
   "execution_count": 5,
   "id": "individual-opinion",
   "metadata": {},
   "outputs": [
    {
     "name": "stdout",
     "output_type": "stream",
     "text": [
      "Time to produce cfg:  0.0\n"
     ]
    }
   ],
   "source": [
    "start = time()\n",
    "cfg = produce_cfg('BernoulliPrune')\n",
    "end = time()\n",
    "\n",
    "print('Time to produce cfg: ', end-start)"
   ]
  },
  {
   "cell_type": "code",
   "execution_count": 6,
   "id": "dangerous-disposal",
   "metadata": {},
   "outputs": [
    {
     "name": "stdout",
     "output_type": "stream",
     "text": [
      "Truncations: 30 total: 1.8985142707824707\n",
      "Updates: 42 total: 0.03230142593383789\n",
      "Mergings: 21 total: 2.4241533279418945\n",
      "Time for changing coordinates: 0.620356559753418 \tTime for moments computation: 1.1804165840148926\n",
      "Computation completed in  4.356967449188232\n",
      "N. components: 43\n"
     ]
    },
    {
     "data": {
      "text/plain": [
       "array([0.25191376, 1.        ])"
      ]
     },
     "execution_count": 6,
     "metadata": {},
     "output_type": "execute_result"
    }
   ],
   "source": [
    "start = time()\n",
    "output_dist = start_SOGA(cfg)\n",
    "end = time()\n",
    "\n",
    "print('Computation completed in ', end-start)\n",
    "print('N. components:', output_dist.gm.n_comp())\n",
    "\n",
    "output_dist.gm.mean()"
   ]
  },
  {
   "cell_type": "markdown",
   "id": "satellite-reviewer",
   "metadata": {},
   "source": [
    "# CoinBias"
   ]
  },
  {
   "cell_type": "markdown",
   "id": "sorted-planet",
   "metadata": {},
   "source": [
    "true value: 0.417"
   ]
  },
  {
   "cell_type": "code",
   "execution_count": 7,
   "id": "romantic-details",
   "metadata": {
    "scrolled": true
   },
   "outputs": [
    {
     "name": "stdout",
     "output_type": "stream",
     "text": [
      "Time to produce cfg:  0.014291524887084961\n"
     ]
    }
   ],
   "source": [
    "start = time()\n",
    "cfg = produce_cfg('CoinBias')\n",
    "end = time()\n",
    "\n",
    "print('Time to produce cfg: ', end-start)"
   ]
  },
  {
   "cell_type": "code",
   "execution_count": 8,
   "id": "invalid-bread",
   "metadata": {},
   "outputs": [
    {
     "data": {
      "text/plain": [
       "['bias', 'y']"
      ]
     },
     "execution_count": 8,
     "metadata": {},
     "output_type": "execute_result"
    }
   ],
   "source": [
    "cfg.ID_list"
   ]
  },
  {
   "cell_type": "code",
   "execution_count": 9,
   "id": "weird-swift",
   "metadata": {},
   "outputs": [
    {
     "name": "stdout",
     "output_type": "stream",
     "text": [
      "Truncations: 15 total: 0.3416616916656494\n",
      "Updates: 22 total: 0.015645980834960938\n",
      "Mergings: 6 total: 0.0\n",
      "Time for changing coordinates: 0.08611178398132324 \tTime for moments computation: 0.20855069160461426\n",
      "Computation completed in  0.3885538578033447\n",
      "N. components: 64\n"
     ]
    },
    {
     "data": {
      "text/plain": [
       "array([0.41545796, 0.        ])"
      ]
     },
     "execution_count": 9,
     "metadata": {},
     "output_type": "execute_result"
    }
   ],
   "source": [
    "start = time()\n",
    "output_dist = start_SOGA(cfg)\n",
    "end = time()\n",
    "    \n",
    "print('Computation completed in ', end-start)\n",
    "print('N. components:', output_dist.gm.n_comp())\n",
    "\n",
    "output_dist.gm.mean()"
   ]
  },
  {
   "cell_type": "markdown",
   "id": "sacred-subject",
   "metadata": {},
   "source": [
    "### Pruning"
   ]
  },
  {
   "cell_type": "code",
   "execution_count": 10,
   "id": "destroyed-starter",
   "metadata": {},
   "outputs": [
    {
     "name": "stdout",
     "output_type": "stream",
     "text": [
      "Time to produce cfg:  0.0\n"
     ]
    }
   ],
   "source": [
    "start = time()\n",
    "cfg = produce_cfg('CoinBiasPrune')\n",
    "end = time()\n",
    "\n",
    "print('Time to produce cfg: ', end-start)"
   ]
  },
  {
   "cell_type": "code",
   "execution_count": 11,
   "id": "forbidden-taste",
   "metadata": {},
   "outputs": [
    {
     "name": "stdout",
     "output_type": "stream",
     "text": [
      "Truncations: 15 total: 0.22803306579589844\n",
      "Updates: 22 total: 0.0\n",
      "Mergings: 11 total: 0.04706406593322754\n",
      "Time for changing coordinates: 0.0667581558227539 \tTime for moments computation: 0.12840962409973145\n",
      "Computation completed in  0.2810368537902832\n",
      "N. components: 11\n"
     ]
    },
    {
     "data": {
      "text/plain": [
       "array([0.41545809, 0.        ])"
      ]
     },
     "execution_count": 11,
     "metadata": {},
     "output_type": "execute_result"
    }
   ],
   "source": [
    "start = time()\n",
    "output_dist = start_SOGA(cfg)\n",
    "end = time()\n",
    "\n",
    "print('Computation completed in ', end-start)\n",
    "print('N. components:', output_dist.gm.n_comp())\n",
    "\n",
    "output_dist.gm.mean()"
   ]
  },
  {
   "cell_type": "markdown",
   "id": "cross-investor",
   "metadata": {},
   "source": [
    "# Burglar"
   ]
  },
  {
   "cell_type": "markdown",
   "id": "loving-character",
   "metadata": {},
   "source": [
    "exact"
   ]
  },
  {
   "cell_type": "code",
   "execution_count": 12,
   "id": "meaning-split",
   "metadata": {},
   "outputs": [
    {
     "name": "stdout",
     "output_type": "stream",
     "text": [
      "Time to produce cfg:  0.01556253433227539\n"
     ]
    }
   ],
   "source": [
    "start = time()\n",
    "cfg = produce_cfg('Burglar')\n",
    "end = time()\n",
    "\n",
    "print('Time to produce cfg: ', end-start)"
   ]
  },
  {
   "cell_type": "code",
   "execution_count": 13,
   "id": "surface-exhibit",
   "metadata": {},
   "outputs": [
    {
     "name": "stdout",
     "output_type": "stream",
     "text": [
      "Truncations: 15 total: 0.0\n",
      "Updates: 16 total: 0.015514373779296875\n",
      "Mergings: 8 total: 0.0\n",
      "Time for changing coordinates: 0 \tTime for moments computation: 0\n",
      "Computation completed in  0.015514373779296875\n",
      "N. components: 4\n"
     ]
    },
    {
     "data": {
      "text/plain": [
       "0.0029934492413055433"
      ]
     },
     "execution_count": 13,
     "metadata": {},
     "output_type": "execute_result"
    }
   ],
   "source": [
    "start = time()\n",
    "output_dist = start_SOGA(cfg)\n",
    "end = time()\n",
    "    \n",
    "print('Computation completed in ', end-start)\n",
    "print('N. components:', output_dist.gm.n_comp())\n",
    "\n",
    "output_dist.gm.mean()[1]"
   ]
  },
  {
   "cell_type": "markdown",
   "id": "split-cocktail",
   "metadata": {},
   "source": [
    "# MurderMistery"
   ]
  },
  {
   "cell_type": "markdown",
   "id": "continuous-effectiveness",
   "metadata": {},
   "source": [
    "exact"
   ]
  },
  {
   "cell_type": "code",
   "execution_count": 14,
   "id": "wanted-distinction",
   "metadata": {},
   "outputs": [
    {
     "name": "stdout",
     "output_type": "stream",
     "text": [
      "Time to produce cfg:  0.0\n"
     ]
    }
   ],
   "source": [
    "start = time()\n",
    "cfg = produce_cfg('MurderMistery')\n",
    "end = time()\n",
    "\n",
    "print('Time to produce cfg: ', end-start)"
   ]
  },
  {
   "cell_type": "code",
   "execution_count": 15,
   "id": "immune-laptop",
   "metadata": {},
   "outputs": [
    {
     "name": "stdout",
     "output_type": "stream",
     "text": [
      "Truncations: 3 total: 0.0\n",
      "Updates: 3 total: 0.0\n",
      "Mergings: 2 total: 0.0\n",
      "Time for changing coordinates: 0 \tTime for moments computation: 0\n",
      "Computation completed in  0.0\n",
      "N. components: 2\n"
     ]
    },
    {
     "data": {
      "text/plain": [
       "array([0.01581722, 1.        ])"
      ]
     },
     "execution_count": 15,
     "metadata": {},
     "output_type": "execute_result"
    }
   ],
   "source": [
    "start = time()\n",
    "output_dist = start_SOGA(cfg)\n",
    "end = time()\n",
    "\n",
    "print('Computation completed in ', end-start)\n",
    "print('N. components:', output_dist.gm.n_comp())\n",
    "\n",
    "output_dist.gm.mean()"
   ]
  },
  {
   "cell_type": "markdown",
   "id": "electoral-private",
   "metadata": {},
   "source": [
    "# Digit"
   ]
  },
  {
   "cell_type": "markdown",
   "id": "marked-budapest",
   "metadata": {},
   "source": [
    "true value ?"
   ]
  },
  {
   "cell_type": "code",
   "execution_count": 16,
   "id": "distinguished-family",
   "metadata": {
    "scrolled": true
   },
   "outputs": [
    {
     "name": "stdout",
     "output_type": "stream",
     "text": [
      "Time to produce cfg:  0.1562366485595703\n"
     ]
    }
   ],
   "source": [
    "start = time()\n",
    "cfg = produce_cfg('DigitRecognition')\n",
    "end = time()\n",
    "\n",
    "print('Time to produce cfg: ', end-start)"
   ]
  },
  {
   "cell_type": "code",
   "execution_count": 17,
   "id": "consistent-dispatch",
   "metadata": {},
   "outputs": [
    {
     "data": {
      "text/plain": [
       "['y', 'dig']"
      ]
     },
     "execution_count": 17,
     "metadata": {},
     "output_type": "execute_result"
    }
   ],
   "source": [
    "cfg.ID_list[:10]"
   ]
  },
  {
   "cell_type": "code",
   "execution_count": 18,
   "id": "crazy-active",
   "metadata": {
    "scrolled": true
   },
   "outputs": [
    {
     "name": "stdout",
     "output_type": "stream",
     "text": [
      "Truncations: 3020 total: 3.437730073928833\n",
      "Updates: 4030 total: 0.39076662063598633\n",
      "Mergings: 1011 total: 0.015615701675415039\n",
      "Time for changing coordinates: 0.7020642757415771 \tTime for moments computation: 1.001018762588501\n",
      "Computation completed in  4.11077880859375\n"
     ]
    },
    {
     "data": {
      "text/plain": [
       "4.4539341842632565"
      ]
     },
     "execution_count": 18,
     "metadata": {},
     "output_type": "execute_result"
    }
   ],
   "source": [
    "start = time()\n",
    "output_dist = start_SOGA(cfg)\n",
    "end = time()\n",
    "\n",
    "print('Computation completed in ', end-start)\n",
    "\n",
    "output_dist.gm.mean()[0]"
   ]
  },
  {
   "cell_type": "markdown",
   "id": "affiliated-start",
   "metadata": {},
   "source": [
    "# Grass"
   ]
  },
  {
   "cell_type": "markdown",
   "id": "upper-trinidad",
   "metadata": {},
   "source": [
    "exact"
   ]
  },
  {
   "cell_type": "code",
   "execution_count": 19,
   "id": "educational-berry",
   "metadata": {},
   "outputs": [
    {
     "name": "stdout",
     "output_type": "stream",
     "text": [
      "Time to produce cfg:  0.015580415725708008\n"
     ]
    }
   ],
   "source": [
    "start = time()\n",
    "cfg = produce_cfg('Grass')\n",
    "end = time()\n",
    "\n",
    "print('Time to produce cfg: ', end-start)"
   ]
  },
  {
   "cell_type": "code",
   "execution_count": 20,
   "id": "identical-neighbor",
   "metadata": {},
   "outputs": [
    {
     "name": "stdout",
     "output_type": "stream",
     "text": [
      "Truncations: 19 total: 0.01563858985900879\n",
      "Updates: 24 total: 0.0\n",
      "Mergings: 10 total: 0.0\n",
      "Time for changing coordinates: 0 \tTime for moments computation: 0\n",
      "Computation completed in  0.0467984676361084\n",
      "N. components: 28\n"
     ]
    },
    {
     "data": {
      "text/plain": [
       "0.7079276773296245"
      ]
     },
     "execution_count": 20,
     "metadata": {},
     "output_type": "execute_result"
    }
   ],
   "source": [
    "start = time()\n",
    "output_dist = start_SOGA(cfg)\n",
    "end = time()\n",
    "    \n",
    "print('Computation completed in ', end-start)\n",
    "print('N. components:', output_dist.gm.n_comp())\n",
    "\n",
    "output_dist.gm.mean()[1]"
   ]
  },
  {
   "cell_type": "markdown",
   "id": "beginning-colon",
   "metadata": {},
   "source": [
    "# NoisyOr"
   ]
  },
  {
   "cell_type": "markdown",
   "id": "random-employment",
   "metadata": {},
   "source": [
    "exact"
   ]
  },
  {
   "cell_type": "code",
   "execution_count": 21,
   "id": "mobile-makeup",
   "metadata": {},
   "outputs": [
    {
     "name": "stdout",
     "output_type": "stream",
     "text": [
      "Time to produce cfg:  0.015714168548583984\n"
     ]
    }
   ],
   "source": [
    "start = time()\n",
    "cfg = produce_cfg('NoisyOr')\n",
    "end = time()\n",
    "\n",
    "print('Time to produce cfg: ', end-start)"
   ]
  },
  {
   "cell_type": "code",
   "execution_count": 22,
   "id": "unique-sociology",
   "metadata": {},
   "outputs": [
    {
     "name": "stdout",
     "output_type": "stream",
     "text": [
      "Truncations: 18 total: 0.01564764976501465\n",
      "Updates: 24 total: 0.08853673934936523\n",
      "Mergings: 10 total: 0.0\n",
      "Time for changing coordinates: 0 \tTime for moments computation: 0\n",
      "Computation completed in  0.12000465393066406\n",
      "N. components: 256\n"
     ]
    },
    {
     "data": {
      "text/plain": [
       "0.8144187499999991"
      ]
     },
     "execution_count": 22,
     "metadata": {},
     "output_type": "execute_result"
    }
   ],
   "source": [
    "start = time()\n",
    "output_dist = start_SOGA(cfg)\n",
    "end = time()\n",
    "\n",
    "print('Computation completed in ', end-start)\n",
    "print('N. components:', output_dist.gm.n_comp())\n",
    "\n",
    "output_dist.gm.mean()[-1]"
   ]
  },
  {
   "cell_type": "markdown",
   "id": "atomic-yellow",
   "metadata": {},
   "source": [
    "### Pruning\n",
    "\n",
    "(makes computational time longer)"
   ]
  },
  {
   "cell_type": "code",
   "execution_count": 23,
   "id": "surgical-stable",
   "metadata": {},
   "outputs": [
    {
     "name": "stdout",
     "output_type": "stream",
     "text": [
      "Time to produce cfg:  0.022556066513061523\n"
     ]
    }
   ],
   "source": [
    "start = time()\n",
    "cfg = produce_cfg('NoisyOrPrune')\n",
    "end = time()\n",
    "\n",
    "print('Time to produce cfg: ', end-start)"
   ]
  },
  {
   "cell_type": "code",
   "execution_count": 24,
   "id": "national-watts",
   "metadata": {},
   "outputs": [
    {
     "name": "stdout",
     "output_type": "stream",
     "text": [
      "Truncations: 18 total: 0.047681331634521484\n",
      "Updates: 24 total: 0.04691433906555176\n",
      "Mergings: 11 total: 0.9723913669586182\n",
      "Time for changing coordinates: 0 \tTime for moments computation: 0\n",
      "Computation completed in  1.082719087600708\n",
      "N. components: 10\n"
     ]
    },
    {
     "data": {
      "text/plain": [
       "0.8144187499999999"
      ]
     },
     "execution_count": 24,
     "metadata": {},
     "output_type": "execute_result"
    }
   ],
   "source": [
    "start = time()\n",
    "output_dist = start_SOGA(cfg)\n",
    "end = time()\n",
    "\n",
    "print('Computation completed in ', end-start)\n",
    "print('N. components:', output_dist.gm.n_comp())\n",
    "\n",
    "output_dist.gm.mean()[-1]"
   ]
  },
  {
   "cell_type": "markdown",
   "id": "metallic-biotechnology",
   "metadata": {},
   "source": [
    "# SurveyUnbias"
   ]
  },
  {
   "cell_type": "markdown",
   "id": "phantom-catalyst",
   "metadata": {},
   "source": [
    "true value: 0.8"
   ]
  },
  {
   "cell_type": "code",
   "execution_count": 25,
   "id": "orange-isolation",
   "metadata": {},
   "outputs": [
    {
     "name": "stdout",
     "output_type": "stream",
     "text": [
      "Time to produce cfg:  0.00948190689086914\n"
     ]
    }
   ],
   "source": [
    "start = time()\n",
    "cfg = produce_cfg('SurveyUnbias')\n",
    "end = time()\n",
    "\n",
    "print('Time to produce cfg: ', end-start)"
   ]
  },
  {
   "cell_type": "code",
   "execution_count": 26,
   "id": "precious-trail",
   "metadata": {},
   "outputs": [
    {
     "data": {
      "text/plain": [
       "['bias1', 'bias2', 'ansb1', 'ansb2']"
      ]
     },
     "execution_count": 26,
     "metadata": {},
     "output_type": "execute_result"
    }
   ],
   "source": [
    "cfg.ID_list"
   ]
  },
  {
   "cell_type": "code",
   "execution_count": 27,
   "id": "significant-greenhouse",
   "metadata": {},
   "outputs": [
    {
     "name": "stdout",
     "output_type": "stream",
     "text": [
      "Truncations: 15 total: 1.1850557327270508\n",
      "Updates: 24 total: 0.0\n",
      "Mergings: 6 total: 0.0\n",
      "Time for changing coordinates: 0.3931550979614258 \tTime for moments computation: 0.7528963088989258\n",
      "Computation completed in  1.1850557327270508\n",
      "N. components: 128\n"
     ]
    },
    {
     "data": {
      "text/plain": [
       "0.7987653829530976"
      ]
     },
     "execution_count": 27,
     "metadata": {},
     "output_type": "execute_result"
    }
   ],
   "source": [
    "start = time()\n",
    "output_dist = start_SOGA(cfg)\n",
    "end = time()\n",
    "\n",
    "print('Computation completed in ', end-start)\n",
    "print('N. components:', output_dist.gm.n_comp())\n",
    "\n",
    "output_dist.gm.mean()[0]"
   ]
  },
  {
   "cell_type": "markdown",
   "id": "pacific-funeral",
   "metadata": {},
   "source": [
    "### Pruning"
   ]
  },
  {
   "cell_type": "code",
   "execution_count": 28,
   "id": "muslim-figure",
   "metadata": {},
   "outputs": [
    {
     "name": "stdout",
     "output_type": "stream",
     "text": [
      "Time to produce cfg:  0.0\n"
     ]
    }
   ],
   "source": [
    "start = time()\n",
    "cfg = produce_cfg('SurveyUnbiasPrune')\n",
    "end = time()\n",
    "\n",
    "print('Time to produce cfg: ', end-start)"
   ]
  },
  {
   "cell_type": "code",
   "execution_count": 29,
   "id": "brief-taylor",
   "metadata": {},
   "outputs": [
    {
     "name": "stdout",
     "output_type": "stream",
     "text": [
      "Truncations: 15 total: 0.21910333633422852\n",
      "Updates: 24 total: 0.0\n",
      "Mergings: 11 total: 0.04703259468078613\n",
      "Time for changing coordinates: 0.015576839447021484 \tTime for moments computation: 0.20352649688720703\n",
      "Computation completed in  0.26613593101501465\n",
      "N. components: 5\n"
     ]
    },
    {
     "data": {
      "text/plain": [
       "0.7986450321840382"
      ]
     },
     "execution_count": 29,
     "metadata": {},
     "output_type": "execute_result"
    }
   ],
   "source": [
    "start = time()\n",
    "output_dist = start_SOGA(cfg)\n",
    "end = time()\n",
    "\n",
    "print('Computation completed in ', end-start)\n",
    "print('N. components:', output_dist.gm.n_comp())\n",
    "\n",
    "output_dist.gm.mean()[0]"
   ]
  },
  {
   "cell_type": "markdown",
   "id": "dense-convertible",
   "metadata": {},
   "source": [
    "# TrueSkill"
   ]
  },
  {
   "cell_type": "markdown",
   "id": "isolated-library",
   "metadata": {},
   "source": [
    "true value: 0.843"
   ]
  },
  {
   "cell_type": "code",
   "execution_count": 30,
   "id": "fewer-position",
   "metadata": {},
   "outputs": [
    {
     "name": "stdout",
     "output_type": "stream",
     "text": [
      "Time to produce cfg:  0.0\n"
     ]
    }
   ],
   "source": [
    "start = time()\n",
    "cfg = produce_cfg('TrueSkill')\n",
    "end = time()\n",
    "\n",
    "print('Time to produce cfg: ', end-start)"
   ]
  },
  {
   "cell_type": "code",
   "execution_count": 31,
   "id": "weekly-auckland",
   "metadata": {},
   "outputs": [
    {
     "name": "stdout",
     "output_type": "stream",
     "text": [
      "Truncations: 4 total: 0.09380269050598145\n",
      "Updates: 9 total: 0.0\n",
      "Mergings: 2 total: 0.0\n",
      "Time for changing coordinates: 0.015588521957397461 \tTime for moments computation: 0.07821416854858398\n",
      "Computation completed in  0.09380269050598145\n",
      "N. components: 2\n"
     ]
    },
    {
     "data": {
      "text/plain": [
       "array([104.7131717 ,  97.60989161,  97.67693972, 115.31779335,\n",
       "        92.23214662,  92.45005544,   0.85297923])"
      ]
     },
     "execution_count": 31,
     "metadata": {},
     "output_type": "execute_result"
    }
   ],
   "source": [
    "start = time()\n",
    "output_dist = start_SOGA(cfg)\n",
    "end = time()\n",
    "    \n",
    "print('Computation completed in ', end-start)\n",
    "print('N. components:', output_dist.gm.n_comp())\n",
    "\n",
    "output_dist.gm.mean()"
   ]
  },
  {
   "cell_type": "markdown",
   "id": "virgin-promotion",
   "metadata": {},
   "source": [
    "# TwoCoins"
   ]
  },
  {
   "cell_type": "markdown",
   "id": "threaded-basic",
   "metadata": {},
   "source": [
    "exact"
   ]
  },
  {
   "cell_type": "code",
   "execution_count": 32,
   "id": "finite-bubble",
   "metadata": {},
   "outputs": [
    {
     "name": "stdout",
     "output_type": "stream",
     "text": [
      "Time to produce cfg:  0.0\n"
     ]
    }
   ],
   "source": [
    "start = time()\n",
    "cfg = produce_cfg('TwoCoins')\n",
    "end = time()\n",
    "\n",
    "print('Time to produce cfg: ', end-start)"
   ]
  },
  {
   "cell_type": "code",
   "execution_count": 33,
   "id": "mediterranean-deviation",
   "metadata": {},
   "outputs": [
    {
     "data": {
      "text/plain": [
       "['first', 'second', 'both']"
      ]
     },
     "execution_count": 33,
     "metadata": {},
     "output_type": "execute_result"
    }
   ],
   "source": [
    "cfg.ID_list"
   ]
  },
  {
   "cell_type": "code",
   "execution_count": 34,
   "id": "south-attitude",
   "metadata": {},
   "outputs": [
    {
     "name": "stdout",
     "output_type": "stream",
     "text": [
      "Truncations: 5 total: 0.0\n",
      "Updates: 6 total: 0.0\n",
      "Mergings: 3 total: 0.0\n",
      "Time for changing coordinates: 0 \tTime for moments computation: 0\n",
      "Computation completed in  0.0\n",
      "N. components: 3\n"
     ]
    },
    {
     "data": {
      "text/plain": [
       "array([0.33333333, 0.33333333, 0.        ])"
      ]
     },
     "execution_count": 34,
     "metadata": {},
     "output_type": "execute_result"
    }
   ],
   "source": [
    "start = time()\n",
    "output_dist = start_SOGA(cfg)\n",
    "end = time()\n",
    "    \n",
    "print('Computation completed in ', end-start)\n",
    "print('N. components:', output_dist.gm.n_comp())\n",
    "\n",
    "output_dist.gm.mean()"
   ]
  },
  {
   "cell_type": "markdown",
   "id": "fatty-candy",
   "metadata": {},
   "source": [
    "# BayesPointMachine"
   ]
  },
  {
   "cell_type": "markdown",
   "id": "hungarian-rachel",
   "metadata": {},
   "source": [
    "true value: 0.056"
   ]
  },
  {
   "cell_type": "code",
   "execution_count": 2,
   "id": "fatty-detroit",
   "metadata": {},
   "outputs": [
    {
     "name": "stdout",
     "output_type": "stream",
     "text": [
      "Time to produce cfg:  0.028211116790771484\n"
     ]
    }
   ],
   "source": [
    "start = time()\n",
    "cfg = produce_cfg('BayesPointMachine')\n",
    "end = time()\n",
    "\n",
    "print('Time to produce cfg: ', end-start)"
   ]
  },
  {
   "cell_type": "code",
   "execution_count": 3,
   "id": "atomic-missouri",
   "metadata": {
    "scrolled": true
   },
   "outputs": [
    {
     "data": {
      "text/plain": [
       "['w[0]',\n",
       " 'w[1]',\n",
       " 'w[2]',\n",
       " 'mean[0]',\n",
       " 'mean[1]',\n",
       " 'mean[2]',\n",
       " 'mean[3]',\n",
       " 'mean[4]',\n",
       " 'mean[5]',\n",
       " 'res[0]',\n",
       " 'res[1]',\n",
       " 'res[2]',\n",
       " 'res[3]',\n",
       " 'res[4]',\n",
       " 'res[5]']"
      ]
     },
     "execution_count": 3,
     "metadata": {},
     "output_type": "execute_result"
    }
   ],
   "source": [
    "cfg.ID_list"
   ]
  },
  {
   "cell_type": "code",
   "execution_count": 4,
   "id": "received-report",
   "metadata": {
    "scrolled": true
   },
   "outputs": [
    {
     "name": "stdout",
     "output_type": "stream",
     "text": [
      "Truncations: 6 total: 439.3736228942871\n",
      "Updates: 17 total: 0.022998332977294922\n",
      "Mergings: 1 total: 0.0\n",
      "Time for changing coordinates: 0.005194902420043945 \tTime for moments computation: 439.3664348125458\n",
      "Computation completed in  439.4010353088379\n",
      "N. components: 1\n"
     ]
    }
   ],
   "source": [
    "start = time()\n",
    "output_dist = start_SOGA(cfg)\n",
    "end = time()\n",
    "    \n",
    "print('Computation completed in ', end-start)\n",
    "print('N. components:', output_dist.gm.n_comp())\n",
    "\n",
    "mean = output_dist.gm.mean()"
   ]
  },
  {
   "cell_type": "code",
   "execution_count": 5,
   "id": "rational-masters",
   "metadata": {},
   "outputs": [
    {
     "data": {
      "text/plain": [
       "0.011565553955733776"
      ]
     },
     "execution_count": 5,
     "metadata": {},
     "output_type": "execute_result"
    }
   ],
   "source": [
    "mean[0]"
   ]
  },
  {
   "cell_type": "markdown",
   "id": "motivated-norwegian",
   "metadata": {},
   "source": [
    "# ClickGraph"
   ]
  },
  {
   "cell_type": "markdown",
   "id": "lonely-expense",
   "metadata": {},
   "source": [
    "true value: 0.614154"
   ]
  },
  {
   "cell_type": "code",
   "execution_count": 6,
   "id": "hawaiian-access",
   "metadata": {},
   "outputs": [],
   "source": [
    "cfg = produce_cfg('ClickGraph')"
   ]
  },
  {
   "cell_type": "code",
   "execution_count": 7,
   "id": "drawn-blank",
   "metadata": {},
   "outputs": [
    {
     "data": {
      "text/plain": [
       "['simAll', 'sim', 'beta1', 'beta2', 'click0', 'click1']"
      ]
     },
     "execution_count": 7,
     "metadata": {},
     "output_type": "execute_result"
    }
   ],
   "source": [
    "cfg.ID_list"
   ]
  },
  {
   "cell_type": "code",
   "execution_count": 8,
   "id": "opponent-wilson",
   "metadata": {},
   "outputs": [],
   "source": [
    "## goes timeout > 30 min\n",
    "\n",
    "#start = time()\n",
    "#output_dist = start_SOGA(cfg)\n",
    "#end = time()\n",
    "\n",
    "#print('Computation completed in ', end-start)\n",
    "\n",
    "#output_dist.gm.mean()"
   ]
  },
  {
   "cell_type": "markdown",
   "id": "prerequisite-cruise",
   "metadata": {},
   "source": [
    "### Pruning"
   ]
  },
  {
   "cell_type": "code",
   "execution_count": 9,
   "id": "plastic-polish",
   "metadata": {},
   "outputs": [],
   "source": [
    "cfg = produce_cfg('ClickGraphPrune')"
   ]
  },
  {
   "cell_type": "code",
   "execution_count": 10,
   "id": "prescription-tribe",
   "metadata": {},
   "outputs": [
    {
     "name": "stdout",
     "output_type": "stream",
     "text": [
      "Truncations: 50 total: 188.44921851158142\n",
      "Updates: 57 total: 0.06349849700927734\n",
      "Mergings: 41 total: 4.233009099960327\n",
      "Time for changing coordinates: 1.2714338302612305 \tTime for moments computation: 186.9067621231079\n",
      "Computation completed in  192.793803691864\n",
      "N. components: 26\n"
     ]
    },
    {
     "data": {
      "text/plain": [
       "0.6342728638405396"
      ]
     },
     "execution_count": 10,
     "metadata": {},
     "output_type": "execute_result"
    }
   ],
   "source": [
    "start = time()\n",
    "output_dist = start_SOGA(cfg)\n",
    "end = time()\n",
    "\n",
    "print('Computation completed in ', end-start)\n",
    "print('N. components:', output_dist.gm.n_comp())\n",
    "\n",
    "output_dist.gm.mean()[0]"
   ]
  },
  {
   "cell_type": "markdown",
   "id": "blank-services",
   "metadata": {},
   "source": [
    "# ClinicalTrial2"
   ]
  },
  {
   "cell_type": "markdown",
   "id": "analyzed-basis",
   "metadata": {},
   "source": [
    "true value: 0.754902"
   ]
  },
  {
   "cell_type": "code",
   "execution_count": 11,
   "id": "sexual-plastic",
   "metadata": {},
   "outputs": [],
   "source": [
    "cfg = produce_cfg('ClinicalTrial2')"
   ]
  },
  {
   "cell_type": "code",
   "execution_count": 12,
   "id": "positive-matter",
   "metadata": {},
   "outputs": [
    {
     "data": {
      "text/plain": [
       "['isEff', 'probTreated', 'probContr', 'ycontr', 'ytreat']"
      ]
     },
     "execution_count": 12,
     "metadata": {},
     "output_type": "execute_result"
    }
   ],
   "source": [
    "cfg.ID_list"
   ]
  },
  {
   "cell_type": "code",
   "execution_count": 13,
   "id": "bearing-adolescent",
   "metadata": {},
   "outputs": [],
   "source": [
    "# goes time out > 30 min\n",
    "\n",
    "#start = time()\n",
    "#output_dist = start_SOGA(cfg)\n",
    "#end = time()\n",
    "\n",
    "#print('Computation completed in ', end-start)\n",
    "\n",
    "#output_dist.gm.mean()"
   ]
  },
  {
   "cell_type": "markdown",
   "id": "inner-livestock",
   "metadata": {},
   "source": [
    "### Pruning"
   ]
  },
  {
   "cell_type": "code",
   "execution_count": 14,
   "id": "fleet-viewer",
   "metadata": {},
   "outputs": [],
   "source": [
    "cfg = produce_cfg('ClinicalTrial2Prune')"
   ]
  },
  {
   "cell_type": "code",
   "execution_count": 15,
   "id": "informed-trading",
   "metadata": {},
   "outputs": [
    {
     "data": {
      "text/plain": [
       "['isEff', 'probTreated', 'probContr', 'ycontr', 'ytreat']"
      ]
     },
     "execution_count": 15,
     "metadata": {},
     "output_type": "execute_result"
    }
   ],
   "source": [
    "cfg.ID_list"
   ]
  },
  {
   "cell_type": "code",
   "execution_count": 16,
   "id": "apart-cotton",
   "metadata": {
    "scrolled": true
   },
   "outputs": [
    {
     "name": "stdout",
     "output_type": "stream",
     "text": [
      "Truncations: 32 total: 56.869590520858765\n",
      "Updates: 46 total: 0.0030052661895751953\n",
      "Mergings: 23 total: 0.2082054615020752\n",
      "Time for changing coordinates: 0.21808362007141113 \tTime for moments computation: 56.57679104804993\n",
      "Computation completed in  57.09851408004761\n",
      "N. components: 11\n"
     ]
    },
    {
     "data": {
      "text/plain": [
       "0.7531745870842527"
      ]
     },
     "execution_count": 16,
     "metadata": {},
     "output_type": "execute_result"
    }
   ],
   "source": [
    "start = time()\n",
    "output_dist = start_SOGA(cfg)\n",
    "end = time()\n",
    "\n",
    "print('Computation completed in ', end-start)\n",
    "print('N. components:', output_dist.gm.n_comp())\n",
    "\n",
    "output_dist.gm.mean()[0]"
   ]
  },
  {
   "cell_type": "markdown",
   "id": "bearing-palestine",
   "metadata": {},
   "source": [
    "# Indian GPA"
   ]
  },
  {
   "cell_type": "markdown",
   "id": "hearing-creator",
   "metadata": {},
   "source": [
    "true value: 1"
   ]
  },
  {
   "cell_type": "code",
   "execution_count": 17,
   "id": "higher-saver",
   "metadata": {},
   "outputs": [
    {
     "name": "stdout",
     "output_type": "stream",
     "text": [
      "Time to produce cfg:  0.00958251953125\n"
     ]
    }
   ],
   "source": [
    "start = time()\n",
    "cfg = produce_cfg('IndianGPA')\n",
    "end = time()\n",
    "\n",
    "print('Time to produce cfg: ', end-start)"
   ]
  },
  {
   "cell_type": "code",
   "execution_count": 18,
   "id": "diverse-string",
   "metadata": {},
   "outputs": [
    {
     "data": {
      "text/plain": [
       "['usa', 'usagpa', 'indgpa', 'gpa']"
      ]
     },
     "execution_count": 18,
     "metadata": {},
     "output_type": "execute_result"
    }
   ],
   "source": [
    "cfg.ID_list"
   ]
  },
  {
   "cell_type": "code",
   "execution_count": 19,
   "id": "neutral-trigger",
   "metadata": {},
   "outputs": [
    {
     "name": "stdout",
     "output_type": "stream",
     "text": [
      "Truncations: 7 total: 0.06341290473937988\n",
      "Updates: 7 total: 0.011106729507446289\n",
      "Mergings: 4 total: 0.0\n",
      "Time for changing coordinates: 0.03141903877258301 \tTime for moments computation: 0.01964855194091797\n",
      "Computation completed in  0.07559347152709961\n",
      "N. components: 11\n"
     ]
    },
    {
     "data": {
      "text/plain": [
       "array([1.        , 4.        , 5.12034045, 4.        ])"
      ]
     },
     "execution_count": 19,
     "metadata": {},
     "output_type": "execute_result"
    }
   ],
   "source": [
    "start = time()\n",
    "output_dist = start_SOGA(cfg)\n",
    "end = time()\n",
    "    \n",
    "print('Computation completed in ', end-start)\n",
    "print('N. components:', output_dist.gm.n_comp())\n",
    "\n",
    "output_dist.gm.mean()"
   ]
  },
  {
   "cell_type": "markdown",
   "id": "still-routine",
   "metadata": {},
   "source": [
    "# Gauss Examples"
   ]
  },
  {
   "cell_type": "markdown",
   "id": "chubby-boundary",
   "metadata": {},
   "source": [
    "## BernoulliGauss"
   ]
  },
  {
   "cell_type": "code",
   "execution_count": 20,
   "id": "ready-mandate",
   "metadata": {},
   "outputs": [
    {
     "name": "stdout",
     "output_type": "stream",
     "text": [
      "Time to produce cfg:  0.005084514617919922\n"
     ]
    }
   ],
   "source": [
    "start = time()\n",
    "cfg = produce_cfg('Gauss/BernoulliGauss')\n",
    "end = time()\n",
    "\n",
    "print('Time to produce cfg: ', end-start)"
   ]
  },
  {
   "cell_type": "code",
   "execution_count": 21,
   "id": "cordless-catering",
   "metadata": {
    "scrolled": true
   },
   "outputs": [
    {
     "data": {
      "text/plain": [
       "['theta', 'y']"
      ]
     },
     "execution_count": 21,
     "metadata": {},
     "output_type": "execute_result"
    }
   ],
   "source": [
    "cfg.ID_list"
   ]
  },
  {
   "cell_type": "code",
   "execution_count": 22,
   "id": "intended-attachment",
   "metadata": {
    "scrolled": true
   },
   "outputs": [
    {
     "name": "stdout",
     "output_type": "stream",
     "text": [
      "Truncations: 30 total: 0.05494880676269531\n",
      "Updates: 42 total: 0.0050525665283203125\n",
      "Mergings: 11 total: 0.0\n",
      "Time for changing coordinates: 0.008093833923339844 \tTime for moments computation: 0.03130173683166504\n",
      "Computation completed in  0.06604170799255371\n",
      "N. components: 1\n"
     ]
    },
    {
     "data": {
      "text/plain": [
       "-0.7532570956172188"
      ]
     },
     "execution_count": 22,
     "metadata": {},
     "output_type": "execute_result"
    }
   ],
   "source": [
    "start = time()\n",
    "output_dist = start_SOGA(cfg)\n",
    "end = time()\n",
    "print('Computation completed in ', end-start)\n",
    "print('N. components:', output_dist.gm.n_comp())\n",
    "\n",
    "output_dist.gm.mean()[0]"
   ]
  },
  {
   "cell_type": "markdown",
   "id": "attended-marsh",
   "metadata": {},
   "source": [
    "## CoinBiasGauss"
   ]
  },
  {
   "cell_type": "code",
   "execution_count": 23,
   "id": "alpha-banana",
   "metadata": {},
   "outputs": [
    {
     "name": "stdout",
     "output_type": "stream",
     "text": [
      "Time to produce cfg:  0.0012049674987792969\n"
     ]
    }
   ],
   "source": [
    "start = time()\n",
    "cfg = produce_cfg('Gauss/CoinBiasGauss')\n",
    "end = time()\n",
    "\n",
    "print('Time to produce cfg: ', end-start)"
   ]
  },
  {
   "cell_type": "code",
   "execution_count": 24,
   "id": "ready-headset",
   "metadata": {
    "scrolled": true
   },
   "outputs": [
    {
     "data": {
      "text/plain": [
       "['theta', 'y']"
      ]
     },
     "execution_count": 24,
     "metadata": {},
     "output_type": "execute_result"
    }
   ],
   "source": [
    "cfg.ID_list"
   ]
  },
  {
   "cell_type": "code",
   "execution_count": 25,
   "id": "enclosed-association",
   "metadata": {
    "scrolled": true
   },
   "outputs": [
    {
     "name": "stdout",
     "output_type": "stream",
     "text": [
      "Truncations: 15 total: 0.021817684173583984\n",
      "Updates: 22 total: 0.012140512466430664\n",
      "Mergings: 6 total: 0.0\n",
      "Time for changing coordinates: 0.0009996891021728516 \tTime for moments computation: 0.005242586135864258\n",
      "Computation completed in  0.03395819664001465\n",
      "N. components: 1\n"
     ]
    },
    {
     "data": {
      "text/plain": [
       "0.19787983308028412"
      ]
     },
     "execution_count": 25,
     "metadata": {},
     "output_type": "execute_result"
    }
   ],
   "source": [
    "start = time()\n",
    "output_dist = start_SOGA(cfg)\n",
    "end = time()\n",
    "    \n",
    "print('Computation completed in ', end-start)\n",
    "print('N. components:', output_dist.gm.n_comp())\n",
    "\n",
    "output_dist.gm.mean()[0]"
   ]
  },
  {
   "cell_type": "markdown",
   "id": "christian-variance",
   "metadata": {},
   "source": [
    "## SurveyUnbiasGauss"
   ]
  },
  {
   "cell_type": "code",
   "execution_count": 26,
   "id": "irish-edmonton",
   "metadata": {},
   "outputs": [
    {
     "name": "stdout",
     "output_type": "stream",
     "text": [
      "Time to produce cfg:  0.004160404205322266\n"
     ]
    }
   ],
   "source": [
    "start = time()\n",
    "cfg = produce_cfg('Gauss/SurveyUnbiasGauss')\n",
    "end = time()\n",
    "\n",
    "print('Time to produce cfg: ', end-start)"
   ]
  },
  {
   "cell_type": "code",
   "execution_count": 27,
   "id": "interested-launch",
   "metadata": {
    "scrolled": true
   },
   "outputs": [
    {
     "data": {
      "text/plain": [
       "['bias1', 'bias2', 'yb1', 'yb2']"
      ]
     },
     "execution_count": 27,
     "metadata": {},
     "output_type": "execute_result"
    }
   ],
   "source": [
    "cfg.ID_list"
   ]
  },
  {
   "cell_type": "code",
   "execution_count": 28,
   "id": "after-trademark",
   "metadata": {
    "scrolled": true
   },
   "outputs": [
    {
     "name": "stdout",
     "output_type": "stream",
     "text": [
      "Truncations: 15 total: 0.024689435958862305\n",
      "Updates: 24 total: 0.014512300491333008\n",
      "Mergings: 6 total: 0.0\n",
      "Time for changing coordinates: 0.0028624534606933594 \tTime for moments computation: 0.004006385803222656\n",
      "Computation completed in  0.0429081916809082\n",
      "N. components: 1\n"
     ]
    },
    {
     "data": {
      "text/plain": [
       "1.5303404369003732"
      ]
     },
     "execution_count": 28,
     "metadata": {},
     "output_type": "execute_result"
    }
   ],
   "source": [
    "start = time()\n",
    "output_dist = start_SOGA(cfg)\n",
    "end = time()\n",
    "    \n",
    "print('Computation completed in ', end-start)\n",
    "print('N. components:', output_dist.gm.n_comp())\n",
    "\n",
    "output_dist.gm.mean()[0]"
   ]
  },
  {
   "cell_type": "markdown",
   "id": "answering-reviewer",
   "metadata": {},
   "source": [
    "## ClickGraphGauss"
   ]
  },
  {
   "cell_type": "code",
   "execution_count": 29,
   "id": "daily-hygiene",
   "metadata": {},
   "outputs": [
    {
     "name": "stdout",
     "output_type": "stream",
     "text": [
      "Time to produce cfg:  0.01775050163269043\n"
     ]
    }
   ],
   "source": [
    "start = time()\n",
    "cfg = produce_cfg('Gauss/ClickGraphGauss')\n",
    "end = time()\n",
    "\n",
    "print('Time to produce cfg: ', end-start)"
   ]
  },
  {
   "cell_type": "code",
   "execution_count": 30,
   "id": "literary-chart",
   "metadata": {
    "scrolled": true
   },
   "outputs": [
    {
     "data": {
      "text/plain": [
       "['simAll', 'sim', 'beta1', 'beta2', 'y0', 'y1']"
      ]
     },
     "execution_count": 30,
     "metadata": {},
     "output_type": "execute_result"
    }
   ],
   "source": [
    "cfg.ID_list"
   ]
  },
  {
   "cell_type": "code",
   "execution_count": 31,
   "id": "eight-albany",
   "metadata": {
    "scrolled": true
   },
   "outputs": [
    {
     "name": "stdout",
     "output_type": "stream",
     "text": [
      "Truncations: 50 total: 64.2243275642395\n",
      "Updates: 57 total: 0.01863574981689453\n",
      "Mergings: 21 total: 0.0\n",
      "Time for changing coordinates: 0.18227076530456543 \tTime for moments computation: 63.9790358543396\n",
      "Computation completed in  64.2429633140564\n",
      "N. components: 32\n"
     ]
    },
    {
     "data": {
      "text/plain": [
       "0.8955243258596454"
      ]
     },
     "execution_count": 31,
     "metadata": {},
     "output_type": "execute_result"
    }
   ],
   "source": [
    "times = []\n",
    "\n",
    "start = time()\n",
    "output_dist = start_SOGA(cfg)\n",
    "end = time()\n",
    "    \n",
    "print('Computation completed in ', end-start)\n",
    "print('N. components:', output_dist.gm.n_comp())\n",
    "\n",
    "output_dist.gm.mean()[0]"
   ]
  },
  {
   "cell_type": "markdown",
   "id": "religious-circus",
   "metadata": {},
   "source": [
    "## ClinicalTrialGauss"
   ]
  },
  {
   "cell_type": "code",
   "execution_count": 32,
   "id": "comfortable-crest",
   "metadata": {},
   "outputs": [
    {
     "name": "stdout",
     "output_type": "stream",
     "text": [
      "Time to produce cfg:  0.014759063720703125\n"
     ]
    }
   ],
   "source": [
    "start = time()\n",
    "cfg = produce_cfg('Gauss/ClinicalTrialGauss')\n",
    "end = time()\n",
    "\n",
    "print('Time to produce cfg: ', end-start)"
   ]
  },
  {
   "cell_type": "code",
   "execution_count": 33,
   "id": "dietary-navigation",
   "metadata": {
    "scrolled": true
   },
   "outputs": [
    {
     "data": {
      "text/plain": [
       "['isEff', 'probTreated', 'probContr', 'ycontr', 'ytreat']"
      ]
     },
     "execution_count": 33,
     "metadata": {},
     "output_type": "execute_result"
    }
   ],
   "source": [
    "cfg.ID_list"
   ]
  },
  {
   "cell_type": "code",
   "execution_count": 34,
   "id": "confirmed-tourist",
   "metadata": {
    "scrolled": true
   },
   "outputs": [
    {
     "name": "stdout",
     "output_type": "stream",
     "text": [
      "Truncations: 32 total: 3.1407275199890137\n",
      "Updates: 46 total: 0.005289554595947266\n",
      "Mergings: 12 total: 0.0\n",
      "Time for changing coordinates: 0.0041773319244384766 \tTime for moments computation: 3.1224584579467773\n",
      "Computation completed in  3.1471080780029297\n",
      "N. components: 2\n"
     ]
    },
    {
     "data": {
      "text/plain": [
       "0.7612237232813578"
      ]
     },
     "execution_count": 34,
     "metadata": {},
     "output_type": "execute_result"
    }
   ],
   "source": [
    "start = time()\n",
    "output_dist = start_SOGA(cfg)\n",
    "end = time()\n",
    "\n",
    "print('Computation completed in ', end-start)\n",
    "print('N. components:', output_dist.gm.n_comp())\n",
    "\n",
    "output_dist.gm.mean()[0]"
   ]
  },
  {
   "cell_type": "markdown",
   "id": "informal-block",
   "metadata": {},
   "source": [
    "# AQUA Example"
   ]
  },
  {
   "cell_type": "markdown",
   "id": "automated-ethnic",
   "metadata": {},
   "source": [
    "## Altermu"
   ]
  },
  {
   "cell_type": "markdown",
   "id": "charged-sullivan",
   "metadata": {},
   "source": [
    "true value: \n",
    "mu1: 3.365363543395006e-16\n",
    "mu2: 3.365363543395006e-16\n",
    "mu3: -0.11221539502189211"
   ]
  },
  {
   "cell_type": "code",
   "execution_count": 35,
   "id": "relative-telescope",
   "metadata": {},
   "outputs": [
    {
     "name": "stdout",
     "output_type": "stream",
     "text": [
      "Time to produce cfg:  0.013580083847045898\n"
     ]
    }
   ],
   "source": [
    "start = time()\n",
    "cfg = produce_cfg('AQUA/Altermu')\n",
    "end = time()\n",
    "\n",
    "print('Time to produce cfg: ', end-start)"
   ]
  },
  {
   "cell_type": "code",
   "execution_count": 36,
   "id": "dynamic-underwear",
   "metadata": {},
   "outputs": [
    {
     "data": {
      "text/plain": [
       "['y[0]',\n",
       " 'y[1]',\n",
       " 'y[2]',\n",
       " 'y[3]',\n",
       " 'y[4]',\n",
       " 'y[5]',\n",
       " 'y[6]',\n",
       " 'y[7]',\n",
       " 'y[8]',\n",
       " 'y[9]',\n",
       " 'y[10]',\n",
       " 'y[11]',\n",
       " 'y[12]',\n",
       " 'y[13]',\n",
       " 'y[14]',\n",
       " 'y[15]',\n",
       " 'y[16]',\n",
       " 'y[17]',\n",
       " 'y[18]',\n",
       " 'y[19]',\n",
       " 'y[20]',\n",
       " 'y[21]',\n",
       " 'y[22]',\n",
       " 'y[23]',\n",
       " 'y[24]',\n",
       " 'y[25]',\n",
       " 'y[26]',\n",
       " 'y[27]',\n",
       " 'y[28]',\n",
       " 'y[29]',\n",
       " 'y[30]',\n",
       " 'y[31]',\n",
       " 'y[32]',\n",
       " 'y[33]',\n",
       " 'y[34]',\n",
       " 'y[35]',\n",
       " 'y[36]',\n",
       " 'y[37]',\n",
       " 'y[38]',\n",
       " 'y[39]',\n",
       " 'w1',\n",
       " 'w2',\n",
       " 'w3',\n",
       " 'mean']"
      ]
     },
     "execution_count": 36,
     "metadata": {},
     "output_type": "execute_result"
    }
   ],
   "source": [
    "cfg.ID_list"
   ]
  },
  {
   "cell_type": "code",
   "execution_count": 37,
   "id": "every-venue",
   "metadata": {},
   "outputs": [
    {
     "name": "stdout",
     "output_type": "stream",
     "text": [
      "Truncations: 40 total: 0.031445980072021484\n",
      "Updates: 127 total: 0.0894467830657959\n",
      "Mergings: 1 total: 0.0\n",
      "Time for changing coordinates: 0 \tTime for moments computation: 0\n",
      "Computation completed in  0.14187097549438477\n",
      "N. components: 1\n"
     ]
    },
    {
     "data": {
      "text/plain": [
       "array([ 0.        ,  0.        , -0.00137427], dtype=float32)"
      ]
     },
     "execution_count": 37,
     "metadata": {},
     "output_type": "execute_result"
    }
   ],
   "source": [
    "start = time()\n",
    "output_dist = start_SOGA(cfg)\n",
    "end = time()\n",
    "\n",
    "print('Computation completed in ', end-start)\n",
    "print('N. components:', output_dist.gm.n_comp())\n",
    "\n",
    "output_dist.gm.mean()[-4:-1]"
   ]
  },
  {
   "cell_type": "markdown",
   "id": "outstanding-window",
   "metadata": {},
   "source": [
    "## Altermu2"
   ]
  },
  {
   "cell_type": "markdown",
   "id": "rotary-course",
   "metadata": {},
   "source": [
    "true value:\n",
    "mu1:  0.15521420874071362\n",
    "mu2:  0.1552142087407135"
   ]
  },
  {
   "cell_type": "code",
   "execution_count": 38,
   "id": "functional-scratch",
   "metadata": {},
   "outputs": [
    {
     "name": "stdout",
     "output_type": "stream",
     "text": [
      "Time to produce cfg:  0.0052111148834228516\n"
     ]
    }
   ],
   "source": [
    "start = time()\n",
    "cfg = produce_cfg('AQUA/Altermu2')\n",
    "end = time()\n",
    "\n",
    "print('Time to produce cfg: ', end-start)"
   ]
  },
  {
   "cell_type": "code",
   "execution_count": 39,
   "id": "animated-designer",
   "metadata": {},
   "outputs": [
    {
     "data": {
      "text/plain": [
       "['y[0]',\n",
       " 'y[1]',\n",
       " 'y[2]',\n",
       " 'y[3]',\n",
       " 'y[4]',\n",
       " 'y[5]',\n",
       " 'y[6]',\n",
       " 'y[7]',\n",
       " 'y[8]',\n",
       " 'y[9]',\n",
       " 'y[10]',\n",
       " 'y[11]',\n",
       " 'y[12]',\n",
       " 'y[13]',\n",
       " 'y[14]',\n",
       " 'y[15]',\n",
       " 'y[16]',\n",
       " 'y[17]',\n",
       " 'y[18]',\n",
       " 'y[19]',\n",
       " 'y[20]',\n",
       " 'y[21]',\n",
       " 'y[22]',\n",
       " 'y[23]',\n",
       " 'y[24]',\n",
       " 'y[25]',\n",
       " 'y[26]',\n",
       " 'y[27]',\n",
       " 'y[28]',\n",
       " 'y[29]',\n",
       " 'y[30]',\n",
       " 'y[31]',\n",
       " 'y[32]',\n",
       " 'y[33]',\n",
       " 'y[34]',\n",
       " 'y[35]',\n",
       " 'y[36]',\n",
       " 'y[37]',\n",
       " 'y[38]',\n",
       " 'y[39]',\n",
       " 'w1',\n",
       " 'w2']"
      ]
     },
     "execution_count": 39,
     "metadata": {},
     "output_type": "execute_result"
    }
   ],
   "source": [
    "cfg.ID_list"
   ]
  },
  {
   "cell_type": "code",
   "execution_count": 40,
   "id": "embedded-mixture",
   "metadata": {
    "scrolled": true
   },
   "outputs": [
    {
     "name": "stdout",
     "output_type": "stream",
     "text": [
      "Truncations: 40 total: 0.12838387489318848\n",
      "Updates: 124 total: 0.1936025619506836\n",
      "Mergings: 1 total: 0.0\n",
      "Time for changing coordinates: 0 \tTime for moments computation: 0\n",
      "Computation completed in  0.33086133003234863\n",
      "N. components: 4\n"
     ]
    },
    {
     "data": {
      "text/plain": [
       "array([0.15558612, 0.15558612], dtype=float32)"
      ]
     },
     "execution_count": 40,
     "metadata": {},
     "output_type": "execute_result"
    }
   ],
   "source": [
    "start = time()\n",
    "output_dist = start_SOGA(cfg)\n",
    "end = time()\n",
    "\n",
    "print('Computation completed in ', end-start)\n",
    "print('N. components:', output_dist.gm.n_comp())\n",
    "\n",
    "output_dist.gm.mean()[-2:]"
   ]
  },
  {
   "cell_type": "markdown",
   "id": "every-registrar",
   "metadata": {},
   "source": [
    "## Normal Mixtures"
   ]
  },
  {
   "cell_type": "code",
   "execution_count": 41,
   "id": "million-breach",
   "metadata": {},
   "outputs": [
    {
     "name": "stdout",
     "output_type": "stream",
     "text": [
      "Time to produce cfg:  0.008028030395507812\n"
     ]
    }
   ],
   "source": [
    "start = time()\n",
    "cfg = produce_cfg('AQUA/NormalMixture')\n",
    "end = time()\n",
    "\n",
    "print('Time to produce cfg: ', end-start)"
   ]
  },
  {
   "cell_type": "code",
   "execution_count": 42,
   "id": "overhead-suggestion",
   "metadata": {},
   "outputs": [],
   "source": [
    "# goes t.o. > 30 min even with pruning\n",
    "\n",
    "# times = []\n",
    "# \n",
    "# start = time()\n",
    "# output_dist = start_SOGA(cfg)\n",
    "# end = time()\n",
    "# times.append(end-start)\n",
    "# \n",
    "# print('Computation completed in ', np.mean(times))\n",
    "# \n",
    "# output_dist.gm.mean()"
   ]
  },
  {
   "cell_type": "markdown",
   "id": "forty-challenge",
   "metadata": {},
   "source": [
    "## TimeSeries"
   ]
  },
  {
   "cell_type": "markdown",
   "id": "rubber-theta",
   "metadata": {},
   "source": [
    "true value \n",
    "alpha:  -1.5751952024094684\n",
    "beta:  0.6841150519335847\n",
    "lambda:  0.4765771501058374"
   ]
  },
  {
   "cell_type": "code",
   "execution_count": 43,
   "id": "actual-electricity",
   "metadata": {},
   "outputs": [
    {
     "name": "stdout",
     "output_type": "stream",
     "text": [
      "Time to produce cfg:  0.07837605476379395\n"
     ]
    }
   ],
   "source": [
    "start = time()\n",
    "cfg = produce_cfg('AQUA/TimeSeries')\n",
    "end = time()\n",
    "\n",
    "print('Time to produce cfg: ', end-start)"
   ]
  },
  {
   "cell_type": "code",
   "execution_count": 44,
   "id": "lightweight-matrix",
   "metadata": {},
   "outputs": [
    {
     "data": {
      "text/plain": [
       "['a',\n",
       " 'b',\n",
       " 'lamb',\n",
       " 'y0',\n",
       " 'y1',\n",
       " 'y2',\n",
       " 'y3',\n",
       " 'y4',\n",
       " 'y5',\n",
       " 'y6',\n",
       " 'y7',\n",
       " 'y8',\n",
       " 'y9',\n",
       " 'y10',\n",
       " 'y11',\n",
       " 'y12',\n",
       " 'y13',\n",
       " 'y14',\n",
       " 'y15',\n",
       " 'y16',\n",
       " 'y17',\n",
       " 'y18',\n",
       " 'y19',\n",
       " 'y20',\n",
       " 'y21',\n",
       " 'y22',\n",
       " 'y23',\n",
       " 'y24',\n",
       " 'y25',\n",
       " 'y26',\n",
       " 'y27',\n",
       " 'y28',\n",
       " 'y29',\n",
       " 'y30',\n",
       " 'y31',\n",
       " 'y32',\n",
       " 'y33',\n",
       " 'y34',\n",
       " 'y35',\n",
       " 'y36',\n",
       " 'y37',\n",
       " 'y38',\n",
       " 'y39']"
      ]
     },
     "execution_count": 44,
     "metadata": {},
     "output_type": "execute_result"
    }
   ],
   "source": [
    "cfg.ID_list"
   ]
  },
  {
   "cell_type": "code",
   "execution_count": 45,
   "id": "fiscal-switzerland",
   "metadata": {},
   "outputs": [
    {
     "name": "stdout",
     "output_type": "stream",
     "text": [
      "Truncations: 39 total: 0.2044086456298828\n",
      "Updates: 121 total: 0.7229657173156738\n",
      "Mergings: 1 total: 0.0\n",
      "Time for changing coordinates: 0 \tTime for moments computation: 0\n",
      "Computation completed in  0.9599003791809082\n",
      "N. components: 8\n"
     ]
    },
    {
     "data": {
      "text/plain": [
       "array([-1.6015656,  0.695174 ,  0.4535055], dtype=float32)"
      ]
     },
     "execution_count": 45,
     "metadata": {},
     "output_type": "execute_result"
    }
   ],
   "source": [
    "start = time()\n",
    "output_dist = start_SOGA(cfg)\n",
    "end = time()\n",
    "\n",
    "print('Computation completed in ', end-start)\n",
    "print('N. components:', output_dist.gm.n_comp())\n",
    "\n",
    "output_dist.gm.mean()[:3]"
   ]
  },
  {
   "cell_type": "code",
   "execution_count": null,
   "id": "turned-italic",
   "metadata": {},
   "outputs": [],
   "source": []
  }
 ],
 "metadata": {
  "kernelspec": {
   "display_name": "Python 3",
   "language": "python",
   "name": "python3"
  },
  "language_info": {
   "codemirror_mode": {
    "name": "ipython",
    "version": 3
   },
   "file_extension": ".py",
   "mimetype": "text/x-python",
   "name": "python",
   "nbconvert_exporter": "python",
   "pygments_lexer": "ipython3",
   "version": "3.8.5"
  },
  "toc": {
   "base_numbering": 1,
   "nav_menu": {},
   "number_sections": true,
   "sideBar": true,
   "skip_h1_title": false,
   "title_cell": "Table of Contents",
   "title_sidebar": "Contents",
   "toc_cell": false,
   "toc_position": {
    "height": "calc(100% - 180px)",
    "left": "10px",
    "top": "150px",
    "width": "341.306px"
   },
   "toc_section_display": true,
   "toc_window_display": true
  }
 },
 "nbformat": 4,
 "nbformat_minor": 5
}
