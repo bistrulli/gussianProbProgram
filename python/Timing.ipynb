{
 "cells": [
  {
   "cell_type": "code",
   "execution_count": 1,
   "id": "mounted-progress",
   "metadata": {},
   "outputs": [],
   "source": [
    "from producecfg import *\n",
    "from libSOGA import *\n",
    "\n",
    "from time import time\n",
    "\n",
    "num_rep = 10"
   ]
  },
  {
   "cell_type": "markdown",
   "id": "faced-rebel",
   "metadata": {},
   "source": [
    "# Bernoulli"
   ]
  },
  {
   "cell_type": "markdown",
   "id": "single-ambassador",
   "metadata": {},
   "source": [
    "true value: 0.25"
   ]
  },
  {
   "cell_type": "code",
   "execution_count": 2,
   "id": "rapid-scratch",
   "metadata": {},
   "outputs": [
    {
     "name": "stdout",
     "output_type": "stream",
     "text": [
      "Time to produce cfg:  0.0199892520904541\n"
     ]
    }
   ],
   "source": [
    "start = time()\n",
    "cfg = produce_cfg('Bernoulli')\n",
    "end = time()\n",
    "\n",
    "print('Time to produce cfg: ', end-start)"
   ]
  },
  {
   "cell_type": "code",
   "execution_count": 3,
   "id": "intelligent-interstate",
   "metadata": {},
   "outputs": [
    {
     "data": {
      "text/plain": [
       "['theta', 'y']"
      ]
     },
     "execution_count": 3,
     "metadata": {},
     "output_type": "execute_result"
    }
   ],
   "source": [
    "cfg.ID_list"
   ]
  },
  {
   "cell_type": "code",
   "execution_count": 4,
   "id": "failing-editing",
   "metadata": {
    "scrolled": false
   },
   "outputs": [
    {
     "name": "stdout",
     "output_type": "stream",
     "text": [
      "Computation completed in  11.821075820922852\n",
      "N. components: 1774\n"
     ]
    },
    {
     "data": {
      "text/plain": [
       "array([0.25191365, 1.        ])"
      ]
     },
     "execution_count": 4,
     "metadata": {},
     "output_type": "execute_result"
    }
   ],
   "source": [
    "times = []\n",
    "\n",
    "for i in range(num_rep):\n",
    "    start = time()\n",
    "    output_dist = start_SOGA(cfg)\n",
    "    end = time()\n",
    "    times.append(end-start)\n",
    "    \n",
    "print('Computation completed in ', np.mean(times))\n",
    "print('N. components:', output_dist.gm.n_comp())\n",
    "\n",
    "output_dist.gm.mean()"
   ]
  },
  {
   "cell_type": "markdown",
   "id": "induced-blues",
   "metadata": {},
   "source": [
    "### Pruning"
   ]
  },
  {
   "cell_type": "code",
   "execution_count": 5,
   "id": "individual-opinion",
   "metadata": {},
   "outputs": [
    {
     "name": "stdout",
     "output_type": "stream",
     "text": [
      "Time to produce cfg:  0.007999897003173828\n"
     ]
    }
   ],
   "source": [
    "start = time()\n",
    "cfg = produce_cfg('BernoulliPrune')\n",
    "end = time()\n",
    "\n",
    "print('Time to produce cfg: ', end-start)"
   ]
  },
  {
   "cell_type": "code",
   "execution_count": 6,
   "id": "dangerous-disposal",
   "metadata": {},
   "outputs": [
    {
     "name": "stdout",
     "output_type": "stream",
     "text": [
      "Computation completed in  1.3080849409103394\n",
      "N. components: 27\n"
     ]
    },
    {
     "data": {
      "text/plain": [
       "array([0.25191323, 1.        ])"
      ]
     },
     "execution_count": 6,
     "metadata": {},
     "output_type": "execute_result"
    }
   ],
   "source": [
    "times = []\n",
    "\n",
    "for i in range(num_rep):\n",
    "    start = time()\n",
    "    output_dist = start_SOGA(cfg)\n",
    "    end = time()\n",
    "    times.append(end-start)\n",
    "    \n",
    "print('Computation completed in ', np.mean(times))\n",
    "print('N. components:', output_dist.gm.n_comp())\n",
    "\n",
    "output_dist.gm.mean()"
   ]
  },
  {
   "cell_type": "code",
   "execution_count": 7,
   "id": "statutory-insider",
   "metadata": {},
   "outputs": [
    {
     "data": {
      "text/plain": [
       "26.61"
      ]
     },
     "execution_count": 7,
     "metadata": {},
     "output_type": "execute_result"
    }
   ],
   "source": [
    "0.015*1774"
   ]
  },
  {
   "cell_type": "markdown",
   "id": "ahead-vinyl",
   "metadata": {},
   "source": [
    "# BayesPointMachine"
   ]
  },
  {
   "cell_type": "markdown",
   "id": "reported-patch",
   "metadata": {},
   "source": [
    "true value: 0.056"
   ]
  },
  {
   "cell_type": "code",
   "execution_count": 8,
   "id": "single-substance",
   "metadata": {},
   "outputs": [
    {
     "name": "stdout",
     "output_type": "stream",
     "text": [
      "Time to produce cfg:  0.029430150985717773\n"
     ]
    }
   ],
   "source": [
    "start = time()\n",
    "cfg = produce_cfg('BayesPointMachine')\n",
    "end = time()\n",
    "\n",
    "print('Time to produce cfg: ', end-start)"
   ]
  },
  {
   "cell_type": "code",
   "execution_count": 9,
   "id": "convenient-differential",
   "metadata": {
    "scrolled": true
   },
   "outputs": [
    {
     "data": {
      "text/plain": [
       "['w[0]',\n",
       " 'w[1]',\n",
       " 'w[2]',\n",
       " 'mean[0]',\n",
       " 'mean[1]',\n",
       " 'mean[2]',\n",
       " 'mean[3]',\n",
       " 'mean[4]',\n",
       " 'mean[5]']"
      ]
     },
     "execution_count": 9,
     "metadata": {},
     "output_type": "execute_result"
    }
   ],
   "source": [
    "cfg.ID_list"
   ]
  },
  {
   "cell_type": "code",
   "execution_count": 10,
   "id": "laden-lloyd",
   "metadata": {
    "scrolled": true
   },
   "outputs": [
    {
     "name": "stdout",
     "output_type": "stream",
     "text": [
      "Computation completed in  1.996245265007019\n",
      "N. components: 1\n"
     ]
    }
   ],
   "source": [
    "times = []\n",
    "\n",
    "for i in range(num_rep):\n",
    "    start = time()\n",
    "    output_dist = start_SOGA(cfg)\n",
    "    end = time()\n",
    "    times.append(end-start)\n",
    "    \n",
    "print('Computation completed in ', np.mean(times))\n",
    "print('N. components:', output_dist.gm.n_comp())\n",
    "\n",
    "mean = output_dist.gm.mean()"
   ]
  },
  {
   "cell_type": "code",
   "execution_count": 11,
   "id": "static-injection",
   "metadata": {},
   "outputs": [
    {
     "data": {
      "text/plain": [
       "0.01117729116231203"
      ]
     },
     "execution_count": 11,
     "metadata": {},
     "output_type": "execute_result"
    }
   ],
   "source": [
    "mean[0]"
   ]
  },
  {
   "cell_type": "markdown",
   "id": "simplified-binary",
   "metadata": {},
   "source": [
    "# Burglar"
   ]
  },
  {
   "cell_type": "markdown",
   "id": "adjusted-invasion",
   "metadata": {},
   "source": [
    "exact"
   ]
  },
  {
   "cell_type": "code",
   "execution_count": 12,
   "id": "light-reset",
   "metadata": {},
   "outputs": [
    {
     "name": "stdout",
     "output_type": "stream",
     "text": [
      "Time to produce cfg:  0.021674394607543945\n"
     ]
    }
   ],
   "source": [
    "start = time()\n",
    "cfg = produce_cfg('Burglar')\n",
    "end = time()\n",
    "\n",
    "print('Time to produce cfg: ', end-start)"
   ]
  },
  {
   "cell_type": "code",
   "execution_count": 13,
   "id": "compound-gibraltar",
   "metadata": {},
   "outputs": [
    {
     "name": "stdout",
     "output_type": "stream",
     "text": [
      "['earthquake', 'burglary', 'alarm', 'phoneWorking', 'maryWakes', 'called']\n",
      "#vars: 6\n"
     ]
    }
   ],
   "source": [
    "print(cfg.ID_list)\n",
    "print('#vars:', len(cfg.ID_list))"
   ]
  },
  {
   "cell_type": "code",
   "execution_count": 14,
   "id": "according-responsibility",
   "metadata": {},
   "outputs": [
    {
     "name": "stdout",
     "output_type": "stream",
     "text": [
      "Computation completed in  0.01907618045806885\n",
      "N. components: 4\n"
     ]
    },
    {
     "data": {
      "text/plain": [
       "0.0029934492413055433"
      ]
     },
     "execution_count": 14,
     "metadata": {},
     "output_type": "execute_result"
    }
   ],
   "source": [
    "times = []\n",
    "\n",
    "for i in range(num_rep):\n",
    "    start = time()\n",
    "    output_dist = start_SOGA(cfg)\n",
    "    end = time()\n",
    "    times.append(end-start)\n",
    "    \n",
    "print('Computation completed in ', np.mean(times))\n",
    "print('N. components:', output_dist.gm.n_comp())\n",
    "\n",
    "output_dist.gm.mean()[1]"
   ]
  },
  {
   "cell_type": "markdown",
   "id": "circular-allergy",
   "metadata": {},
   "source": [
    "# ClickGraph"
   ]
  },
  {
   "cell_type": "markdown",
   "id": "arabic-amber",
   "metadata": {},
   "source": [
    "true value: 0.614154"
   ]
  },
  {
   "cell_type": "code",
   "execution_count": 15,
   "id": "configured-minimum",
   "metadata": {},
   "outputs": [
    {
     "name": "stdout",
     "output_type": "stream",
     "text": [
      "Time to produce cfg:  0.014531850814819336\n"
     ]
    }
   ],
   "source": [
    "start = time()\n",
    "cfg = produce_cfg('ClickGraph')\n",
    "end = time()\n",
    "\n",
    "print('Time to produce cfg: ', end-start)"
   ]
  },
  {
   "cell_type": "code",
   "execution_count": 16,
   "id": "shaped-preservation",
   "metadata": {},
   "outputs": [
    {
     "name": "stdout",
     "output_type": "stream",
     "text": [
      "['simAll', 'sim', 'beta1', 'beta2', 'click0', 'click1']\n",
      "#vars: 6\n"
     ]
    }
   ],
   "source": [
    "print(cfg.ID_list)\n",
    "print('#vars:', len(cfg.ID_list))"
   ]
  },
  {
   "cell_type": "code",
   "execution_count": 17,
   "id": "temporal-sperm",
   "metadata": {},
   "outputs": [],
   "source": [
    "# goes timeout > 30 min\n",
    "\n",
    "#start = time()\n",
    "#output_dist = start_SOGA(cfg)\n",
    "#end = time()\n",
    "\n",
    "#print('Computation completed in ', end-start)\n",
    "\n",
    "#output_dist.gm.mean()"
   ]
  },
  {
   "cell_type": "markdown",
   "id": "selected-overhead",
   "metadata": {},
   "source": [
    "### Pruning"
   ]
  },
  {
   "cell_type": "code",
   "execution_count": 18,
   "id": "distributed-procedure",
   "metadata": {},
   "outputs": [
    {
     "name": "stdout",
     "output_type": "stream",
     "text": [
      "Time to produce cfg:  0.018636465072631836\n"
     ]
    }
   ],
   "source": [
    "start = time()\n",
    "cfg = produce_cfg('ClickGraphPrune')\n",
    "end = time()\n",
    "\n",
    "print('Time to produce cfg: ', end-start)"
   ]
  },
  {
   "cell_type": "code",
   "execution_count": 19,
   "id": "lesbian-simple",
   "metadata": {},
   "outputs": [
    {
     "data": {
      "text/plain": [
       "['simAll', 'sim', 'beta1', 'beta2', 'click0', 'click1']"
      ]
     },
     "execution_count": 19,
     "metadata": {},
     "output_type": "execute_result"
    }
   ],
   "source": [
    "cfg.ID_list"
   ]
  },
  {
   "cell_type": "code",
   "execution_count": 20,
   "id": "attractive-group",
   "metadata": {},
   "outputs": [
    {
     "name": "stdout",
     "output_type": "stream",
     "text": [
      "Computation completed in  210.3988070487976\n",
      "N. components: 35\n"
     ]
    },
    {
     "data": {
      "text/plain": [
       "0.6296009102280258"
      ]
     },
     "execution_count": 20,
     "metadata": {},
     "output_type": "execute_result"
    }
   ],
   "source": [
    "times = []\n",
    "\n",
    "for i in range(num_rep):\n",
    "    start = time()\n",
    "    output_dist = start_SOGA(cfg)\n",
    "    end = time()\n",
    "    times.append(end-start)\n",
    "    \n",
    "print('Computation completed in ', np.mean(times))\n",
    "print('N. components:', output_dist.gm.n_comp())\n",
    "\n",
    "output_dist.gm.mean()[0]"
   ]
  },
  {
   "cell_type": "code",
   "execution_count": 21,
   "id": "contrary-algebra",
   "metadata": {},
   "outputs": [
    {
     "data": {
      "text/plain": [
       "34.56"
      ]
     },
     "execution_count": 21,
     "metadata": {},
     "output_type": "execute_result"
    }
   ],
   "source": [
    "0.015*2304"
   ]
  },
  {
   "cell_type": "markdown",
   "id": "increased-sleeve",
   "metadata": {},
   "source": [
    "# ClinicalTrial2"
   ]
  },
  {
   "cell_type": "markdown",
   "id": "medieval-african",
   "metadata": {},
   "source": [
    "true value: 0.754902"
   ]
  },
  {
   "cell_type": "code",
   "execution_count": 22,
   "id": "bronze-intervention",
   "metadata": {},
   "outputs": [],
   "source": [
    "cfg = produce_cfg('ClinicalTrial2')"
   ]
  },
  {
   "cell_type": "code",
   "execution_count": 23,
   "id": "negative-cocktail",
   "metadata": {},
   "outputs": [
    {
     "name": "stdout",
     "output_type": "stream",
     "text": [
      "['isEff', 'probTreated', 'probContr', 'ycontr', 'ytreat']\n",
      "#vars: 5\n"
     ]
    }
   ],
   "source": [
    "print(cfg.ID_list)\n",
    "print('#vars:', len(cfg.ID_list))"
   ]
  },
  {
   "cell_type": "code",
   "execution_count": 24,
   "id": "tender-local",
   "metadata": {},
   "outputs": [],
   "source": [
    "# goes time out > 30 min\n",
    "\n",
    "#start = time()\n",
    "#output_dist = start_SOGA(cfg)\n",
    "#end = time()\n",
    "\n",
    "#print('Computation completed in ', end-start)\n",
    "\n",
    "#output_dist.gm.mean()"
   ]
  },
  {
   "cell_type": "markdown",
   "id": "southwest-sheriff",
   "metadata": {},
   "source": [
    "### Pruning"
   ]
  },
  {
   "cell_type": "code",
   "execution_count": 25,
   "id": "scheduled-soviet",
   "metadata": {},
   "outputs": [
    {
     "name": "stdout",
     "output_type": "stream",
     "text": [
      "Time to produce cfg:  0.003994464874267578\n"
     ]
    }
   ],
   "source": [
    "start = time()\n",
    "cfg = produce_cfg('ClinicalTrial2Prune')\n",
    "end = time()\n",
    "\n",
    "print('Time to produce cfg: ', end-start)"
   ]
  },
  {
   "cell_type": "code",
   "execution_count": 26,
   "id": "ordinary-america",
   "metadata": {},
   "outputs": [
    {
     "data": {
      "text/plain": [
       "['isEff', 'probTreated', 'probContr', 'ycontr', 'ytreat']"
      ]
     },
     "execution_count": 26,
     "metadata": {},
     "output_type": "execute_result"
    }
   ],
   "source": [
    "cfg.ID_list"
   ]
  },
  {
   "cell_type": "code",
   "execution_count": 27,
   "id": "dated-pointer",
   "metadata": {
    "scrolled": true
   },
   "outputs": [
    {
     "name": "stdout",
     "output_type": "stream",
     "text": [
      "Computation completed in  89.6955958366394\n",
      "N. components: 23\n"
     ]
    },
    {
     "data": {
      "text/plain": [
       "0.7530902888328648"
      ]
     },
     "execution_count": 27,
     "metadata": {},
     "output_type": "execute_result"
    }
   ],
   "source": [
    "times = []\n",
    "\n",
    "for i in range(num_rep):\n",
    "    start = time()\n",
    "    output_dist = start_SOGA(cfg)\n",
    "    end = time()\n",
    "    times.append(end-start)\n",
    "    \n",
    "print('Computation completed in ', np.mean(times))\n",
    "print('N. components:', output_dist.gm.n_comp())\n",
    "\n",
    "output_dist.gm.mean()[0]"
   ]
  },
  {
   "cell_type": "code",
   "execution_count": 28,
   "id": "dietary-cycling",
   "metadata": {},
   "outputs": [
    {
     "data": {
      "text/plain": [
       "22.619999999999997"
      ]
     },
     "execution_count": 28,
     "metadata": {},
     "output_type": "execute_result"
    }
   ],
   "source": [
    "0.015*1508"
   ]
  },
  {
   "cell_type": "markdown",
   "id": "satellite-reviewer",
   "metadata": {},
   "source": [
    "# CoinBias"
   ]
  },
  {
   "cell_type": "markdown",
   "id": "sorted-planet",
   "metadata": {},
   "source": [
    "true value: 0.417"
   ]
  },
  {
   "cell_type": "code",
   "execution_count": 29,
   "id": "romantic-details",
   "metadata": {
    "scrolled": true
   },
   "outputs": [
    {
     "name": "stdout",
     "output_type": "stream",
     "text": [
      "Time to produce cfg:  0.0\n"
     ]
    }
   ],
   "source": [
    "start = time()\n",
    "cfg = produce_cfg('CoinBias')\n",
    "end = time()\n",
    "\n",
    "print('Time to produce cfg: ', end-start)"
   ]
  },
  {
   "cell_type": "code",
   "execution_count": 30,
   "id": "invalid-bread",
   "metadata": {},
   "outputs": [
    {
     "name": "stdout",
     "output_type": "stream",
     "text": [
      "['bias', 'y']\n",
      "#vars: 2\n"
     ]
    }
   ],
   "source": [
    "print(cfg.ID_list)\n",
    "print('#vars:', len(cfg.ID_list))"
   ]
  },
  {
   "cell_type": "code",
   "execution_count": 31,
   "id": "weird-swift",
   "metadata": {},
   "outputs": [
    {
     "name": "stdout",
     "output_type": "stream",
     "text": [
      "Computation completed in  0.4172470808029175\n",
      "N. components: 64\n"
     ]
    },
    {
     "data": {
      "text/plain": [
       "array([0.41545796, 0.        ])"
      ]
     },
     "execution_count": 31,
     "metadata": {},
     "output_type": "execute_result"
    }
   ],
   "source": [
    "times = []\n",
    "\n",
    "for i in range(num_rep):\n",
    "    start = time()\n",
    "    output_dist = start_SOGA(cfg)\n",
    "    end = time()\n",
    "    times.append(end-start)\n",
    "    \n",
    "print('Computation completed in ', np.mean(times))\n",
    "print('N. components:', output_dist.gm.n_comp())\n",
    "\n",
    "output_dist.gm.mean()"
   ]
  },
  {
   "cell_type": "markdown",
   "id": "sacred-subject",
   "metadata": {},
   "source": [
    "### Pruning"
   ]
  },
  {
   "cell_type": "code",
   "execution_count": 32,
   "id": "destroyed-starter",
   "metadata": {},
   "outputs": [],
   "source": [
    "#start = time()\n",
    "#cfg = produce_cfg('CoinBiasPrune')\n",
    "#end = time()\n",
    "#\n",
    "#print('Time to produce cfg: ', end-start)"
   ]
  },
  {
   "cell_type": "code",
   "execution_count": 33,
   "id": "forbidden-taste",
   "metadata": {},
   "outputs": [],
   "source": [
    "#times = []\n",
    "#\n",
    "#for i in range(10):\n",
    "#    start = time()\n",
    "#    output_dist = start_SOGA(cfg)\n",
    "#    end = time()\n",
    "#    times.append(end-start)\n",
    "#    \n",
    "#print('Computation completed in ', np.mean(times))\n",
    "#print('N. components:', output_dist.gm.n_comp())\n",
    "#\n",
    "#output_dist.gm.mean()"
   ]
  },
  {
   "cell_type": "markdown",
   "id": "scientific-technology",
   "metadata": {},
   "source": [
    "# Digit"
   ]
  },
  {
   "cell_type": "markdown",
   "id": "continental-congo",
   "metadata": {},
   "source": [
    "true value ?"
   ]
  },
  {
   "cell_type": "code",
   "execution_count": 34,
   "id": "cathedral-deposit",
   "metadata": {
    "scrolled": true
   },
   "outputs": [
    {
     "name": "stdout",
     "output_type": "stream",
     "text": [
      "Time to produce cfg:  0.1405956745147705\n"
     ]
    }
   ],
   "source": [
    "start = time()\n",
    "cfg = produce_cfg('DigitRecognition')\n",
    "end = time()\n",
    "\n",
    "print('Time to produce cfg: ', end-start)"
   ]
  },
  {
   "cell_type": "code",
   "execution_count": 35,
   "id": "undefined-underwear",
   "metadata": {},
   "outputs": [
    {
     "name": "stdout",
     "output_type": "stream",
     "text": [
      "['y', 'dig']\n",
      "#vars: 2\n"
     ]
    }
   ],
   "source": [
    "print(cfg.ID_list)\n",
    "print('#vars:', len(cfg.ID_list))"
   ]
  },
  {
   "cell_type": "code",
   "execution_count": 36,
   "id": "gentle-consent",
   "metadata": {
    "scrolled": true
   },
   "outputs": [
    {
     "name": "stdout",
     "output_type": "stream",
     "text": [
      "Computation completed in  4.461561775207519\n"
     ]
    },
    {
     "data": {
      "text/plain": [
       "4.4539341842632565"
      ]
     },
     "execution_count": 36,
     "metadata": {},
     "output_type": "execute_result"
    }
   ],
   "source": [
    "times = []\n",
    "\n",
    "for i in range(num_rep):\n",
    "    start = time()\n",
    "    output_dist = start_SOGA(cfg)\n",
    "    end = time()\n",
    "    times.append(end-start)\n",
    "    \n",
    "print('Computation completed in ', np.mean(times))\n",
    "\n",
    "output_dist.gm.mean()[0]"
   ]
  },
  {
   "cell_type": "code",
   "execution_count": 37,
   "id": "future-jaguar",
   "metadata": {},
   "outputs": [
    {
     "data": {
      "text/plain": [
       "10"
      ]
     },
     "execution_count": 37,
     "metadata": {},
     "output_type": "execute_result"
    }
   ],
   "source": [
    "output_dist.gm.n_comp()"
   ]
  },
  {
   "cell_type": "markdown",
   "id": "affiliated-start",
   "metadata": {},
   "source": [
    "# Grass"
   ]
  },
  {
   "cell_type": "markdown",
   "id": "upper-trinidad",
   "metadata": {},
   "source": [
    "exact"
   ]
  },
  {
   "cell_type": "code",
   "execution_count": 38,
   "id": "educational-berry",
   "metadata": {},
   "outputs": [
    {
     "name": "stdout",
     "output_type": "stream",
     "text": [
      "Time to produce cfg:  0.02398514747619629\n"
     ]
    }
   ],
   "source": [
    "start = time()\n",
    "cfg = produce_cfg('Grass')\n",
    "end = time()\n",
    "\n",
    "print('Time to produce cfg: ', end-start)"
   ]
  },
  {
   "cell_type": "code",
   "execution_count": 39,
   "id": "functioning-psychology",
   "metadata": {},
   "outputs": [
    {
     "name": "stdout",
     "output_type": "stream",
     "text": [
      "['cloudy', 'rain', 'sprinkler', 'temp1', 'wetRoof', 'temp2', 'temp3', 'or1', 'or2', 'wetGrass']\n",
      "#vars: 10\n"
     ]
    }
   ],
   "source": [
    "print(cfg.ID_list)\n",
    "print('#vars:', len(cfg.ID_list))"
   ]
  },
  {
   "cell_type": "code",
   "execution_count": 40,
   "id": "identical-neighbor",
   "metadata": {},
   "outputs": [
    {
     "name": "stdout",
     "output_type": "stream",
     "text": [
      "Computation completed in  0.05146698951721192\n",
      "N. components: 28\n"
     ]
    },
    {
     "data": {
      "text/plain": [
       "0.7079276773296245"
      ]
     },
     "execution_count": 40,
     "metadata": {},
     "output_type": "execute_result"
    }
   ],
   "source": [
    "times = []\n",
    "\n",
    "for i in range(num_rep):\n",
    "    start = time()\n",
    "    output_dist = start_SOGA(cfg)\n",
    "    end = time()\n",
    "    times.append(end-start)\n",
    "    \n",
    "print('Computation completed in ', np.mean(times))\n",
    "print('N. components:', output_dist.gm.n_comp())\n",
    "\n",
    "output_dist.gm.mean()[1]"
   ]
  },
  {
   "cell_type": "markdown",
   "id": "front-cement",
   "metadata": {},
   "source": [
    "# MurderMistery"
   ]
  },
  {
   "cell_type": "markdown",
   "id": "international-belle",
   "metadata": {},
   "source": [
    "exact"
   ]
  },
  {
   "cell_type": "code",
   "execution_count": 41,
   "id": "complex-murray",
   "metadata": {},
   "outputs": [
    {
     "name": "stdout",
     "output_type": "stream",
     "text": [
      "Time to produce cfg:  0.006098031997680664\n"
     ]
    }
   ],
   "source": [
    "start = time()\n",
    "cfg = produce_cfg('MurderMistery')\n",
    "end = time()\n",
    "\n",
    "print('Time to produce cfg: ', end-start)"
   ]
  },
  {
   "cell_type": "code",
   "execution_count": 42,
   "id": "direct-mattress",
   "metadata": {},
   "outputs": [
    {
     "name": "stdout",
     "output_type": "stream",
     "text": [
      "['aliceDunnit', 'withGun']\n",
      "#vars: 2\n"
     ]
    }
   ],
   "source": [
    "print(cfg.ID_list)\n",
    "print('#vars:', len(cfg.ID_list))"
   ]
  },
  {
   "cell_type": "code",
   "execution_count": 43,
   "id": "controlling-deviation",
   "metadata": {},
   "outputs": [
    {
     "name": "stdout",
     "output_type": "stream",
     "text": [
      "Computation completed in  0.003117656707763672\n",
      "N. components: 2\n"
     ]
    },
    {
     "data": {
      "text/plain": [
       "array([0.01581722, 1.        ])"
      ]
     },
     "execution_count": 43,
     "metadata": {},
     "output_type": "execute_result"
    }
   ],
   "source": [
    "times = []\n",
    "\n",
    "for i in range(num_rep):\n",
    "    start = time()\n",
    "    output_dist = start_SOGA(cfg)\n",
    "    end = time()\n",
    "    times.append(end-start)\n",
    "    \n",
    "print('Computation completed in ', np.mean(times))\n",
    "print('N. components:', output_dist.gm.n_comp())\n",
    "\n",
    "output_dist.gm.mean()"
   ]
  },
  {
   "cell_type": "markdown",
   "id": "beginning-colon",
   "metadata": {},
   "source": [
    "# NoisyOr"
   ]
  },
  {
   "cell_type": "markdown",
   "id": "random-employment",
   "metadata": {},
   "source": [
    "exact"
   ]
  },
  {
   "cell_type": "code",
   "execution_count": 44,
   "id": "mobile-makeup",
   "metadata": {},
   "outputs": [
    {
     "name": "stdout",
     "output_type": "stream",
     "text": [
      "Time to produce cfg:  0.01564311981201172\n"
     ]
    }
   ],
   "source": [
    "start = time()\n",
    "cfg = produce_cfg('NoisyOr')\n",
    "end = time()\n",
    "\n",
    "print('Time to produce cfg: ', end-start)"
   ]
  },
  {
   "cell_type": "code",
   "execution_count": 45,
   "id": "south-passage",
   "metadata": {},
   "outputs": [
    {
     "name": "stdout",
     "output_type": "stream",
     "text": [
      "['n0', 'n4', 'n1', 'n21', 'n22', 'n33', 'n2', 'n31', 'n32', 'n3']\n",
      "#vars: 10\n"
     ]
    }
   ],
   "source": [
    "print(cfg.ID_list)\n",
    "print('#vars:', len(cfg.ID_list))"
   ]
  },
  {
   "cell_type": "code",
   "execution_count": 46,
   "id": "unique-sociology",
   "metadata": {},
   "outputs": [
    {
     "name": "stdout",
     "output_type": "stream",
     "text": [
      "Computation completed in  0.11738245487213135\n",
      "N. components: 256\n"
     ]
    },
    {
     "data": {
      "text/plain": [
       "0.8144187499999991"
      ]
     },
     "execution_count": 46,
     "metadata": {},
     "output_type": "execute_result"
    }
   ],
   "source": [
    "times = []\n",
    "\n",
    "for i in range(num_rep):\n",
    "    start = time()\n",
    "    output_dist = start_SOGA(cfg)\n",
    "    end = time()\n",
    "    times.append(end-start)\n",
    "    \n",
    "print('Computation completed in ', np.mean(times))\n",
    "print('N. components:', output_dist.gm.n_comp())\n",
    "\n",
    "output_dist.gm.mean()[-1]"
   ]
  },
  {
   "cell_type": "markdown",
   "id": "atomic-yellow",
   "metadata": {},
   "source": [
    "### Pruning\n",
    "\n",
    "(makes computational time longer)"
   ]
  },
  {
   "cell_type": "code",
   "execution_count": 47,
   "id": "surgical-stable",
   "metadata": {},
   "outputs": [],
   "source": [
    "#start = time()\n",
    "#cfg = produce_cfg('NoisyOrPrune')\n",
    "#end = time()\n",
    "#\n",
    "#print('Time to produce cfg: ', end-start)"
   ]
  },
  {
   "cell_type": "code",
   "execution_count": 48,
   "id": "national-watts",
   "metadata": {
    "scrolled": true
   },
   "outputs": [],
   "source": [
    "#times = []\n",
    "#\n",
    "#for i in range(1):\n",
    "#    start = time()\n",
    "#    output_dist = start_SOGA(cfg)\n",
    "#    end = time()\n",
    "#    times.append(end-start)\n",
    "#    \n",
    "#print('Computation completed in ', np.mean(times))\n",
    "#print('N. components:', output_dist.gm.n_comp())\n",
    "#\n",
    "#output_dist.gm.mean()[-1]"
   ]
  },
  {
   "cell_type": "markdown",
   "id": "metallic-biotechnology",
   "metadata": {},
   "source": [
    "# SurveyUnbias"
   ]
  },
  {
   "cell_type": "markdown",
   "id": "phantom-catalyst",
   "metadata": {},
   "source": [
    "true value: 0.8"
   ]
  },
  {
   "cell_type": "code",
   "execution_count": 49,
   "id": "orange-isolation",
   "metadata": {},
   "outputs": [
    {
     "name": "stdout",
     "output_type": "stream",
     "text": [
      "Time to produce cfg:  0.0\n"
     ]
    }
   ],
   "source": [
    "start = time()\n",
    "cfg = produce_cfg('SurveyUnbias')\n",
    "end = time()\n",
    "\n",
    "print('Time to produce cfg: ', end-start)"
   ]
  },
  {
   "cell_type": "code",
   "execution_count": 50,
   "id": "precious-trail",
   "metadata": {},
   "outputs": [
    {
     "name": "stdout",
     "output_type": "stream",
     "text": [
      "['bias1', 'bias2', 'ansb1', 'ansb2']\n",
      "#vars: 4\n"
     ]
    }
   ],
   "source": [
    "print(cfg.ID_list)\n",
    "print('#vars:', len(cfg.ID_list))"
   ]
  },
  {
   "cell_type": "code",
   "execution_count": 51,
   "id": "significant-greenhouse",
   "metadata": {},
   "outputs": [
    {
     "name": "stdout",
     "output_type": "stream",
     "text": [
      "Computation completed in  1.2407533407211304\n",
      "N. components: 128\n"
     ]
    },
    {
     "data": {
      "text/plain": [
       "0.7987653829530976"
      ]
     },
     "execution_count": 51,
     "metadata": {},
     "output_type": "execute_result"
    }
   ],
   "source": [
    "times = []\n",
    "\n",
    "for i in range(num_rep):\n",
    "    start = time()\n",
    "    output_dist = start_SOGA(cfg)\n",
    "    end = time()\n",
    "    times.append(end-start)\n",
    "    \n",
    "print('Computation completed in ', np.mean(times))\n",
    "print('N. components:', output_dist.gm.n_comp())\n",
    "\n",
    "output_dist.gm.mean()[0]"
   ]
  },
  {
   "cell_type": "markdown",
   "id": "pacific-funeral",
   "metadata": {},
   "source": [
    "### Pruning"
   ]
  },
  {
   "cell_type": "code",
   "execution_count": 52,
   "id": "muslim-figure",
   "metadata": {},
   "outputs": [],
   "source": [
    "#start = time()\n",
    "#cfg = produce_cfg('SurveyUnbiasPrune')\n",
    "#end = time()\n",
    "#\n",
    "#print('Time to produce cfg: ', end-start)"
   ]
  },
  {
   "cell_type": "code",
   "execution_count": 53,
   "id": "brief-taylor",
   "metadata": {},
   "outputs": [],
   "source": [
    "#times = []\n",
    "#\n",
    "#for i in range(10):\n",
    "#    start = time()\n",
    "#    output_dist = start_SOGA(cfg)\n",
    "#    end = time()\n",
    "#    times.append(end-start)\n",
    "#    \n",
    "#print('Computation completed in ', np.mean(times))\n",
    "#print('N. components:', output_dist.gm.n_comp())\n",
    "#\n",
    "#output_dist.gm.mean()[0]"
   ]
  },
  {
   "cell_type": "markdown",
   "id": "dense-convertible",
   "metadata": {},
   "source": [
    "# TrueSkill"
   ]
  },
  {
   "cell_type": "markdown",
   "id": "isolated-library",
   "metadata": {},
   "source": [
    "true value: 0.843"
   ]
  },
  {
   "cell_type": "code",
   "execution_count": 54,
   "id": "fewer-position",
   "metadata": {},
   "outputs": [
    {
     "name": "stdout",
     "output_type": "stream",
     "text": [
      "Time to produce cfg:  0.006056308746337891\n"
     ]
    }
   ],
   "source": [
    "start = time()\n",
    "cfg = produce_cfg('TrueSkill')\n",
    "end = time()\n",
    "\n",
    "print('Time to produce cfg: ', end-start)"
   ]
  },
  {
   "cell_type": "code",
   "execution_count": 55,
   "id": "korean-payment",
   "metadata": {},
   "outputs": [
    {
     "name": "stdout",
     "output_type": "stream",
     "text": [
      "['skillA', 'skillB', 'skillC', 'perfA', 'perfB', 'perfC']\n",
      "#vars: 6\n"
     ]
    }
   ],
   "source": [
    "print(cfg.ID_list)\n",
    "print('#vars:', len(cfg.ID_list))"
   ]
  },
  {
   "cell_type": "code",
   "execution_count": 56,
   "id": "weekly-auckland",
   "metadata": {},
   "outputs": [
    {
     "name": "stdout",
     "output_type": "stream",
     "text": [
      "Computation completed in  0.036141610145568846\n",
      "N. components: 1\n"
     ]
    },
    {
     "data": {
      "text/plain": [
       "array([104.71317347,  97.6098938 ,  97.67694092, 115.3177955 ,\n",
       "        92.23214722,  92.45005919])"
      ]
     },
     "execution_count": 56,
     "metadata": {},
     "output_type": "execute_result"
    }
   ],
   "source": [
    "times = []\n",
    "\n",
    "for i in range(num_rep):\n",
    "    start = time()\n",
    "    output_dist = start_SOGA(cfg)\n",
    "    end = time()\n",
    "    times.append(end-start)\n",
    "    \n",
    "print('Computation completed in ', np.mean(times))\n",
    "print('N. components:', output_dist.gm.n_comp())\n",
    "\n",
    "output_dist.gm.mean()"
   ]
  },
  {
   "cell_type": "markdown",
   "id": "virgin-promotion",
   "metadata": {},
   "source": [
    "# TwoCoins"
   ]
  },
  {
   "cell_type": "markdown",
   "id": "threaded-basic",
   "metadata": {},
   "source": [
    "exact"
   ]
  },
  {
   "cell_type": "code",
   "execution_count": 57,
   "id": "finite-bubble",
   "metadata": {},
   "outputs": [
    {
     "name": "stdout",
     "output_type": "stream",
     "text": [
      "Time to produce cfg:  0.003913402557373047\n"
     ]
    }
   ],
   "source": [
    "start = time()\n",
    "cfg = produce_cfg('TwoCoins')\n",
    "end = time()\n",
    "\n",
    "print('Time to produce cfg: ', end-start)"
   ]
  },
  {
   "cell_type": "code",
   "execution_count": 58,
   "id": "mediterranean-deviation",
   "metadata": {},
   "outputs": [
    {
     "name": "stdout",
     "output_type": "stream",
     "text": [
      "['first', 'second', 'both']\n",
      "#vars: 3\n"
     ]
    }
   ],
   "source": [
    "print(cfg.ID_list)\n",
    "print('#vars:', len(cfg.ID_list))"
   ]
  },
  {
   "cell_type": "code",
   "execution_count": 59,
   "id": "south-attitude",
   "metadata": {},
   "outputs": [
    {
     "name": "stdout",
     "output_type": "stream",
     "text": [
      "Computation completed in  0.003934335708618164\n",
      "N. components: 3\n"
     ]
    },
    {
     "data": {
      "text/plain": [
       "array([0.33333333, 0.33333333, 0.        ])"
      ]
     },
     "execution_count": 59,
     "metadata": {},
     "output_type": "execute_result"
    }
   ],
   "source": [
    "times = []\n",
    "\n",
    "for i in range(num_rep):\n",
    "    start = time()\n",
    "    output_dist = start_SOGA(cfg)\n",
    "    end = time()\n",
    "    times.append(end-start)\n",
    "    \n",
    "print('Computation completed in ', np.mean(times))\n",
    "print('N. components:', output_dist.gm.n_comp())\n",
    "\n",
    "output_dist.gm.mean()"
   ]
  },
  {
   "cell_type": "markdown",
   "id": "bearing-palestine",
   "metadata": {},
   "source": [
    "# Indian GPA"
   ]
  },
  {
   "cell_type": "markdown",
   "id": "hearing-creator",
   "metadata": {},
   "source": [
    "true value: 1"
   ]
  },
  {
   "cell_type": "code",
   "execution_count": 60,
   "id": "higher-saver",
   "metadata": {},
   "outputs": [
    {
     "name": "stdout",
     "output_type": "stream",
     "text": [
      "Time to produce cfg:  0.0034058094024658203\n"
     ]
    }
   ],
   "source": [
    "start = time()\n",
    "cfg = produce_cfg('IndianGPA')\n",
    "end = time()\n",
    "\n",
    "print('Time to produce cfg: ', end-start)"
   ]
  },
  {
   "cell_type": "code",
   "execution_count": 61,
   "id": "diverse-string",
   "metadata": {},
   "outputs": [
    {
     "name": "stdout",
     "output_type": "stream",
     "text": [
      "['usa', 'usagpa', 'indgpa', 'gpa']\n",
      "#vars: 4\n"
     ]
    }
   ],
   "source": [
    "print(cfg.ID_list)\n",
    "print('#vars:', len(cfg.ID_list))"
   ]
  },
  {
   "cell_type": "code",
   "execution_count": 62,
   "id": "neutral-trigger",
   "metadata": {},
   "outputs": [
    {
     "name": "stdout",
     "output_type": "stream",
     "text": [
      "Computation completed in  0.07789053916931152\n",
      "N. components: 11\n"
     ]
    },
    {
     "data": {
      "text/plain": [
       "array([1.        , 4.        , 5.12034045, 4.        ])"
      ]
     },
     "execution_count": 62,
     "metadata": {},
     "output_type": "execute_result"
    }
   ],
   "source": [
    "times = []\n",
    "\n",
    "for i in range(num_rep):\n",
    "    start = time()\n",
    "    output_dist = start_SOGA(cfg)\n",
    "    end = time()\n",
    "    times.append(end-start)\n",
    "    \n",
    "print('Computation completed in ', np.mean(times))\n",
    "print('N. components:', output_dist.gm.n_comp())\n",
    "\n",
    "output_dist.gm.mean()"
   ]
  },
  {
   "cell_type": "markdown",
   "id": "shared-fancy",
   "metadata": {},
   "source": [
    "# AQUA Example"
   ]
  },
  {
   "cell_type": "markdown",
   "id": "periodic-music",
   "metadata": {},
   "source": [
    "## Altermu"
   ]
  },
  {
   "cell_type": "markdown",
   "id": "impaired-quantum",
   "metadata": {},
   "source": [
    "true value: \n",
    "mu1: 3.365363543395006e-16\n",
    "mu2: 3.365363543395006e-16\n",
    "mu3: -0.11221539502189211"
   ]
  },
  {
   "cell_type": "code",
   "execution_count": 63,
   "id": "noted-magazine",
   "metadata": {},
   "outputs": [
    {
     "name": "stdout",
     "output_type": "stream",
     "text": [
      "Time to produce cfg:  0.004567146301269531\n"
     ]
    }
   ],
   "source": [
    "start = time()\n",
    "cfg = produce_cfg('AQUA/Altermu')\n",
    "end = time()\n",
    "\n",
    "print('Time to produce cfg: ', end-start)"
   ]
  },
  {
   "cell_type": "code",
   "execution_count": 64,
   "id": "modified-compiler",
   "metadata": {},
   "outputs": [
    {
     "name": "stdout",
     "output_type": "stream",
     "text": [
      "['y[0]', 'y[1]', 'y[2]', 'y[3]', 'y[4]', 'y[5]', 'y[6]', 'y[7]', 'y[8]', 'y[9]', 'y[10]', 'y[11]', 'y[12]', 'y[13]', 'y[14]', 'y[15]', 'y[16]', 'y[17]', 'y[18]', 'y[19]', 'y[20]', 'y[21]', 'y[22]', 'y[23]', 'y[24]', 'y[25]', 'y[26]', 'y[27]', 'y[28]', 'y[29]', 'y[30]', 'y[31]', 'y[32]', 'y[33]', 'y[34]', 'y[35]', 'y[36]', 'y[37]', 'y[38]', 'y[39]', 'w1', 'w2', 'w3', 'mean']\n",
      "#vars: 44\n"
     ]
    }
   ],
   "source": [
    "print(cfg.ID_list)\n",
    "print('#vars:', len(cfg.ID_list))"
   ]
  },
  {
   "cell_type": "code",
   "execution_count": 65,
   "id": "compressed-olympus",
   "metadata": {},
   "outputs": [
    {
     "name": "stdout",
     "output_type": "stream",
     "text": [
      "Computation completed in  0.13643901348114013\n",
      "N. components: 1\n"
     ]
    },
    {
     "data": {
      "text/plain": [
       "array([ 0.        ,  0.        , -0.00137427], dtype=float32)"
      ]
     },
     "execution_count": 65,
     "metadata": {},
     "output_type": "execute_result"
    }
   ],
   "source": [
    "times = []\n",
    "\n",
    "for i in range(num_rep):\n",
    "    start = time()\n",
    "    output_dist = start_SOGA(cfg)\n",
    "    end = time()\n",
    "    times.append(end-start)\n",
    "    \n",
    "print('Computation completed in ', np.mean(times))\n",
    "print('N. components:', output_dist.gm.n_comp())\n",
    "\n",
    "output_dist.gm.mean()[-4:-1]"
   ]
  },
  {
   "cell_type": "markdown",
   "id": "permanent-accessory",
   "metadata": {},
   "source": [
    "## Altermu2"
   ]
  },
  {
   "cell_type": "markdown",
   "id": "distant-qatar",
   "metadata": {},
   "source": [
    "true value:\n",
    "mu1:  0.15521420874071362\n",
    "mu2:  0.1552142087407135"
   ]
  },
  {
   "cell_type": "code",
   "execution_count": 66,
   "id": "accredited-dayton",
   "metadata": {},
   "outputs": [
    {
     "name": "stdout",
     "output_type": "stream",
     "text": [
      "Time to produce cfg:  0.003768444061279297\n"
     ]
    }
   ],
   "source": [
    "start = time()\n",
    "cfg = produce_cfg('AQUA/Altermu2')\n",
    "end = time()\n",
    "\n",
    "print('Time to produce cfg: ', end-start)"
   ]
  },
  {
   "cell_type": "code",
   "execution_count": 67,
   "id": "alpine-packaging",
   "metadata": {},
   "outputs": [
    {
     "name": "stdout",
     "output_type": "stream",
     "text": [
      "['y[0]', 'y[1]', 'y[2]', 'y[3]', 'y[4]', 'y[5]', 'y[6]', 'y[7]', 'y[8]', 'y[9]', 'y[10]', 'y[11]', 'y[12]', 'y[13]', 'y[14]', 'y[15]', 'y[16]', 'y[17]', 'y[18]', 'y[19]', 'y[20]', 'y[21]', 'y[22]', 'y[23]', 'y[24]', 'y[25]', 'y[26]', 'y[27]', 'y[28]', 'y[29]', 'y[30]', 'y[31]', 'y[32]', 'y[33]', 'y[34]', 'y[35]', 'y[36]', 'y[37]', 'y[38]', 'y[39]', 'w1', 'w2']\n",
      "#vars: 42\n"
     ]
    }
   ],
   "source": [
    "print(cfg.ID_list)\n",
    "print('#vars:', len(cfg.ID_list))"
   ]
  },
  {
   "cell_type": "code",
   "execution_count": 68,
   "id": "appreciated-blocking",
   "metadata": {},
   "outputs": [
    {
     "name": "stdout",
     "output_type": "stream",
     "text": [
      "Computation completed in  0.31120059490203855\n",
      "N. components: 4\n"
     ]
    },
    {
     "data": {
      "text/plain": [
       "array([0.15558612, 0.15558612], dtype=float32)"
      ]
     },
     "execution_count": 68,
     "metadata": {},
     "output_type": "execute_result"
    }
   ],
   "source": [
    "times = []\n",
    "\n",
    "for i in range(num_rep):\n",
    "    start = time()\n",
    "    output_dist = start_SOGA(cfg)\n",
    "    end = time()\n",
    "    times.append(end-start)\n",
    "    \n",
    "print('Computation completed in ', np.mean(times))\n",
    "print('N. components:', output_dist.gm.n_comp())\n",
    "\n",
    "output_dist.gm.mean()[-2:]"
   ]
  },
  {
   "cell_type": "markdown",
   "id": "impressive-touch",
   "metadata": {},
   "source": [
    "## Normal Mixtures"
   ]
  },
  {
   "cell_type": "code",
   "execution_count": 69,
   "id": "italian-table",
   "metadata": {
    "scrolled": true
   },
   "outputs": [
    {
     "name": "stdout",
     "output_type": "stream",
     "text": [
      "Time to produce cfg:  0.01150965690612793\n"
     ]
    }
   ],
   "source": [
    "start = time()\n",
    "cfg = produce_cfg('AQUA/NormalMixture')\n",
    "end = time()\n",
    "\n",
    "print('Time to produce cfg: ', end-start)"
   ]
  },
  {
   "cell_type": "code",
   "execution_count": 70,
   "id": "dressed-parts",
   "metadata": {},
   "outputs": [],
   "source": [
    "# goes t.o. > 30 min even with pruning\n",
    "\n",
    "#times = []\n",
    "#\n",
    "#start = time()\n",
    "#output_dist = start_SOGA(cfg)\n",
    "#end = time()\n",
    "#times.append(end-start)\n",
    "#\n",
    "#print('Computation completed in ', np.mean(times))\n",
    "#\n",
    "#output_dist.gm.mean()"
   ]
  },
  {
   "cell_type": "markdown",
   "id": "universal-massachusetts",
   "metadata": {},
   "source": [
    "### Pruning"
   ]
  },
  {
   "cell_type": "code",
   "execution_count": 71,
   "id": "multiple-veteran",
   "metadata": {
    "scrolled": true
   },
   "outputs": [
    {
     "name": "stdout",
     "output_type": "stream",
     "text": [
      "Time to produce cfg:  0.011236190795898438\n"
     ]
    }
   ],
   "source": [
    "start = time()\n",
    "cfg = produce_cfg('AQUA/NormalMixturePrune')\n",
    "end = time()\n",
    "\n",
    "print('Time to produce cfg: ', end-start)"
   ]
  },
  {
   "cell_type": "code",
   "execution_count": 72,
   "id": "extraordinary-geography",
   "metadata": {},
   "outputs": [
    {
     "name": "stdout",
     "output_type": "stream",
     "text": [
      "['theta', 'mu1', 'mu2', 'y']\n",
      "#vars: 4\n"
     ]
    }
   ],
   "source": [
    "print(cfg.ID_list)\n",
    "print('#vars:', len(cfg.ID_list))"
   ]
  },
  {
   "cell_type": "code",
   "execution_count": 73,
   "id": "local-parameter",
   "metadata": {},
   "outputs": [
    {
     "name": "stdout",
     "output_type": "stream",
     "text": [
      "Computation completed in  50.41815297603607\n"
     ]
    },
    {
     "data": {
      "text/plain": [
       "array([ 0.2982786,  3.6915321,  4.8735046, 10.624819 ], dtype=float32)"
      ]
     },
     "execution_count": 73,
     "metadata": {},
     "output_type": "execute_result"
    }
   ],
   "source": [
    "times = []\n",
    "\n",
    "for i in range(num_rep):\n",
    "    start = time()\n",
    "    output_dist = start_SOGA(cfg)\n",
    "    end = time()\n",
    "    times.append(end-start)\n",
    "\n",
    "print('Computation completed in ', np.mean(times))\n",
    "\n",
    "output_dist.gm.mean()"
   ]
  },
  {
   "cell_type": "code",
   "execution_count": 74,
   "id": "distant-conservation",
   "metadata": {},
   "outputs": [
    {
     "data": {
      "text/plain": [
       "30"
      ]
     },
     "execution_count": 74,
     "metadata": {},
     "output_type": "execute_result"
    }
   ],
   "source": [
    "output_dist.gm.n_comp()"
   ]
  },
  {
   "cell_type": "code",
   "execution_count": 75,
   "id": "further-pavilion",
   "metadata": {},
   "outputs": [
    {
     "data": {
      "text/plain": [
       "0.00030701844157439054"
      ]
     },
     "execution_count": 75,
     "metadata": {},
     "output_type": "execute_result"
    }
   ],
   "source": [
    "30/97714"
   ]
  },
  {
   "cell_type": "markdown",
   "id": "private-sacramento",
   "metadata": {},
   "source": [
    "## RadarQuery"
   ]
  },
  {
   "cell_type": "code",
   "execution_count": 76,
   "id": "worth-synthetic",
   "metadata": {},
   "outputs": [
    {
     "name": "stdout",
     "output_type": "stream",
     "text": [
      "Time to produce cfg:  0.01584005355834961\n"
     ]
    }
   ],
   "source": [
    "start = time()\n",
    "cfg = produce_cfg('AQUA/RadarQuery')\n",
    "end = time()\n",
    "\n",
    "print('Time to produce cfg: ', end-start)"
   ]
  },
  {
   "cell_type": "code",
   "execution_count": 77,
   "id": "bored-outreach",
   "metadata": {},
   "outputs": [
    {
     "name": "stdout",
     "output_type": "stream",
     "text": [
      "['b0', 'b1', 'x0', 'x1', 'x', 'y', 'o0', 'o1']\n",
      "#vars: 8\n"
     ]
    }
   ],
   "source": [
    "print(cfg.ID_list)\n",
    "print('#vars:', len(cfg.ID_list))"
   ]
  },
  {
   "cell_type": "code",
   "execution_count": 78,
   "id": "potential-certificate",
   "metadata": {},
   "outputs": [
    {
     "name": "stdout",
     "output_type": "stream",
     "text": [
      "Computation completed in  6.409933757781983\n",
      "N. components: 2016\n"
     ]
    },
    {
     "data": {
      "text/plain": [
       "array([ 0.9999916 ,  0.9999916 ,  5.940395  ,  5.940395  , -1.6595752 ,\n",
       "        0.33188623,  4.999984  ,  4.6127315 ], dtype=float32)"
      ]
     },
     "execution_count": 78,
     "metadata": {},
     "output_type": "execute_result"
    }
   ],
   "source": [
    "times = []\n",
    "\n",
    "for i in range(num_rep):\n",
    "    start = time()\n",
    "    output_dist = start_SOGA(cfg)\n",
    "    end = time()\n",
    "    times.append(end-start)\n",
    "    \n",
    "print('Computation completed in ', np.mean(times))\n",
    "print('N. components:', output_dist.gm.n_comp())\n",
    "\n",
    "output_dist.gm.mean()"
   ]
  },
  {
   "cell_type": "markdown",
   "id": "senior-clearing",
   "metadata": {},
   "source": [
    "### Pruning"
   ]
  },
  {
   "cell_type": "code",
   "execution_count": 79,
   "id": "compound-nelson",
   "metadata": {},
   "outputs": [
    {
     "name": "stdout",
     "output_type": "stream",
     "text": [
      "Time to produce cfg:  0.032740116119384766\n"
     ]
    }
   ],
   "source": [
    "start = time()\n",
    "cfg = produce_cfg('AQUA/RadarQueryPrune')\n",
    "end = time()\n",
    "\n",
    "print('Time to produce cfg: ', end-start)"
   ]
  },
  {
   "cell_type": "code",
   "execution_count": 80,
   "id": "median-allergy",
   "metadata": {},
   "outputs": [
    {
     "name": "stdout",
     "output_type": "stream",
     "text": [
      "Computation completed in  1.4620190620422364\n",
      "N. components: 16\n"
     ]
    },
    {
     "data": {
      "text/plain": [
       "array([ 1.        ,  1.        ,  5.6110787 ,  5.6110787 , -1.5685694 ,\n",
       "        0.33188942,  5.        ,  4.374827  ], dtype=float32)"
      ]
     },
     "execution_count": 80,
     "metadata": {},
     "output_type": "execute_result"
    }
   ],
   "source": [
    "times = []\n",
    "\n",
    "for i in range(num_rep):\n",
    "    start = time()\n",
    "    output_dist = start_SOGA(cfg)\n",
    "    end = time()\n",
    "    times.append(end-start)\n",
    "    \n",
    "print('Computation completed in ', np.mean(times))\n",
    "print('N. components:', output_dist.gm.n_comp())\n",
    "\n",
    "output_dist.gm.mean()"
   ]
  },
  {
   "cell_type": "code",
   "execution_count": 81,
   "id": "approximate-evans",
   "metadata": {},
   "outputs": [
    {
     "data": {
      "text/plain": [
       "30.24"
      ]
     },
     "execution_count": 81,
     "metadata": {},
     "output_type": "execute_result"
    }
   ],
   "source": [
    "0.015*2016"
   ]
  },
  {
   "cell_type": "markdown",
   "id": "strong-gardening",
   "metadata": {},
   "source": [
    "## TimeSeries"
   ]
  },
  {
   "cell_type": "markdown",
   "id": "eight-clark",
   "metadata": {},
   "source": [
    "true value \n",
    "alpha:  -1.5751952024094684\n",
    "beta:  0.6841150519335847\n",
    "lambda:  0.4765771501058374"
   ]
  },
  {
   "cell_type": "code",
   "execution_count": 82,
   "id": "treated-capital",
   "metadata": {},
   "outputs": [
    {
     "name": "stdout",
     "output_type": "stream",
     "text": [
      "Time to produce cfg:  0.09679865837097168\n"
     ]
    }
   ],
   "source": [
    "start = time()\n",
    "cfg = produce_cfg('AQUA/TimeSeries')\n",
    "end = time()\n",
    "\n",
    "print('Time to produce cfg: ', end-start)"
   ]
  },
  {
   "cell_type": "code",
   "execution_count": 83,
   "id": "elegant-strip",
   "metadata": {},
   "outputs": [
    {
     "name": "stdout",
     "output_type": "stream",
     "text": [
      "['a', 'b', 'lamb', 'y0', 'y1', 'y2', 'y3', 'y4', 'y5', 'y6', 'y7', 'y8', 'y9', 'y10', 'y11', 'y12', 'y13', 'y14', 'y15', 'y16', 'y17', 'y18', 'y19', 'y20', 'y21', 'y22', 'y23', 'y24', 'y25', 'y26', 'y27', 'y28', 'y29', 'y30', 'y31', 'y32', 'y33', 'y34', 'y35', 'y36', 'y37', 'y38', 'y39']\n",
      "#vars: 43\n"
     ]
    }
   ],
   "source": [
    "print(cfg.ID_list)\n",
    "print('#vars:', len(cfg.ID_list))"
   ]
  },
  {
   "cell_type": "code",
   "execution_count": 84,
   "id": "rubber-arena",
   "metadata": {},
   "outputs": [
    {
     "name": "stdout",
     "output_type": "stream",
     "text": [
      "Computation completed in  0.8901869297027588\n",
      "N. components: 8\n"
     ]
    },
    {
     "data": {
      "text/plain": [
       "array([-1.6015656,  0.695174 ,  0.4535055], dtype=float32)"
      ]
     },
     "execution_count": 84,
     "metadata": {},
     "output_type": "execute_result"
    }
   ],
   "source": [
    "times = []\n",
    "\n",
    "for i in range(num_rep):\n",
    "    start = time()\n",
    "    output_dist = start_SOGA(cfg)\n",
    "    end = time()\n",
    "    times.append(end-start)\n",
    "    \n",
    "print('Computation completed in ', np.mean(times))\n",
    "print('N. components:', output_dist.gm.n_comp())\n",
    "\n",
    "output_dist.gm.mean()[:3]"
   ]
  },
  {
   "cell_type": "markdown",
   "id": "still-routine",
   "metadata": {},
   "source": [
    "# Gauss Examples"
   ]
  },
  {
   "cell_type": "markdown",
   "id": "chubby-boundary",
   "metadata": {},
   "source": [
    "## BernoulliGauss"
   ]
  },
  {
   "cell_type": "code",
   "execution_count": 78,
   "id": "ready-mandate",
   "metadata": {},
   "outputs": [
    {
     "name": "stdout",
     "output_type": "stream",
     "text": [
      "Time to produce cfg:  0.011004924774169922\n"
     ]
    }
   ],
   "source": [
    "start = time()\n",
    "cfg = produce_cfg('Gauss/BernoulliGauss')\n",
    "end = time()\n",
    "\n",
    "print('Time to produce cfg: ', end-start)"
   ]
  },
  {
   "cell_type": "code",
   "execution_count": 79,
   "id": "cordless-catering",
   "metadata": {
    "scrolled": true
   },
   "outputs": [
    {
     "data": {
      "text/plain": [
       "['theta', 'y']"
      ]
     },
     "execution_count": 79,
     "metadata": {},
     "output_type": "execute_result"
    }
   ],
   "source": [
    "cfg.ID_list"
   ]
  },
  {
   "cell_type": "code",
   "execution_count": 80,
   "id": "intended-attachment",
   "metadata": {
    "scrolled": true
   },
   "outputs": [
    {
     "name": "stdout",
     "output_type": "stream",
     "text": [
      "Computation completed in  0.06588220596313477\n",
      "N. components: 1\n"
     ]
    },
    {
     "data": {
      "text/plain": [
       "-0.7532570956172188"
      ]
     },
     "execution_count": 80,
     "metadata": {},
     "output_type": "execute_result"
    }
   ],
   "source": [
    "times = []\n",
    "\n",
    "for i in range(num_rep):\n",
    "    start = time()\n",
    "    output_dist = start_SOGA(cfg)\n",
    "    end = time()\n",
    "    times.append(end-start)\n",
    "    \n",
    "print('Computation completed in ', np.mean(times))\n",
    "print('N. components:', output_dist.gm.n_comp())\n",
    "\n",
    "output_dist.gm.mean()[0]"
   ]
  },
  {
   "cell_type": "markdown",
   "id": "impressive-insured",
   "metadata": {},
   "source": [
    "## ClickGraphGauss"
   ]
  },
  {
   "cell_type": "code",
   "execution_count": 81,
   "id": "combined-international",
   "metadata": {},
   "outputs": [
    {
     "name": "stdout",
     "output_type": "stream",
     "text": [
      "Time to produce cfg:  0.02284693717956543\n"
     ]
    }
   ],
   "source": [
    "start = time()\n",
    "cfg = produce_cfg('Gauss/ClickGraphGauss')\n",
    "end = time()\n",
    "\n",
    "print('Time to produce cfg: ', end-start)"
   ]
  },
  {
   "cell_type": "code",
   "execution_count": 82,
   "id": "wrong-mileage",
   "metadata": {
    "scrolled": true
   },
   "outputs": [
    {
     "data": {
      "text/plain": [
       "['simAll', 'sim', 'beta1', 'beta2', 'y0', 'y1']"
      ]
     },
     "execution_count": 82,
     "metadata": {},
     "output_type": "execute_result"
    }
   ],
   "source": [
    "cfg.ID_list"
   ]
  },
  {
   "cell_type": "code",
   "execution_count": 83,
   "id": "informed-consumption",
   "metadata": {
    "scrolled": true
   },
   "outputs": [
    {
     "name": "stdout",
     "output_type": "stream",
     "text": [
      "Computation completed in  69.29225778579712\n",
      "N. components: 32\n"
     ]
    },
    {
     "data": {
      "text/plain": [
       "0.8955243258596454"
      ]
     },
     "execution_count": 83,
     "metadata": {},
     "output_type": "execute_result"
    }
   ],
   "source": [
    "times = []\n",
    "\n",
    "for i in range(num_rep):\n",
    "    start = time()\n",
    "    output_dist = start_SOGA(cfg)\n",
    "    end = time()\n",
    "    times.append(end-start)\n",
    "    \n",
    "print('Computation completed in ', np.mean(times))\n",
    "print('N. components:', output_dist.gm.n_comp())\n",
    "\n",
    "output_dist.gm.mean()[0]"
   ]
  },
  {
   "cell_type": "markdown",
   "id": "hungry-culture",
   "metadata": {},
   "source": [
    "## ClinicalTrialGauss"
   ]
  },
  {
   "cell_type": "code",
   "execution_count": 84,
   "id": "beneficial-reform",
   "metadata": {},
   "outputs": [
    {
     "name": "stdout",
     "output_type": "stream",
     "text": [
      "Time to produce cfg:  0.02126455307006836\n"
     ]
    }
   ],
   "source": [
    "start = time()\n",
    "cfg = produce_cfg('Gauss/ClinicalTrialGauss')\n",
    "end = time()\n",
    "\n",
    "print('Time to produce cfg: ', end-start)"
   ]
  },
  {
   "cell_type": "code",
   "execution_count": 85,
   "id": "useful-burning",
   "metadata": {
    "scrolled": true
   },
   "outputs": [
    {
     "data": {
      "text/plain": [
       "['isEff', 'probTreated', 'probContr', 'ycontr', 'ytreat']"
      ]
     },
     "execution_count": 85,
     "metadata": {},
     "output_type": "execute_result"
    }
   ],
   "source": [
    "cfg.ID_list"
   ]
  },
  {
   "cell_type": "code",
   "execution_count": 86,
   "id": "declared-contamination",
   "metadata": {
    "scrolled": true
   },
   "outputs": [
    {
     "name": "stdout",
     "output_type": "stream",
     "text": [
      "Computation completed in  3.171574354171753\n",
      "N. components: 2\n"
     ]
    },
    {
     "data": {
      "text/plain": [
       "0.7612237232813578"
      ]
     },
     "execution_count": 86,
     "metadata": {},
     "output_type": "execute_result"
    }
   ],
   "source": [
    "times = []\n",
    "\n",
    "for i in range(num_rep):\n",
    "    start = time()\n",
    "    output_dist = start_SOGA(cfg)\n",
    "    end = time()\n",
    "    times.append(end-start)\n",
    "    \n",
    "print('Computation completed in ', np.mean(times))\n",
    "print('N. components:', output_dist.gm.n_comp())\n",
    "\n",
    "output_dist.gm.mean()[0]"
   ]
  },
  {
   "cell_type": "markdown",
   "id": "attended-marsh",
   "metadata": {},
   "source": [
    "## CoinBiasGauss"
   ]
  },
  {
   "cell_type": "code",
   "execution_count": 87,
   "id": "alpha-banana",
   "metadata": {},
   "outputs": [
    {
     "name": "stdout",
     "output_type": "stream",
     "text": [
      "Time to produce cfg:  0.012999534606933594\n"
     ]
    }
   ],
   "source": [
    "start = time()\n",
    "cfg = produce_cfg('Gauss/CoinBiasGauss')\n",
    "end = time()\n",
    "\n",
    "print('Time to produce cfg: ', end-start)"
   ]
  },
  {
   "cell_type": "code",
   "execution_count": 88,
   "id": "ready-headset",
   "metadata": {
    "scrolled": true
   },
   "outputs": [
    {
     "data": {
      "text/plain": [
       "['theta', 'y']"
      ]
     },
     "execution_count": 88,
     "metadata": {},
     "output_type": "execute_result"
    }
   ],
   "source": [
    "cfg.ID_list"
   ]
  },
  {
   "cell_type": "code",
   "execution_count": 89,
   "id": "enclosed-association",
   "metadata": {
    "scrolled": true
   },
   "outputs": [
    {
     "name": "stdout",
     "output_type": "stream",
     "text": [
      "Computation completed in  0.04368233680725098\n",
      "N. components: 1\n"
     ]
    },
    {
     "data": {
      "text/plain": [
       "0.19787983308028412"
      ]
     },
     "execution_count": 89,
     "metadata": {},
     "output_type": "execute_result"
    }
   ],
   "source": [
    "times = []\n",
    "\n",
    "for i in range(num_rep):\n",
    "    start = time()\n",
    "    output_dist = start_SOGA(cfg)\n",
    "    end = time()\n",
    "    times.append(end-start)\n",
    "    \n",
    "print('Computation completed in ', np.mean(times))\n",
    "print('N. components:', output_dist.gm.n_comp())\n",
    "\n",
    "output_dist.gm.mean()[0]"
   ]
  },
  {
   "cell_type": "markdown",
   "id": "christian-variance",
   "metadata": {},
   "source": [
    "## SurveyUnbiasGauss"
   ]
  },
  {
   "cell_type": "code",
   "execution_count": 90,
   "id": "irish-edmonton",
   "metadata": {},
   "outputs": [
    {
     "name": "stdout",
     "output_type": "stream",
     "text": [
      "Time to produce cfg:  0.01800060272216797\n"
     ]
    }
   ],
   "source": [
    "start = time()\n",
    "cfg = produce_cfg('Gauss/SurveyUnbiasGauss')\n",
    "end = time()\n",
    "\n",
    "print('Time to produce cfg: ', end-start)"
   ]
  },
  {
   "cell_type": "code",
   "execution_count": 91,
   "id": "interested-launch",
   "metadata": {
    "scrolled": true
   },
   "outputs": [
    {
     "data": {
      "text/plain": [
       "['bias1', 'bias2', 'yb1', 'yb2']"
      ]
     },
     "execution_count": 91,
     "metadata": {},
     "output_type": "execute_result"
    }
   ],
   "source": [
    "cfg.ID_list"
   ]
  },
  {
   "cell_type": "code",
   "execution_count": 92,
   "id": "after-trademark",
   "metadata": {
    "scrolled": true
   },
   "outputs": [
    {
     "name": "stdout",
     "output_type": "stream",
     "text": [
      "Computation completed in  0.05299973487854004\n",
      "N. components: 1\n"
     ]
    },
    {
     "data": {
      "text/plain": [
       "1.5303404369003732"
      ]
     },
     "execution_count": 92,
     "metadata": {},
     "output_type": "execute_result"
    }
   ],
   "source": [
    "times = []\n",
    "\n",
    "for i in range(num_rep):\n",
    "    start = time()\n",
    "    output_dist = start_SOGA(cfg)\n",
    "    end = time()\n",
    "    times.append(end-start)\n",
    "    \n",
    "print('Computation completed in ', np.mean(times))\n",
    "print('N. components:', output_dist.gm.n_comp())\n",
    "\n",
    "output_dist.gm.mean()[0]"
   ]
  },
  {
   "cell_type": "markdown",
   "id": "impossible-contest",
   "metadata": {},
   "source": [
    "## ExpGauss"
   ]
  },
  {
   "cell_type": "code",
   "execution_count": 93,
   "id": "artistic-afghanistan",
   "metadata": {},
   "outputs": [
    {
     "name": "stdout",
     "output_type": "stream",
     "text": [
      "Time to produce cfg:  0.006001472473144531\n"
     ]
    }
   ],
   "source": [
    "start = time()\n",
    "cfg = produce_cfg('Gauss/Exponential')\n",
    "end = time()\n",
    "\n",
    "print('Time to produce cfg: ', end-start)"
   ]
  },
  {
   "cell_type": "code",
   "execution_count": 94,
   "id": "plastic-layer",
   "metadata": {
    "scrolled": true
   },
   "outputs": [
    {
     "data": {
      "text/plain": [
       "['expon', 'norm', 'res']"
      ]
     },
     "execution_count": 94,
     "metadata": {},
     "output_type": "execute_result"
    }
   ],
   "source": [
    "cfg.ID_list"
   ]
  },
  {
   "cell_type": "code",
   "execution_count": 95,
   "id": "ideal-maldives",
   "metadata": {
    "scrolled": false
   },
   "outputs": [
    {
     "name": "stdout",
     "output_type": "stream",
     "text": [
      "Computation completed in  0.013998031616210938\n",
      "N. components: 3\n"
     ]
    },
    {
     "data": {
      "text/plain": [
       "array([ 1.14813365, 10.02380349, 11.50223372])"
      ]
     },
     "execution_count": 95,
     "metadata": {},
     "output_type": "execute_result"
    }
   ],
   "source": [
    "times = []\n",
    "\n",
    "for i in range(num_rep):\n",
    "    start = time()\n",
    "    output_dist = start_SOGA(cfg)\n",
    "    end = time()\n",
    "    times.append(end-start)\n",
    "    \n",
    "print('Computation completed in ', np.mean(times))\n",
    "print('N. components:', output_dist.gm.n_comp())\n",
    "\n",
    "output_dist.gm.mean()"
   ]
  },
  {
   "cell_type": "markdown",
   "id": "usual-layer",
   "metadata": {},
   "source": [
    "## LaplaceGauss"
   ]
  },
  {
   "cell_type": "code",
   "execution_count": 96,
   "id": "sweet-lingerie",
   "metadata": {},
   "outputs": [
    {
     "name": "stdout",
     "output_type": "stream",
     "text": [
      "Time to produce cfg:  0.004998683929443359\n"
     ]
    }
   ],
   "source": [
    "start = time()\n",
    "cfg = produce_cfg('Gauss/Laplace')\n",
    "end = time()\n",
    "\n",
    "print('Time to produce cfg: ', end-start)"
   ]
  },
  {
   "cell_type": "code",
   "execution_count": 97,
   "id": "radical-filter",
   "metadata": {
    "scrolled": true
   },
   "outputs": [
    {
     "data": {
      "text/plain": [
       "['lap', 'mean', 'res']"
      ]
     },
     "execution_count": 97,
     "metadata": {},
     "output_type": "execute_result"
    }
   ],
   "source": [
    "cfg.ID_list"
   ]
  },
  {
   "cell_type": "code",
   "execution_count": 98,
   "id": "numerical-leone",
   "metadata": {
    "scrolled": true
   },
   "outputs": [
    {
     "name": "stdout",
     "output_type": "stream",
     "text": [
      "Computation completed in  0.01303410530090332\n",
      "N. components: 2\n"
     ]
    },
    {
     "data": {
      "text/plain": [
       "array([0.79427045, 0.52436254, 1.31863306])"
      ]
     },
     "execution_count": 98,
     "metadata": {},
     "output_type": "execute_result"
    }
   ],
   "source": [
    "times = []\n",
    "\n",
    "for i in range(num_rep):\n",
    "    start = time()\n",
    "    output_dist = start_SOGA(cfg)\n",
    "    end = time()\n",
    "    times.append(end-start)\n",
    "    \n",
    "print('Computation completed in ', np.mean(times))\n",
    "print('N. components:', output_dist.gm.n_comp())\n",
    "\n",
    "output_dist.gm.mean()"
   ]
  },
  {
   "cell_type": "markdown",
   "id": "renewable-alcohol",
   "metadata": {},
   "source": [
    "## Altermu2Gauss"
   ]
  },
  {
   "cell_type": "code",
   "execution_count": 99,
   "id": "measured-musician",
   "metadata": {},
   "outputs": [
    {
     "name": "stdout",
     "output_type": "stream",
     "text": [
      "Time to produce cfg:  0.012006282806396484\n"
     ]
    }
   ],
   "source": [
    "start = time()\n",
    "cfg = produce_cfg('Gauss/Altermu2Gauss')\n",
    "end = time()\n",
    "\n",
    "print('Time to produce cfg: ', end-start)"
   ]
  },
  {
   "cell_type": "code",
   "execution_count": 100,
   "id": "quality-rider",
   "metadata": {
    "scrolled": true
   },
   "outputs": [
    {
     "data": {
      "text/plain": [
       "['y[0]',\n",
       " 'y[1]',\n",
       " 'y[2]',\n",
       " 'y[3]',\n",
       " 'y[4]',\n",
       " 'y[5]',\n",
       " 'y[6]',\n",
       " 'y[7]',\n",
       " 'y[8]',\n",
       " 'y[9]',\n",
       " 'y[10]',\n",
       " 'y[11]',\n",
       " 'y[12]',\n",
       " 'y[13]',\n",
       " 'y[14]',\n",
       " 'y[15]',\n",
       " 'y[16]',\n",
       " 'y[17]',\n",
       " 'y[18]',\n",
       " 'y[19]',\n",
       " 'y[20]',\n",
       " 'y[21]',\n",
       " 'y[22]',\n",
       " 'y[23]',\n",
       " 'y[24]',\n",
       " 'y[25]',\n",
       " 'y[26]',\n",
       " 'y[27]',\n",
       " 'y[28]',\n",
       " 'y[29]',\n",
       " 'y[30]',\n",
       " 'y[31]',\n",
       " 'y[32]',\n",
       " 'y[33]',\n",
       " 'y[34]',\n",
       " 'y[35]',\n",
       " 'y[36]',\n",
       " 'y[37]',\n",
       " 'y[38]',\n",
       " 'y[39]',\n",
       " 'w1',\n",
       " 'w2']"
      ]
     },
     "execution_count": 100,
     "metadata": {},
     "output_type": "execute_result"
    }
   ],
   "source": [
    "cfg.ID_list"
   ]
  },
  {
   "cell_type": "code",
   "execution_count": 101,
   "id": "respiratory-purpose",
   "metadata": {
    "scrolled": true
   },
   "outputs": [
    {
     "name": "stdout",
     "output_type": "stream",
     "text": [
      "Computation completed in  0.12274360656738281\n",
      "N. components: 1\n"
     ]
    },
    {
     "data": {
      "text/plain": [
       "-9.844197"
      ]
     },
     "execution_count": 101,
     "metadata": {},
     "output_type": "execute_result"
    }
   ],
   "source": [
    "times = []\n",
    "\n",
    "for i in range(num_rep):\n",
    "    start = time()\n",
    "    output_dist = start_SOGA(cfg)\n",
    "    end = time()\n",
    "    times.append(end-start)\n",
    "    \n",
    "print('Computation completed in ', np.mean(times))\n",
    "print('N. components:', output_dist.gm.n_comp())\n",
    "\n",
    "output_dist.gm.mean()[-2]"
   ]
  },
  {
   "cell_type": "markdown",
   "id": "horizontal-owner",
   "metadata": {},
   "source": [
    "## NormalMixturesGauss"
   ]
  },
  {
   "cell_type": "code",
   "execution_count": 102,
   "id": "prescribed-outreach",
   "metadata": {},
   "outputs": [
    {
     "name": "stdout",
     "output_type": "stream",
     "text": [
      "Time to produce cfg:  0.023006916046142578\n"
     ]
    }
   ],
   "source": [
    "start = time()\n",
    "cfg = produce_cfg('Gauss/NormalMixtureGauss')\n",
    "end = time()\n",
    "\n",
    "print('Time to produce cfg: ', end-start)"
   ]
  },
  {
   "cell_type": "code",
   "execution_count": 103,
   "id": "satisfied-hayes",
   "metadata": {
    "scrolled": true
   },
   "outputs": [
    {
     "data": {
      "text/plain": [
       "['theta', 'mu1', 'mu2', 'y']"
      ]
     },
     "execution_count": 103,
     "metadata": {},
     "output_type": "execute_result"
    }
   ],
   "source": [
    "cfg.ID_list"
   ]
  },
  {
   "cell_type": "code",
   "execution_count": 104,
   "id": "subjective-sight",
   "metadata": {
    "scrolled": true
   },
   "outputs": [],
   "source": [
    "#times = []\n",
    "#\n",
    "#for i in range(1):\n",
    "#    start = time()\n",
    "#    output_dist = start_SOGA(cfg)\n",
    "#    end = time()\n",
    "#    times.append(end-start)\n",
    "#    \n",
    "#print('Computation completed in ', np.mean(times))\n",
    "#print('N. components:', output_dist.gm.n_comp())\n",
    "#\n",
    "#output_dist.gm.mean()"
   ]
  },
  {
   "cell_type": "markdown",
   "id": "damaged-detroit",
   "metadata": {},
   "source": [
    "## RadarGauss"
   ]
  },
  {
   "cell_type": "code",
   "execution_count": 105,
   "id": "identified-battlefield",
   "metadata": {},
   "outputs": [
    {
     "name": "stdout",
     "output_type": "stream",
     "text": [
      "Time to produce cfg:  0.032080888748168945\n"
     ]
    }
   ],
   "source": [
    "start = time()\n",
    "cfg = produce_cfg('Gauss/RadarQueryGauss')\n",
    "end = time()\n",
    "\n",
    "print('Time to produce cfg: ', end-start)"
   ]
  },
  {
   "cell_type": "code",
   "execution_count": 106,
   "id": "mexican-nurse",
   "metadata": {
    "scrolled": true
   },
   "outputs": [
    {
     "data": {
      "text/plain": [
       "['b0', 'b1', 'x0', 'x1', 'x', 'y', 'o0', 'o1']"
      ]
     },
     "execution_count": 106,
     "metadata": {},
     "output_type": "execute_result"
    }
   ],
   "source": [
    "cfg.ID_list"
   ]
  },
  {
   "cell_type": "code",
   "execution_count": 107,
   "id": "exceptional-distributor",
   "metadata": {
    "scrolled": true
   },
   "outputs": [
    {
     "name": "stdout",
     "output_type": "stream",
     "text": [
      "Computation completed in  0.060956716537475586\n",
      "N. components: 4\n"
     ]
    },
    {
     "data": {
      "text/plain": [
       "array([ 0.99999994,  0.99999994,  5.9664793 ,  5.9664793 , -1.7839675 ,\n",
       "        0.79776406,  5.        ,  4.6128087 ], dtype=float32)"
      ]
     },
     "execution_count": 107,
     "metadata": {},
     "output_type": "execute_result"
    }
   ],
   "source": [
    "times = []\n",
    "\n",
    "for i in range(num_rep):\n",
    "    start = time()\n",
    "    output_dist = start_SOGA(cfg)\n",
    "    end = time()\n",
    "    times.append(end-start)\n",
    "    \n",
    "print('Computation completed in ', np.mean(times))\n",
    "print('N. components:', output_dist.gm.n_comp())\n",
    "\n",
    "output_dist.gm.mean()"
   ]
  },
  {
   "cell_type": "markdown",
   "id": "early-appendix",
   "metadata": {},
   "source": [
    "## TimeSeries Gauss"
   ]
  },
  {
   "cell_type": "code",
   "execution_count": 108,
   "id": "mineral-summer",
   "metadata": {},
   "outputs": [
    {
     "name": "stdout",
     "output_type": "stream",
     "text": [
      "Time to produce cfg:  0.10160613059997559\n"
     ]
    }
   ],
   "source": [
    "start = time()\n",
    "cfg = produce_cfg('Gauss/TimeSeriesGauss')\n",
    "end = time()\n",
    "\n",
    "print('Time to produce cfg: ', end-start)"
   ]
  },
  {
   "cell_type": "code",
   "execution_count": 109,
   "id": "optical-sterling",
   "metadata": {
    "scrolled": true
   },
   "outputs": [
    {
     "data": {
      "text/plain": [
       "['a',\n",
       " 'b',\n",
       " 'lamb',\n",
       " 'y0',\n",
       " 'y1',\n",
       " 'y2',\n",
       " 'y3',\n",
       " 'y4',\n",
       " 'y5',\n",
       " 'y6',\n",
       " 'y7',\n",
       " 'y8',\n",
       " 'y9',\n",
       " 'y10',\n",
       " 'y11',\n",
       " 'y12',\n",
       " 'y13',\n",
       " 'y14',\n",
       " 'y15',\n",
       " 'y16',\n",
       " 'y17',\n",
       " 'y18',\n",
       " 'y19',\n",
       " 'y20',\n",
       " 'y21',\n",
       " 'y22',\n",
       " 'y23',\n",
       " 'y24',\n",
       " 'y25',\n",
       " 'y26',\n",
       " 'y27',\n",
       " 'y28',\n",
       " 'y29',\n",
       " 'y30',\n",
       " 'y31',\n",
       " 'y32',\n",
       " 'y33',\n",
       " 'y34',\n",
       " 'y35',\n",
       " 'y36',\n",
       " 'y37',\n",
       " 'y38',\n",
       " 'y39']"
      ]
     },
     "execution_count": 109,
     "metadata": {},
     "output_type": "execute_result"
    }
   ],
   "source": [
    "cfg.ID_list"
   ]
  },
  {
   "cell_type": "code",
   "execution_count": 110,
   "id": "stuffed-burst",
   "metadata": {
    "scrolled": true
   },
   "outputs": [
    {
     "name": "stdout",
     "output_type": "stream",
     "text": [
      "Computation completed in  0.17213821411132812\n",
      "N. components: 1\n"
     ]
    },
    {
     "data": {
      "text/plain": [
       "array([-2.3806071 ,  0.638875  ,  0.15277529, -1.0907003 , -2.4951322 ,\n",
       "       -2.079189  , -3.3462107 , -3.2190576 , -3.8483515 , -4.145916  ,\n",
       "       -2.170857  , -2.72986   , -2.3541741 , -3.0579832 , -2.853604  ,\n",
       "       -2.9261494 , -2.6771345 , -2.9773197 , -4.75105   , -3.2939904 ,\n",
       "       -4.1162605 , -4.080864  , -3.347433  , -3.5929496 , -1.7048937 ,\n",
       "       -3.5229118 , -4.1394463 , -4.049923  , -3.717073  , -2.6830206 ,\n",
       "       -3.2192028 , -1.7822183 , -1.7138561 , -3.1528468 , -3.2609491 ,\n",
       "       -2.9224002 , -2.4018636 , -3.1697333 , -4.0054073 , -2.3262532 ,\n",
       "       -1.7482764 , -1.0571622 , -3.4453678 ], dtype=float32)"
      ]
     },
     "execution_count": 110,
     "metadata": {},
     "output_type": "execute_result"
    }
   ],
   "source": [
    "times = []\n",
    "\n",
    "for i in range(num_rep):\n",
    "    start = time()\n",
    "    output_dist = start_SOGA(cfg)\n",
    "    end = time()\n",
    "    times.append(end-start)\n",
    "    \n",
    "print('Computation completed in ', np.mean(times))\n",
    "print('N. components:', output_dist.gm.n_comp())\n",
    "\n",
    "output_dist.gm.mean()"
   ]
  },
  {
   "cell_type": "markdown",
   "id": "cloudy-halifax",
   "metadata": {},
   "source": [
    "# SpikeAndSlab"
   ]
  },
  {
   "cell_type": "markdown",
   "id": "related-drinking",
   "metadata": {},
   "source": [
    "## Generating Data"
   ]
  },
  {
   "cell_type": "code",
   "execution_count": 30,
   "id": "available-classroom",
   "metadata": {},
   "outputs": [],
   "source": [
    "from scipy.stats import multivariate_normal as mvnorm\n",
    "from scipy.stats import norm\n",
    "from scipy.stats import bernoulli as bern"
   ]
  },
  {
   "cell_type": "code",
   "execution_count": 40,
   "id": "meaning-voltage",
   "metadata": {},
   "outputs": [
    {
     "data": {
      "text/plain": [
       "array([[ 0.29, -0.34,  0.9 , -0.13,  2.16, -0.84,  0.02,  0.09,  1.62,\n",
       "         1.43, -0.33,  1.06, -0.37,  1.36, -1.13,  0.78,  0.35,  0.23,\n",
       "        -0.78,  1.61, -2.91, -0.87, -0.44, -1.84, -1.75, -0.45,  1.95,\n",
       "        -0.99, -0.51,  0.08,  0.75, -0.2 ,  1.39,  0.6 , -0.26, -0.92,\n",
       "         1.26,  0.71, -2.11,  1.11],\n",
       "       [ 0.17,  0.11, -0.98,  1.29, -2.17, -0.99,  0.69, -0.31, -0.45,\n",
       "        -0.33, -0.21,  0.43, -0.76, -0.93,  2.16,  0.4 ,  0.79,  1.49,\n",
       "         0.76,  0.37,  0.12,  1.07,  1.4 ,  0.14,  0.76,  1.37,  0.1 ,\n",
       "        -0.05, -1.24, -0.35,  0.33,  0.6 , -0.35,  0.62,  0.36,  0.2 ,\n",
       "        -0.06, -0.01,  0.35,  0.57],\n",
       "       [-0.48,  0.27,  0.45,  0.37, -0.13,  0.38,  1.51,  0.56,  0.63,\n",
       "        -0.5 ,  0.25, -1.05, -0.93, -0.47, -0.42, -0.28,  0.11, -0.76,\n",
       "         0.81,  1.07,  0.72, -2.66,  0.03,  1.37, -0.29, -0.48, -0.56,\n",
       "        -0.85,  0.88,  0.85, -0.86,  0.25, -0.34,  0.17, -1.12,  1.09,\n",
       "        -0.59, -0.21, -0.25,  1.19],\n",
       "       [ 0.49,  1.03, -0.68,  0.52,  2.  ,  0.66, -1.01, -1.34,  0.16,\n",
       "        -0.06,  0.48, -0.76,  0.98,  0.53,  0.67,  1.39,  1.48,  1.5 ,\n",
       "         0.97,  2.57, -1.45, -1.04, -0.72,  0.97,  0.35,  0.84,  0.59,\n",
       "         1.08, -1.98,  0.76,  0.29,  0.61,  1.28, -0.24, -0.45,  0.4 ,\n",
       "         0.95,  1.04,  0.2 , -0.01],\n",
       "       [ 0.98, -0.62,  0.32, -0.14, -0.28, -0.49, -0.34, -0.05,  1.13,\n",
       "        -0.02,  0.29, -1.81,  0.1 , -0.81, -0.5 , -0.15,  0.21,  1.21,\n",
       "        -0.38, -0.45,  1.65,  0.03,  1.56,  0.65, -1.01,  0.85, -1.27,\n",
       "        -0.6 ,  0.79,  0.11, -0.45, -0.86, -0.52,  0.16,  0.08, -1.83,\n",
       "         0.83, -1.31, -0.83,  0.45],\n",
       "       [ 0.43, -0.16,  1.2 , -0.11, -0.37, -0.26,  1.46, -0.32, -0.47,\n",
       "         0.61,  0.52, -0.15, -0.36, -0.56,  0.44, -0.34, -0.78, -0.02,\n",
       "        -1.46,  0.5 , -0.55,  1.53, -0.22, -0.41,  0.66,  0.04,  1.61,\n",
       "        -0.79, -0.66, -0.01, -0.89,  1.91, -0.45, -0.44,  0.91,  1.11,\n",
       "        -1.57, -0.36,  0.53, -0.05],\n",
       "       [ 0.33,  1.13,  0.01, -0.17,  1.1 , -0.01,  0.22, -0.5 , -0.8 ,\n",
       "         0.9 , -1.34, -0.4 ,  0.59, -0.8 ,  1.35, -0.31,  0.15,  1.29,\n",
       "         0.23,  1.44, -0.12, -2.26,  0.72,  1.  , -0.71, -0.13,  1.06,\n",
       "         0.05,  0.53,  0.12,  0.76,  1.28, -0.27,  0.95, -1.36, -0.83,\n",
       "        -1.35,  0.31,  0.54, -1.31],\n",
       "       [ 0.07, -1.6 ,  0.61, -1.62, -0.31,  1.01, -0.01, -1.06, -0.08,\n",
       "        -0.62, -0.66, -0.84, -0.14,  0.11,  0.89, -0.71, -0.62,  1.12,\n",
       "        -0.24,  0.27, -0.57,  0.26,  0.12,  1.78,  0.23,  0.95,  0.95,\n",
       "         0.42,  0.77,  1.15,  0.18,  2.46,  0.43,  1.57,  0.42, -0.19,\n",
       "        -0.28, -1.41, -1.29,  0.15],\n",
       "       [-0.18, -0.51,  1.75,  0.95, -1.31,  0.06,  0.  ,  1.05,  1.21,\n",
       "        -1.06, -0.07,  0.59, -1.25, -0.65,  0.59,  0.38, -0.17,  0.23,\n",
       "         0.99,  0.29,  0.34, -2.  ,  0.03,  0.99,  0.46, -0.46,  0.03,\n",
       "        -0.41,  0.36,  1.91,  1.51,  1.12, -0.43,  1.28,  0.34, -0.28,\n",
       "        -0.23,  1.1 ,  0.2 , -1.14]])"
      ]
     },
     "execution_count": 40,
     "metadata": {},
     "output_type": "execute_result"
    }
   ],
   "source": [
    "x = np.around(mvnorm.rvs(mean=np.zeros(9), cov=np.eye(9), size=40),2)\n",
    "x.transpose()"
   ]
  },
  {
   "cell_type": "code",
   "execution_count": 42,
   "id": "executed-glenn",
   "metadata": {},
   "outputs": [],
   "source": [
    "alphas = [2,2,2,0.2,0.2,0.2,0,0,0]"
   ]
  },
  {
   "cell_type": "code",
   "execution_count": 43,
   "id": "impressed-aerospace",
   "metadata": {},
   "outputs": [
    {
     "data": {
      "text/plain": [
       "array([ 1.45942973, -0.04480512,  3.60566958,  4.99889057,  0.21985146,\n",
       "       -0.46470414,  7.73594206,  1.03655178,  2.91669336,  3.06439474,\n",
       "        2.06540694,  1.61315907, -2.56594842,  1.38937506,  3.37299706,\n",
       "        2.82614589,  1.87025812,  3.48153067,  2.81839129,  6.68506526,\n",
       "       -2.41082566, -3.57267313,  2.65813843,  0.49169507, -0.13144864,\n",
       "        3.65874186,  3.93497374, -3.19211798, -0.89805393,  2.4951916 ,\n",
       "        2.31628358,  3.3623023 ,  0.91502152,  3.92867296, -0.65667622,\n",
       "       -0.51357204,  3.39616354,  1.01475427, -3.0406564 ,  8.59976102])"
      ]
     },
     "execution_count": 43,
     "metadata": {},
     "output_type": "execute_result"
    }
   ],
   "source": [
    "y = []\n",
    "for i in range(len(x)):\n",
    "    y.append(1 + norm.rvs() + np.array(alphas).dot(np.array(x[i])))\n",
    "    \n",
    "np.array(y)"
   ]
  },
  {
   "cell_type": "code",
   "execution_count": 46,
   "id": "loaded-adult",
   "metadata": {},
   "outputs": [
    {
     "name": "stdout",
     "output_type": "stream",
     "text": [
      "Time to produce cfg:  0.04700446128845215\n"
     ]
    }
   ],
   "source": [
    "start = time()\n",
    "cfg = produce_cfg('SpikeAndSlab')\n",
    "end = time()\n",
    "\n",
    "print('Time to produce cfg: ', end-start)"
   ]
  },
  {
   "cell_type": "code",
   "execution_count": 47,
   "id": "specified-paradise",
   "metadata": {
    "scrolled": true
   },
   "outputs": [
    {
     "data": {
      "text/plain": [
       "['delta[0]',\n",
       " 'delta[1]',\n",
       " 'delta[2]',\n",
       " 'delta[3]',\n",
       " 'delta[4]',\n",
       " 'delta[5]',\n",
       " 'delta[6]',\n",
       " 'delta[7]',\n",
       " 'delta[8]',\n",
       " 'alpha[0]',\n",
       " 'alpha[1]',\n",
       " 'alpha[2]',\n",
       " 'alpha[3]',\n",
       " 'alpha[4]',\n",
       " 'alpha[5]',\n",
       " 'alpha[6]',\n",
       " 'alpha[7]',\n",
       " 'alpha[8]',\n",
       " 'y[0]',\n",
       " 'y[1]',\n",
       " 'y[2]',\n",
       " 'y[3]',\n",
       " 'y[4]',\n",
       " 'y[5]',\n",
       " 'y[6]',\n",
       " 'y[7]',\n",
       " 'y[8]',\n",
       " 'y[9]',\n",
       " 'y[10]',\n",
       " 'y[11]',\n",
       " 'y[12]',\n",
       " 'y[13]',\n",
       " 'y[14]',\n",
       " 'y[15]',\n",
       " 'y[16]',\n",
       " 'y[17]',\n",
       " 'y[18]',\n",
       " 'y[19]',\n",
       " 'y[20]',\n",
       " 'y[21]',\n",
       " 'y[22]',\n",
       " 'y[23]',\n",
       " 'y[24]',\n",
       " 'y[25]',\n",
       " 'y[26]',\n",
       " 'y[27]',\n",
       " 'y[28]',\n",
       " 'y[29]',\n",
       " 'y[30]',\n",
       " 'y[31]',\n",
       " 'y[32]',\n",
       " 'y[33]',\n",
       " 'y[34]',\n",
       " 'y[35]',\n",
       " 'y[36]',\n",
       " 'y[37]',\n",
       " 'y[38]',\n",
       " 'y[39]',\n",
       " 'w']"
      ]
     },
     "execution_count": 47,
     "metadata": {},
     "output_type": "execute_result"
    }
   ],
   "source": [
    "cfg.ID_list"
   ]
  },
  {
   "cell_type": "code",
   "execution_count": null,
   "id": "creative-heater",
   "metadata": {
    "scrolled": true
   },
   "outputs": [],
   "source": [
    "times = []\n",
    "\n",
    "for i in range(1):\n",
    "    start = time()\n",
    "    output_dist = start_SOGA(cfg)\n",
    "    end = time()\n",
    "    times.append(end-start)\n",
    "    \n",
    "print('Computation completed in ', np.mean(times))\n",
    "print('N. components:', output_dist.gm.n_comp())\n",
    "\n",
    "output_dist.gm.mean()"
   ]
  },
  {
   "cell_type": "code",
   "execution_count": null,
   "id": "acute-driving",
   "metadata": {},
   "outputs": [],
   "source": []
  },
  {
   "cell_type": "code",
   "execution_count": null,
   "id": "animated-today",
   "metadata": {},
   "outputs": [],
   "source": []
  },
  {
   "cell_type": "code",
   "execution_count": null,
   "id": "conditional-refrigerator",
   "metadata": {},
   "outputs": [],
   "source": []
  }
 ],
 "metadata": {
  "kernelspec": {
   "display_name": "Python 3",
   "language": "python",
   "name": "python3"
  },
  "language_info": {
   "codemirror_mode": {
    "name": "ipython",
    "version": 3
   },
   "file_extension": ".py",
   "mimetype": "text/x-python",
   "name": "python",
   "nbconvert_exporter": "python",
   "pygments_lexer": "ipython3",
   "version": "3.8.5"
  },
  "toc": {
   "base_numbering": 1,
   "nav_menu": {},
   "number_sections": true,
   "sideBar": true,
   "skip_h1_title": false,
   "title_cell": "Table of Contents",
   "title_sidebar": "Contents",
   "toc_cell": false,
   "toc_position": {
    "height": "calc(100% - 180px)",
    "left": "10px",
    "top": "150px",
    "width": "341.306px"
   },
   "toc_section_display": true,
   "toc_window_display": false
  }
 },
 "nbformat": 4,
 "nbformat_minor": 5
}
